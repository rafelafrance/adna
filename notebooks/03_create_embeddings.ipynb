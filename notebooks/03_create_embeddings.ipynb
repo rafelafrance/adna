{
 "cells": [
  {
   "cell_type": "markdown",
   "id": "67ceb951-7db5-4a88-aff0-e0561229b6af",
   "metadata": {},
   "source": [
    "# Create Token Embeddings"
   ]
  },
  {
   "cell_type": "code",
   "execution_count": 1,
   "id": "e9576922-2fa0-4aaa-b655-0150583d3b36",
   "metadata": {},
   "outputs": [],
   "source": [
    "import sys\n",
    "\n",
    "sys.path.append('..')"
   ]
  },
  {
   "cell_type": "code",
   "execution_count": 2,
   "id": "256ffc2c-7130-4742-a5f7-03ab9e241599",
   "metadata": {},
   "outputs": [],
   "source": [
    "import sqlite3\n",
    "\n",
    "import pandas as pd\n",
    "from gensim import models, utils\n",
    "from tokenizers import Tokenizer\n",
    "from tqdm import tqdm\n",
    "\n",
    "from adna.pylib import consts"
   ]
  },
  {
   "cell_type": "code",
   "execution_count": 3,
   "id": "1454615c-a0b9-4e11-81be-e196c713d1a3",
   "metadata": {},
   "outputs": [],
   "source": [
    "SQL = consts.DATA_DIR / 'UF46992.sqlite'\n",
    "TOKENIZER = consts.DATA_DIR / 'UF46992.tokenizer.json'\n",
    "EMBEDDINGS = consts.DATA_DIR / 'UF46992.gensim.emb'"
   ]
  },
  {
   "cell_type": "code",
   "execution_count": 4,
   "id": "4fcd3250-0750-46bd-a5c5-a9dfac18bd3c",
   "metadata": {},
   "outputs": [],
   "source": [
    "VECTOR_SIZE = 128  # Keeping things small for now\n",
    "WORKERS = 6"
   ]
  },
  {
   "cell_type": "markdown",
   "id": "8b62e35a-32b1-4521-929b-61305db3fd02",
   "metadata": {},
   "source": [
    "## Create an iterator for feeding the trainer"
   ]
  },
  {
   "cell_type": "code",
   "execution_count": 5,
   "id": "0f602339-cd4a-4a02-b9a3-900709f619ec",
   "metadata": {},
   "outputs": [],
   "source": [
    "class DnaCorpus:\n",
    "    def __iter__(self):\n",
    "        tokenizer = Tokenizer.from_file(str(TOKENIZER))\n",
    "        with sqlite3.connect(SQL) as cxn:\n",
    "            df = pd.read_sql('select seq from seqs', cxn)\n",
    "            for seq in df.seq:\n",
    "                enc = tokenizer.encode(seq)\n",
    "                yield enc.tokens"
   ]
  },
  {
   "cell_type": "markdown",
   "id": "61cb075e-a580-4d89-9d22-2ef98f802c50",
   "metadata": {},
   "source": [
    "## Train the embedding model"
   ]
  },
  {
   "cell_type": "code",
   "execution_count": null,
   "id": "bce34949-f753-4181-9e96-55244e0267cf",
   "metadata": {},
   "outputs": [],
   "source": [
    "model = models.Word2Vec(\n",
    "    sentences=DnaCorpus(),\n",
    "    vector_size=VECTOR_SIZE,\n",
    "    workers=WORKERS,\n",
    "    min_count=0,\n",
    ")"
   ]
  },
  {
   "cell_type": "markdown",
   "id": "975dfea8-6267-427f-9a1d-0eb296ead92e",
   "metadata": {},
   "source": [
    "## Save the embedding model"
   ]
  },
  {
   "cell_type": "code",
   "execution_count": null,
   "id": "cfe3f765-5a99-49b4-9a88-ebb33dc5a037",
   "metadata": {},
   "outputs": [],
   "source": [
    "model.wv.save(str(EMBEDDINGS))"
   ]
  },
  {
   "cell_type": "code",
   "execution_count": null,
   "id": "c575d240-7ad5-4603-bc17-1e89c3d7bc7b",
   "metadata": {},
   "outputs": [],
   "source": [
    "len(model.wv)"
   ]
  },
  {
   "cell_type": "code",
   "execution_count": null,
   "id": "a58ebb21-09c9-470d-8954-b6590737a55d",
   "metadata": {},
   "outputs": [],
   "source": [
    "model.wv['A']"
   ]
  },
  {
   "cell_type": "code",
   "execution_count": null,
   "id": "7c875f18-3e22-4bc7-a059-78ae551da8b8",
   "metadata": {},
   "outputs": [],
   "source": []
  }
 ],
 "metadata": {
  "kernelspec": {
   "display_name": "Python 3 (ipykernel)",
   "language": "python",
   "name": "python3"
  },
  "language_info": {
   "codemirror_mode": {
    "name": "ipython",
    "version": 3
   },
   "file_extension": ".py",
   "mimetype": "text/x-python",
   "name": "python",
   "nbconvert_exporter": "python",
   "pygments_lexer": "ipython3",
   "version": "3.10.4"
  }
 },
 "nbformat": 4,
 "nbformat_minor": 5
}
