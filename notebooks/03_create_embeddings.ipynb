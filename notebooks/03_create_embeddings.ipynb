{
 "cells": [
  {
   "cell_type": "markdown",
   "id": "67ceb951-7db5-4a88-aff0-e0561229b6af",
   "metadata": {},
   "source": [
    "# Create Token Embeddings"
   ]
  },
  {
   "cell_type": "code",
   "execution_count": 1,
   "id": "e9576922-2fa0-4aaa-b655-0150583d3b36",
   "metadata": {},
   "outputs": [],
   "source": [
    "import sys\n",
    "\n",
    "sys.path.append('..')"
   ]
  },
  {
   "cell_type": "code",
   "execution_count": 2,
   "id": "256ffc2c-7130-4742-a5f7-03ab9e241599",
   "metadata": {},
   "outputs": [],
   "source": [
    "import sqlite3\n",
    "\n",
    "import pandas as pd\n",
    "from gensim import models, utils\n",
    "from tokenizers import Tokenizer\n",
    "from tqdm import tqdm\n",
    "\n",
    "from adna.pylib import consts"
   ]
  },
  {
   "cell_type": "code",
   "execution_count": 3,
   "id": "1454615c-a0b9-4e11-81be-e196c713d1a3",
   "metadata": {},
   "outputs": [],
   "source": [
    "SQL = consts.DATA_DIR / 'UF46992.sqlite'\n",
    "TOKENIZER = consts.DATA_DIR / 'UF46992.tokenizer.json'\n",
    "EMBEDDINGS = consts.DATA_DIR / 'UF46992.gensim.emb'"
   ]
  },
  {
   "cell_type": "code",
   "execution_count": 4,
   "id": "4fcd3250-0750-46bd-a5c5-a9dfac18bd3c",
   "metadata": {},
   "outputs": [],
   "source": [
    "VECTOR_SIZE = 128  # Keeping things small for now\n",
    "WORKERS = 6"
   ]
  },
  {
   "cell_type": "markdown",
   "id": "8b62e35a-32b1-4521-929b-61305db3fd02",
   "metadata": {},
   "source": [
    "## Create an iterator for feeding the trainer"
   ]
  },
  {
   "cell_type": "code",
   "execution_count": 5,
   "id": "0f602339-cd4a-4a02-b9a3-900709f619ec",
   "metadata": {},
   "outputs": [],
   "source": [
    "class DnaCorpus:\n",
    "    def __iter__(self):\n",
    "        tokenizer = Tokenizer.from_file(str(TOKENIZER))\n",
    "        with sqlite3.connect(SQL) as cxn:\n",
    "            df = pd.read_sql('select seq from seqs', cxn)\n",
    "            for seq in df.seq:\n",
    "                enc = tokenizer.encode(seq)\n",
    "                yield enc.tokens"
   ]
  },
  {
   "cell_type": "markdown",
   "id": "61cb075e-a580-4d89-9d22-2ef98f802c50",
   "metadata": {},
   "source": [
    "## Train the embedding model"
   ]
  },
  {
   "cell_type": "code",
   "execution_count": 6,
   "id": "bce34949-f753-4181-9e96-55244e0267cf",
   "metadata": {},
   "outputs": [],
   "source": [
    "model = models.Word2Vec(\n",
    "    sentences=DnaCorpus(),\n",
    "    vector_size=VECTOR_SIZE,\n",
    "    workers=WORKERS,\n",
    "    min_count=0,\n",
    ")"
   ]
  },
  {
   "cell_type": "markdown",
   "id": "975dfea8-6267-427f-9a1d-0eb296ead92e",
   "metadata": {},
   "source": [
    "## Save the embedding model"
   ]
  },
  {
   "cell_type": "code",
   "execution_count": 7,
   "id": "cfe3f765-5a99-49b4-9a88-ebb33dc5a037",
   "metadata": {},
   "outputs": [],
   "source": [
    "model.wv.save(str(EMBEDDINGS))"
   ]
  },
  {
   "cell_type": "code",
   "execution_count": 8,
   "id": "c575d240-7ad5-4603-bc17-1e89c3d7bc7b",
   "metadata": {},
   "outputs": [
    {
     "data": {
      "text/plain": [
       "4998"
      ]
     },
     "execution_count": 8,
     "metadata": {},
     "output_type": "execute_result"
    }
   ],
   "source": [
    "len(model.wv)"
   ]
  },
  {
   "cell_type": "code",
   "execution_count": 9,
   "id": "a58ebb21-09c9-470d-8954-b6590737a55d",
   "metadata": {},
   "outputs": [
    {
     "data": {
      "text/plain": [
       "array([-3.148573  ,  3.0176463 ,  3.944402  ,  2.0478578 , -1.2311232 ,\n",
       "       -4.968159  ,  1.5306941 , -1.0481359 ,  0.7687681 ,  0.2744158 ,\n",
       "       -5.0154777 , -3.35976   , -2.1089144 , -1.4445684 ,  3.1185875 ,\n",
       "       -0.10967441,  0.46813488, -0.34797794, -1.4066111 , -0.7476404 ,\n",
       "        1.1855088 , -2.3770523 , -4.4823785 ,  1.0867794 ,  1.1143287 ,\n",
       "        0.11890692,  0.3796609 ,  3.216489  , -0.63060194,  5.165122  ,\n",
       "       -0.506519  ,  2.2266257 , -1.1080312 ,  0.9464418 , -0.2013732 ,\n",
       "       -3.1642244 , -1.9638917 ,  2.5215325 ,  2.840156  , -2.6347342 ,\n",
       "        1.9930321 , -0.4166729 ,  0.25781706, -2.0545137 , -1.8403842 ,\n",
       "        2.607237  ,  0.16682309,  1.8484675 ,  6.2648244 ,  2.8217394 ,\n",
       "       -2.550083  ,  3.015338  ,  1.4118621 , -2.4448884 , -5.9083395 ,\n",
       "       -2.419133  , -2.702717  , -3.5714824 , -2.6342323 , -3.5725007 ,\n",
       "        3.4027436 , -1.2430289 , -2.10639   ,  1.3110543 ,  0.8194913 ,\n",
       "        0.36082622, -1.2697253 ,  0.566665  , -3.3379893 , -2.3102782 ,\n",
       "        1.0164806 , -3.1246622 , -0.2571406 ,  0.6925364 , -0.38335574,\n",
       "       -1.2929357 , -2.4428923 , -1.5448271 ,  2.666461  ,  2.4080412 ,\n",
       "       -4.4607353 , -0.7430359 ,  1.9875454 ,  2.2190459 ,  0.45712212,\n",
       "       -0.14466447, -0.18473148, -1.4148717 , -2.5224276 , -1.7658601 ,\n",
       "       -0.48969012, -1.324482  , -3.561635  ,  0.55276716, -0.7235444 ,\n",
       "        1.6593804 , -1.0170268 ,  0.33370715, -4.0773096 ,  2.8428144 ,\n",
       "        2.90932   , -0.35595384, -3.8066049 , -1.5833359 , -0.890631  ,\n",
       "        3.146676  ,  1.675924  ,  2.7651672 ,  0.8552409 ,  3.8219879 ,\n",
       "       -4.7091746 ,  1.1556864 ,  3.0156746 ,  0.13796584, -4.3052626 ,\n",
       "       -1.1693311 , -1.8079346 , -1.8085167 , -2.264218  ,  0.42373827,\n",
       "        3.3816628 , -1.7180403 , -2.2789087 ,  2.3398252 ,  2.8537354 ,\n",
       "       -2.3637273 ,  1.7823374 , -3.9813197 ], dtype=float32)"
      ]
     },
     "execution_count": 9,
     "metadata": {},
     "output_type": "execute_result"
    }
   ],
   "source": [
    "model.wv['A']"
   ]
  },
  {
   "cell_type": "code",
   "execution_count": null,
   "id": "7c875f18-3e22-4bc7-a059-78ae551da8b8",
   "metadata": {},
   "outputs": [],
   "source": []
  }
 ],
 "metadata": {
  "kernelspec": {
   "display_name": "Python 3 (ipykernel)",
   "language": "python",
   "name": "python3"
  },
  "language_info": {
   "codemirror_mode": {
    "name": "ipython",
    "version": 3
   },
   "file_extension": ".py",
   "mimetype": "text/x-python",
   "name": "python",
   "nbconvert_exporter": "python",
   "pygments_lexer": "ipython3",
   "version": "3.10.4"
  }
 },
 "nbformat": 4,
 "nbformat_minor": 5
}
