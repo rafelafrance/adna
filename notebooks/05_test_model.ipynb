{
 "cells": [
  {
   "cell_type": "markdown",
   "id": "66a78830-561c-4c1b-a298-c6d533ca204b",
   "metadata": {},
   "source": [
    "# Test a RoBERTa model on a hold-out dataset"
   ]
  },
  {
   "cell_type": "code",
   "execution_count": 1,
   "id": "73611640-4288-4fad-9879-226486651ae5",
   "metadata": {},
   "outputs": [],
   "source": [
    "import sys\n",
    "\n",
    "sys.path.append(\"..\")"
   ]
  },
  {
   "cell_type": "code",
   "execution_count": 2,
   "id": "c9c12222-4b79-4a3a-a113-68943abbca86",
   "metadata": {},
   "outputs": [],
   "source": [
    "import pandas as pd\n",
    "from sklearn import metrics\n",
    "from tqdm import tqdm\n",
    "from transformers import (\n",
    "    RobertaForSequenceClassification,\n",
    "    RobertaTokenizerFast,\n",
    "    TextClassificationPipeline,\n",
    ")\n",
    "\n",
    "from adna.pylib import adna_dataset\n",
    "from adna.pylib import consts"
   ]
  },
  {
   "cell_type": "code",
   "execution_count": 3,
   "id": "c5e73c21-d36f-4252-ad81-e3b71a97122d",
   "metadata": {},
   "outputs": [],
   "source": [
    "MODEL_PATH = consts.MT_DIR / \"finetune\" / \"checkpoint-5986\"\n",
    "# MODEL_PATH = consts.MT_DIR / \"train\" / \"checkpoint-16\""
   ]
  },
  {
   "cell_type": "markdown",
   "id": "09a7979d-fdb3-406b-9680-384ec9256782",
   "metadata": {},
   "source": [
    "## Build the tokenizer"
   ]
  },
  {
   "cell_type": "code",
   "execution_count": 4,
   "id": "9109b671-c265-4476-9dc4-3bd8df7f6bd0",
   "metadata": {},
   "outputs": [],
   "source": [
    "tokenizer_path = str(consts.MT_DIR)\n",
    "tokenizer = RobertaTokenizerFast.from_pretrained(tokenizer_path)"
   ]
  },
  {
   "cell_type": "markdown",
   "id": "42760a35-82ac-4dc7-892a-0653d2b9dea4",
   "metadata": {},
   "source": [
    "## Build the dataset"
   ]
  },
  {
   "cell_type": "code",
   "execution_count": 5,
   "id": "ca0f52fa-2bb9-42bc-8dea-5699fe4b4689",
   "metadata": {},
   "outputs": [],
   "source": [
    "SEQS, LABELS = adna_dataset.read_dataset(\"test\", limit=10_000)"
   ]
  },
  {
   "cell_type": "markdown",
   "id": "83bb8893-321e-4dc8-acca-09795b083a05",
   "metadata": {},
   "source": [
    "## Get the trained model"
   ]
  },
  {
   "cell_type": "code",
   "execution_count": 6,
   "id": "3b14c175-7f39-414d-bd91-fbb683e8a876",
   "metadata": {},
   "outputs": [],
   "source": [
    "model = RobertaForSequenceClassification.from_pretrained(\n",
    "    MODEL_PATH, local_files_only=True\n",
    ")"
   ]
  },
  {
   "cell_type": "markdown",
   "id": "672c8db6-3ec4-4f67-8550-548e7099671b",
   "metadata": {},
   "source": [
    "## Build the inference pipeline"
   ]
  },
  {
   "cell_type": "code",
   "execution_count": 7,
   "id": "e589a650-3985-4096-97bb-bbefcae99b89",
   "metadata": {},
   "outputs": [],
   "source": [
    "pipe = TextClassificationPipeline(model=model, tokenizer=tokenizer)"
   ]
  },
  {
   "cell_type": "code",
   "execution_count": 8,
   "id": "5988afa4-4072-4013-85ff-6c04744852db",
   "metadata": {},
   "outputs": [
    {
     "data": {
      "text/plain": [
       "[{'label': 'LABEL_1', 'score': 0.9427714943885803}]"
      ]
     },
     "execution_count": 8,
     "metadata": {},
     "output_type": "execute_result"
    }
   ],
   "source": [
    "pipe(SEQS[0][0])"
   ]
  },
  {
   "cell_type": "markdown",
   "id": "e85f2860-12ee-4d88-ab0b-f5e433106fb4",
   "metadata": {},
   "source": [
    "## Test the model"
   ]
  },
  {
   "cell_type": "code",
   "execution_count": 9,
   "id": "f2a06472-b152-458d-8869-fc34bbcf510f",
   "metadata": {},
   "outputs": [
    {
     "name": "stderr",
     "output_type": "stream",
     "text": [
      "10000it [03:34, 46.56it/s]\n"
     ]
    }
   ],
   "source": [
    "y_true, y_pred = [], []\n",
    "for seq, label in tqdm(zip(SEQS, LABELS)):\n",
    "    y_true.append(label)\n",
    "    pred = pipe(seq)\n",
    "    pred = pred[0][\"label\"]\n",
    "    pred = int(pred[-1])\n",
    "    y_pred.append(pred)"
   ]
  },
  {
   "cell_type": "code",
   "execution_count": 10,
   "id": "75c3e8ff-8bea-4c88-bb10-c475dfbe4565",
   "metadata": {},
   "outputs": [
    {
     "name": "stdout",
     "output_type": "stream",
     "text": [
      "Predicted     0     1\n",
      "Actual               \n",
      "0          7830   496\n",
      "1            74  1600\n"
     ]
    }
   ],
   "source": [
    "y_actual = pd.Series(y_true, name=\"Actual\")\n",
    "y_predicted = pd.Series(y_pred, name=\"Predicted\")\n",
    "\n",
    "print(pd.crosstab(y_actual, y_predicted))"
   ]
  },
  {
   "cell_type": "code",
   "execution_count": 11,
   "id": "1c5dc419-3a28-479f-a703-86a8290a505d",
   "metadata": {},
   "outputs": [
    {
     "data": {
      "text/plain": [
       "0.7633587786259542"
      ]
     },
     "execution_count": 11,
     "metadata": {},
     "output_type": "execute_result"
    }
   ],
   "source": [
    "metrics.precision_score(y_true, y_pred)"
   ]
  },
  {
   "cell_type": "code",
   "execution_count": 12,
   "id": "1a3d7f75-f9d2-4a17-80a3-01cbb856864c",
   "metadata": {},
   "outputs": [
    {
     "data": {
      "text/plain": [
       "0.955794504181601"
      ]
     },
     "execution_count": 12,
     "metadata": {},
     "output_type": "execute_result"
    }
   ],
   "source": [
    "metrics.recall_score(y_true, y_pred)"
   ]
  },
  {
   "cell_type": "code",
   "execution_count": 13,
   "id": "72424abe-109c-46e5-8e49-9b461188b7a9",
   "metadata": {},
   "outputs": [
    {
     "data": {
      "text/plain": [
       "0.8488063660477455"
      ]
     },
     "execution_count": 13,
     "metadata": {},
     "output_type": "execute_result"
    }
   ],
   "source": [
    "metrics.f1_score(y_true, y_pred)"
   ]
  },
  {
   "cell_type": "code",
   "execution_count": 14,
   "id": "4d21f49c-44c8-4480-9586-bc9d72132d39",
   "metadata": {},
   "outputs": [
    {
     "data": {
      "text/plain": [
       "0.943"
      ]
     },
     "execution_count": 14,
     "metadata": {},
     "output_type": "execute_result"
    }
   ],
   "source": [
    "metrics.accuracy_score(y_true, y_pred)"
   ]
  },
  {
   "cell_type": "code",
   "execution_count": null,
   "id": "5d99022d-323f-4925-a13b-6f4aa189a104",
   "metadata": {},
   "outputs": [],
   "source": []
  }
 ],
 "metadata": {
  "kernelspec": {
   "display_name": "Python 3 (ipykernel)",
   "language": "python",
   "name": "python3"
  },
  "language_info": {
   "codemirror_mode": {
    "name": "ipython",
    "version": 3
   },
   "file_extension": ".py",
   "mimetype": "text/x-python",
   "name": "python",
   "nbconvert_exporter": "python",
   "pygments_lexer": "ipython3",
   "version": "3.10.4"
  }
 },
 "nbformat": 4,
 "nbformat_minor": 5
}
