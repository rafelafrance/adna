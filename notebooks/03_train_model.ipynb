{
 "cells": [
  {
   "cell_type": "markdown",
   "id": "67ceb951-7db5-4a88-aff0-e0561229b6af",
   "metadata": {},
   "source": [
    "# Train a RoBERTa model"
   ]
  },
  {
   "cell_type": "code",
   "execution_count": 1,
   "id": "e9576922-2fa0-4aaa-b655-0150583d3b36",
   "metadata": {},
   "outputs": [],
   "source": [
    "import sys\n",
    "\n",
    "sys.path.append('..')"
   ]
  },
  {
   "cell_type": "code",
   "execution_count": 2,
   "id": "256ffc2c-7130-4742-a5f7-03ab9e241599",
   "metadata": {},
   "outputs": [],
   "source": [
    "import sqlite3\n",
    "\n",
    "import pandas as pd\n",
    "import torch\n",
    "from torch.utils.data import Dataset\n",
    "from tqdm import tqdm\n",
    "from tokenizers import ByteLevelBPETokenizer\n",
    "from tokenizers.processors import BertProcessing\n",
    "from transformers import (\n",
    "    DataCollatorForLanguageModeling,\n",
    "    RobertaConfig,\n",
    "    RobertaForMaskedLM,\n",
    "    Trainer,\n",
    "    TrainingArguments,\n",
    ")\n",
    "\n",
    "from adna.pylib import consts"
   ]
  },
  {
   "cell_type": "markdown",
   "id": "45d7ca06-3814-440e-a85b-c35e13889c51",
   "metadata": {},
   "source": [
    "## Build the tokenizer"
   ]
  },
  {
   "cell_type": "code",
   "execution_count": 3,
   "id": "aba6fbe5-4654-4aeb-b886-eba7586ed4bb",
   "metadata": {},
   "outputs": [],
   "source": [
    "tokenizer = ByteLevelBPETokenizer(\n",
    "    str(consts.SUB_DIR / \"vocab.json\"),\n",
    "    str(consts.SUB_DIR / \"merges.txt\"),\n",
    "    lowercase=True,\n",
    ")"
   ]
  },
  {
   "cell_type": "code",
   "execution_count": 4,
   "id": "92806d25-d600-4af8-8c15-b6173c5acd01",
   "metadata": {},
   "outputs": [],
   "source": [
    "tokenizer.post_processor = BertProcessing(\n",
    "    (\"</s>\", tokenizer.token_to_id(\"</s>\")),\n",
    "    (\"<s>\", tokenizer.token_to_id(\"<s>\")),\n",
    ")"
   ]
  },
  {
   "cell_type": "markdown",
   "id": "139c5033-25cf-4536-9887-01f7f978f0e3",
   "metadata": {},
   "source": [
    "## Build the training datasets"
   ]
  },
  {
   "cell_type": "code",
   "execution_count": 5,
   "id": "52947ddd-4d82-4a56-933e-557ea73ad2f6",
   "metadata": {},
   "outputs": [],
   "source": [
    "def get_split(split):\n",
    "    with sqlite3.connect(consts.SQL) as cxn:\n",
    "        sql = 'select * from seqs where split = ?'\n",
    "        df = pd.read_sql(sql, cxn, params=[split])\n",
    "    return df.seq.tolist()"
   ]
  },
  {
   "cell_type": "code",
   "execution_count": 6,
   "id": "4fcd3250-0750-46bd-a5c5-a9dfac18bd3c",
   "metadata": {},
   "outputs": [],
   "source": [
    "class ADnaDataset(Dataset):\n",
    "    step = 1024\n",
    "\n",
    "    def __init__(self, seqs, tokenizer):\n",
    "        self.input_ids = []\n",
    "\n",
    "        for i in tqdm(range(0, len(seqs), self.step)):\n",
    "            batch = tokenizer.encode_batch(seqs[i:i+self.step])\n",
    "            for tokens in batch:\n",
    "                self.input_ids.append(tokens.ids)\n",
    "\n",
    "    def __len__(self):\n",
    "        return len(self.input_ids)\n",
    "\n",
    "    def __getitem__(self, idx):\n",
    "        return torch.tensor(self.input_ids[idx])"
   ]
  },
  {
   "cell_type": "code",
   "execution_count": 7,
   "id": "532c2004-5889-44c1-b6a4-04c2143ca390",
   "metadata": {},
   "outputs": [],
   "source": [
    "train_seqs = get_split('train')\n",
    "eval_seqs = get_split('val')"
   ]
  },
  {
   "cell_type": "code",
   "execution_count": 8,
   "id": "6e16c4cd-a442-4fd1-a2dd-bc1457bea0da",
   "metadata": {},
   "outputs": [
    {
     "name": "stderr",
     "output_type": "stream",
     "text": [
      "100%|███████████████████████████████████████████████████████████████████████████████████████████████████████████████| 6444/6444 [01:05<00:00, 97.91it/s]\n",
      "100%|███████████████████████████████████████████████████████████████████████████████████████████████████████████████| 2148/2148 [00:21<00:00, 98.40it/s]\n"
     ]
    }
   ],
   "source": [
    "train_dataset = ADnaDataset(train_seqs, tokenizer)\n",
    "eval_dataset = ADnaDataset(eval_seqs, tokenizer)"
   ]
  },
  {
   "cell_type": "markdown",
   "id": "3cad08a0-aa75-4192-91be-e2b2083e9105",
   "metadata": {},
   "source": [
    "## Build the model"
   ]
  },
  {
   "cell_type": "code",
   "execution_count": 9,
   "id": "9d4edb84-8a16-4fdc-b37b-fe726babd169",
   "metadata": {},
   "outputs": [],
   "source": [
    "TRAIN_EPOCHS = 10\n",
    "LEARNING_RATE = 1e-4\n",
    "WEIGHT_DECAY = 0.01\n",
    "TRAIN_BATCH_SIZE = 16\n",
    "VALID_BATCH_SIZE = 8\n",
    "SUMMARY_LEN = 7"
   ]
  },
  {
   "cell_type": "code",
   "execution_count": 10,
   "id": "d464ac84-c537-437d-a38a-1b507a9e6888",
   "metadata": {},
   "outputs": [],
   "source": [
    "config = RobertaConfig(\n",
    "    vocab_size=consts.VOCAB_SIZE,\n",
    "    max_position_embeddings=consts.SEQ_LENGTH,\n",
    "    num_hidden_layers=6,\n",
    "    type_vocab_size=1,\n",
    ")"
   ]
  },
  {
   "cell_type": "code",
   "execution_count": 11,
   "id": "f64c22b6-270b-4d93-98a6-87cf0566989e",
   "metadata": {},
   "outputs": [],
   "source": [
    "model = RobertaForMaskedLM(config=config)"
   ]
  },
  {
   "cell_type": "code",
   "execution_count": 12,
   "id": "06e19567-cde6-49c9-a123-9e7ba0300860",
   "metadata": {},
   "outputs": [
    {
     "data": {
      "text/plain": [
       "47028104"
      ]
     },
     "execution_count": 12,
     "metadata": {},
     "output_type": "execute_result"
    }
   ],
   "source": [
    "model.num_parameters()"
   ]
  },
  {
   "cell_type": "code",
   "execution_count": 13,
   "id": "2b5b00c0-9341-4d9c-a6ee-384abfc1dcbe",
   "metadata": {},
   "outputs": [
    {
     "ename": "AttributeError",
     "evalue": "'ByteLevelBPETokenizer' object has no attribute 'mask_token'",
     "output_type": "error",
     "traceback": [
      "\u001b[0;31m---------------------------------------------------------------------------\u001b[0m",
      "\u001b[0;31mAttributeError\u001b[0m                            Traceback (most recent call last)",
      "Input \u001b[0;32mIn [13]\u001b[0m, in \u001b[0;36m<cell line: 1>\u001b[0;34m()\u001b[0m\n\u001b[0;32m----> 1\u001b[0m data_collator \u001b[38;5;241m=\u001b[39m \u001b[43mDataCollatorForLanguageModeling\u001b[49m\u001b[43m(\u001b[49m\n\u001b[1;32m      2\u001b[0m \u001b[43m    \u001b[49m\u001b[43mtokenizer\u001b[49m\u001b[38;5;241;43m=\u001b[39;49m\u001b[43mtokenizer\u001b[49m\u001b[43m,\u001b[49m\u001b[43m \u001b[49m\u001b[43mmlm\u001b[49m\u001b[38;5;241;43m=\u001b[39;49m\u001b[38;5;28;43;01mTrue\u001b[39;49;00m\u001b[43m,\u001b[49m\u001b[43m \u001b[49m\u001b[43mmlm_probability\u001b[49m\u001b[38;5;241;43m=\u001b[39;49m\u001b[38;5;241;43m0.15\u001b[39;49m\u001b[43m,\u001b[49m\n\u001b[1;32m      3\u001b[0m \u001b[43m)\u001b[49m\n",
      "File \u001b[0;32m<string>:9\u001b[0m, in \u001b[0;36m__init__\u001b[0;34m(self, tokenizer, mlm, mlm_probability, pad_to_multiple_of, tf_experimental_compile, return_tensors)\u001b[0m\n",
      "File \u001b[0;32m~/work/other/aDNA/.venv/lib/python3.10/site-packages/transformers/data/data_collator.py:642\u001b[0m, in \u001b[0;36mDataCollatorForLanguageModeling.__post_init__\u001b[0;34m(self)\u001b[0m\n\u001b[1;32m    641\u001b[0m \u001b[38;5;28;01mdef\u001b[39;00m \u001b[38;5;21m__post_init__\u001b[39m(\u001b[38;5;28mself\u001b[39m):\n\u001b[0;32m--> 642\u001b[0m     \u001b[38;5;28;01mif\u001b[39;00m \u001b[38;5;28mself\u001b[39m\u001b[38;5;241m.\u001b[39mmlm \u001b[38;5;129;01mand\u001b[39;00m \u001b[38;5;28;43mself\u001b[39;49m\u001b[38;5;241;43m.\u001b[39;49m\u001b[43mtokenizer\u001b[49m\u001b[38;5;241;43m.\u001b[39;49m\u001b[43mmask_token\u001b[49m \u001b[38;5;129;01mis\u001b[39;00m \u001b[38;5;28;01mNone\u001b[39;00m:\n\u001b[1;32m    643\u001b[0m         \u001b[38;5;28;01mraise\u001b[39;00m \u001b[38;5;167;01mValueError\u001b[39;00m(\n\u001b[1;32m    644\u001b[0m             \u001b[38;5;124m\"\u001b[39m\u001b[38;5;124mThis tokenizer does not have a mask token which is necessary for masked language modeling. \u001b[39m\u001b[38;5;124m\"\u001b[39m\n\u001b[1;32m    645\u001b[0m             \u001b[38;5;124m\"\u001b[39m\u001b[38;5;124mYou should pass `mlm=False` to train on causal language modeling instead.\u001b[39m\u001b[38;5;124m\"\u001b[39m\n\u001b[1;32m    646\u001b[0m         )\n\u001b[1;32m    647\u001b[0m     \u001b[38;5;28;01mif\u001b[39;00m \u001b[38;5;28mself\u001b[39m\u001b[38;5;241m.\u001b[39mtf_experimental_compile:\n",
      "\u001b[0;31mAttributeError\u001b[0m: 'ByteLevelBPETokenizer' object has no attribute 'mask_token'"
     ]
    }
   ],
   "source": [
    "data_collator = DataCollatorForLanguageModeling(\n",
    "    tokenizer=tokenizer, mlm=True, mlm_probability=0.15,\n",
    ")"
   ]
  },
  {
   "cell_type": "code",
   "execution_count": null,
   "id": "d6b06c5f-2388-43c8-9fe5-e89138c94bc0",
   "metadata": {},
   "outputs": [],
   "source": [
    "training_args = TrainingArguments(\n",
    "    output_dir=consts.SUB_DIR,\n",
    "    overwrite_output_dir=True,\n",
    "    evaluation_strategy='epoch',\n",
    "    num_train_epochs=TRAIN_EPOCHS,\n",
    "    learning_rate=LEARNING_RATE,\n",
    "    weight_decay=WEIGHT_DECAY,\n",
    "    per_device_train_batch_size=TRAIN_BATCH_SIZE,\n",
    "    per_device_eval_batch_size=VALID_BATCH_SIZE,\n",
    "    save_steps=8192,\n",
    "    save_total_limit=1,\n",
    ")"
   ]
  },
  {
   "cell_type": "code",
   "execution_count": null,
   "id": "15ab8724-376d-479c-ae98-f62390024fe1",
   "metadata": {},
   "outputs": [],
   "source": [
    "trainer = Trainer(\n",
    "    model=model,\n",
    "    args=training_args,\n",
    "    data_collator=data_collator,\n",
    "    train_dataset=train_dataset,\n",
    "    eval_dataset=eval_dataset,\n",
    ")"
   ]
  },
  {
   "cell_type": "code",
   "execution_count": null,
   "id": "abd42fbb-672e-42af-bb12-070868edfdba",
   "metadata": {},
   "outputs": [],
   "source": [
    "trainer.train()"
   ]
  },
  {
   "cell_type": "code",
   "execution_count": null,
   "id": "d4282616-ddac-4642-b312-7e49529d5439",
   "metadata": {},
   "outputs": [],
   "source": []
  }
 ],
 "metadata": {
  "kernelspec": {
   "display_name": "Python 3 (ipykernel)",
   "language": "python",
   "name": "python3"
  },
  "language_info": {
   "codemirror_mode": {
    "name": "ipython",
    "version": 3
   },
   "file_extension": ".py",
   "mimetype": "text/x-python",
   "name": "python",
   "nbconvert_exporter": "python",
   "pygments_lexer": "ipython3",
   "version": "3.10.4"
  }
 },
 "nbformat": 4,
 "nbformat_minor": 5
}
