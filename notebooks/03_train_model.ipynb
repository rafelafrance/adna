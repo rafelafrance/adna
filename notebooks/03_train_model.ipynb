{
 "cells": [
  {
   "cell_type": "markdown",
   "id": "67ceb951-7db5-4a88-aff0-e0561229b6af",
   "metadata": {},
   "source": [
    "# Train a RoBERTa model"
   ]
  },
  {
   "cell_type": "code",
   "execution_count": 1,
   "id": "e9576922-2fa0-4aaa-b655-0150583d3b36",
   "metadata": {},
   "outputs": [],
   "source": [
    "import sys\n",
    "\n",
    "sys.path.append(\"..\")"
   ]
  },
  {
   "cell_type": "code",
   "execution_count": 2,
   "id": "256ffc2c-7130-4742-a5f7-03ab9e241599",
   "metadata": {},
   "outputs": [],
   "source": [
    "import sqlite3\n",
    "\n",
    "import torch\n",
    "from tokenizers import ByteLevelBPETokenizer\n",
    "from torch import nn\n",
    "from tqdm import tqdm\n",
    "from transformers import (\n",
    "    DataCollatorWithPadding,\n",
    "    RobertaConfig,\n",
    "    RobertaForSequenceClassification,\n",
    "    RobertaTokenizerFast,\n",
    "    Trainer,\n",
    "    TrainingArguments,\n",
    ")\n",
    "\n",
    "from adna.pylib import consts\n",
    "from adna.pylib.datasets import ADnaDataset"
   ]
  },
  {
   "cell_type": "code",
   "execution_count": 3,
   "id": "9d4edb84-8a16-4fdc-b37b-fe726babd169",
   "metadata": {},
   "outputs": [],
   "source": [
    "TRAIN_EPOCHS = 20\n",
    "LEARNING_RATE = 1e-4\n",
    "WEIGHT_DECAY = 0.01\n",
    "TRAIN_BATCH_SIZE = 128\n",
    "VALID_BATCH_SIZE = 128\n",
    "SUMMARY_LEN = 7"
   ]
  },
  {
   "cell_type": "code",
   "execution_count": 4,
   "id": "e1297e22-c40e-44ed-b3fe-7ae937aad368",
   "metadata": {},
   "outputs": [],
   "source": [
    "DEVICE = 'cuda' if torch.has_cuda else 'cpu'"
   ]
  },
  {
   "cell_type": "markdown",
   "id": "45d7ca06-3814-440e-a85b-c35e13889c51",
   "metadata": {},
   "source": [
    "## Build the tokenizer"
   ]
  },
  {
   "cell_type": "code",
   "execution_count": 5,
   "id": "57761d91-ce6d-4ec2-a767-b6c91184dc5a",
   "metadata": {},
   "outputs": [],
   "source": [
    "tokenizer_path = str(consts.SUB_DIR)\n",
    "tokenizer = RobertaTokenizerFast.from_pretrained(tokenizer_path)"
   ]
  },
  {
   "cell_type": "markdown",
   "id": "139c5033-25cf-4536-9887-01f7f978f0e3",
   "metadata": {},
   "source": [
    "## Build the training datasets"
   ]
  },
  {
   "cell_type": "code",
   "execution_count": 6,
   "id": "14b12f62-0a76-4138-b8d8-f6c860a82112",
   "metadata": {},
   "outputs": [],
   "source": [
    "train_dataset = ADnaDataset(\n",
    "    \"train\", tokenizer, rev_comp_rate=consts.REV_COMP_RATE, to_n_rate=consts.TO_N_RATE\n",
    ")\n",
    "eval_dataset = ADnaDataset(\"val\", tokenizer)"
   ]
  },
  {
   "cell_type": "code",
   "execution_count": 7,
   "id": "f0d6902b-81bc-49c9-b9cc-b6228fa31197",
   "metadata": {},
   "outputs": [
    {
     "data": {
      "text/plain": [
       "{'input_ids': [0, 39, 312, 351, 617, 3186, 261, 346, 2994, 279, 527, 638, 370, 903, 2793, 1130, 296, 2, 1, 1, 1, 1, 1, 1, 1, 1, 1, 1, 1, 1, 1, 1, 1, 1, 1, 1, 1, 1, 1, 1, 1, 1, 1, 1, 1, 1, 1, 1, 1, 1, 1, 1, 1, 1, 1, 1, 1, 1, 1, 1, 1, 1, 1, 1, 1, 1, 1, 1, 1, 1, 1, 1, 1, 1, 1, 1, 1, 1, 1, 1, 1, 1, 1, 1, 1, 1, 1, 1, 1, 1, 1, 1, 1, 1, 1, 1, 1, 1, 1, 1], 'attention_mask': [1, 1, 1, 1, 1, 1, 1, 1, 1, 1, 1, 1, 1, 1, 1, 1, 1, 1, 0, 0, 0, 0, 0, 0, 0, 0, 0, 0, 0, 0, 0, 0, 0, 0, 0, 0, 0, 0, 0, 0, 0, 0, 0, 0, 0, 0, 0, 0, 0, 0, 0, 0, 0, 0, 0, 0, 0, 0, 0, 0, 0, 0, 0, 0, 0, 0, 0, 0, 0, 0, 0, 0, 0, 0, 0, 0, 0, 0, 0, 0, 0, 0, 0, 0, 0, 0, 0, 0, 0, 0, 0, 0, 0, 0, 0, 0, 0, 0, 0, 0], 'label': tensor(1)}"
      ]
     },
     "execution_count": 7,
     "metadata": {},
     "output_type": "execute_result"
    }
   ],
   "source": [
    "train_dataset[1]"
   ]
  },
  {
   "cell_type": "code",
   "execution_count": 8,
   "id": "1b4b5a9a-f042-4b82-a01c-84b8d6b96df9",
   "metadata": {},
   "outputs": [
    {
     "data": {
      "text/plain": [
       "287233"
      ]
     },
     "execution_count": 8,
     "metadata": {},
     "output_type": "execute_result"
    }
   ],
   "source": [
    "len(train_dataset)"
   ]
  },
  {
   "cell_type": "markdown",
   "id": "3cad08a0-aa75-4192-91be-e2b2083e9105",
   "metadata": {},
   "source": [
    "## Build the model"
   ]
  },
  {
   "cell_type": "code",
   "execution_count": 9,
   "id": "d464ac84-c537-437d-a38a-1b507a9e6888",
   "metadata": {},
   "outputs": [],
   "source": [
    "config = RobertaConfig(\n",
    "    vocab_size=consts.VOCAB_SIZE,\n",
    "    num_hidden_layers=6,\n",
    "    type_vocab_size=1,\n",
    ")"
   ]
  },
  {
   "cell_type": "code",
   "execution_count": 10,
   "id": "f64c22b6-270b-4d93-98a6-87cf0566989e",
   "metadata": {},
   "outputs": [],
   "source": [
    "model = RobertaForSequenceClassification(config=config)"
   ]
  },
  {
   "cell_type": "code",
   "execution_count": 11,
   "id": "06e19567-cde6-49c9-a123-9e7ba0300860",
   "metadata": {},
   "outputs": [
    {
     "data": {
      "text/plain": [
       "46660610"
      ]
     },
     "execution_count": 11,
     "metadata": {},
     "output_type": "execute_result"
    }
   ],
   "source": [
    "model.num_parameters()"
   ]
  },
  {
   "cell_type": "code",
   "execution_count": 12,
   "id": "377c1637-f124-4afc-a37b-0bb8d784a013",
   "metadata": {},
   "outputs": [],
   "source": [
    "data_collator = DataCollatorWithPadding(\n",
    "    tokenizer=tokenizer,\n",
    "    padding=\"max_length\",\n",
    "    max_length=consts.MAX_LENGTH,\n",
    ")"
   ]
  },
  {
   "cell_type": "markdown",
   "id": "7d168e03-48a1-47d7-a00f-8b1f50e42bb6",
   "metadata": {},
   "source": [
    "## Create a trainer that handles class imbalance"
   ]
  },
  {
   "cell_type": "code",
   "execution_count": 13,
   "id": "86b243bd-2013-47b5-bfec-d7bfdb5e0380",
   "metadata": {},
   "outputs": [],
   "source": [
    "weights = train_dataset.weights()\n",
    "weights = torch.tensor(weights).to(DEVICE)\n",
    "LOSS_FN = nn.CrossEntropyLoss(weight=weights)"
   ]
  },
  {
   "cell_type": "code",
   "execution_count": 14,
   "id": "6c805d49-8578-4b97-92f3-bace63c66055",
   "metadata": {},
   "outputs": [],
   "source": [
    "class WeightedTrainer(Trainer):\n",
    "    def compute_loss(self, model, inputs, return_outputs=False):\n",
    "        labels = inputs.get(\"labels\")\n",
    "        outputs = model(**inputs)\n",
    "        logits = outputs.get(\"logits\")\n",
    "        loss = LOSS_FN(\n",
    "            logits.view(-1, self.model.config.num_labels), labels.view(-1)\n",
    "        )\n",
    "        return (loss, outputs) if return_outputs else loss"
   ]
  },
  {
   "cell_type": "code",
   "execution_count": 15,
   "id": "d6b06c5f-2388-43c8-9fe5-e89138c94bc0",
   "metadata": {},
   "outputs": [],
   "source": [
    "training_args = TrainingArguments(\n",
    "    output_dir=consts.SUB_DIR / \"models\",\n",
    "    overwrite_output_dir=True,\n",
    "    evaluation_strategy=\"epoch\",\n",
    "    num_train_epochs=TRAIN_EPOCHS,\n",
    "    learning_rate=LEARNING_RATE,\n",
    "    weight_decay=WEIGHT_DECAY,\n",
    "    per_device_train_batch_size=TRAIN_BATCH_SIZE,\n",
    "    per_device_eval_batch_size=VALID_BATCH_SIZE,\n",
    "    save_strategy=\"epoch\",\n",
    "    seed=23,\n",
    ")"
   ]
  },
  {
   "cell_type": "code",
   "execution_count": 16,
   "id": "15ab8724-376d-479c-ae98-f62390024fe1",
   "metadata": {},
   "outputs": [],
   "source": [
    "trainer = WeightedTrainer(\n",
    "    model=model,\n",
    "    args=training_args,\n",
    "    train_dataset=train_dataset,\n",
    "    eval_dataset=eval_dataset,\n",
    "    tokenizer=tokenizer,\n",
    "    data_collator=data_collator,\n",
    ")"
   ]
  },
  {
   "cell_type": "code",
   "execution_count": 17,
   "id": "abd42fbb-672e-42af-bb12-070868edfdba",
   "metadata": {},
   "outputs": [
    {
     "name": "stderr",
     "output_type": "stream",
     "text": [
      "/museum/rafe/other/adna/.venv/lib/python3.10/site-packages/transformers/optimization.py:306: FutureWarning: This implementation of AdamW is deprecated and will be removed in a future version. Use the PyTorch implementation torch.optim.AdamW instead, or set `no_deprecation_warning=True` to disable this warning\n",
      "  warnings.warn(\n",
      "***** Running training *****\n",
      "  Num examples = 287233\n",
      "  Num Epochs = 20\n",
      "  Instantaneous batch size per device = 128\n",
      "  Total train batch size (w. parallel, distributed & accumulation) = 128\n",
      "  Gradient Accumulation steps = 1\n",
      "  Total optimization steps = 44900\n"
     ]
    },
    {
     "data": {
      "text/html": [
       "\n",
       "    <div>\n",
       "      \n",
       "      <progress value='44900' max='44900' style='width:300px; height:20px; vertical-align: middle;'></progress>\n",
       "      [44900/44900 9:26:28, Epoch 20/20]\n",
       "    </div>\n",
       "    <table border=\"1\" class=\"dataframe\">\n",
       "  <thead>\n",
       " <tr style=\"text-align: left;\">\n",
       "      <th>Epoch</th>\n",
       "      <th>Training Loss</th>\n",
       "      <th>Validation Loss</th>\n",
       "    </tr>\n",
       "  </thead>\n",
       "  <tbody>\n",
       "    <tr>\n",
       "      <td>1</td>\n",
       "      <td>0.203000</td>\n",
       "      <td>0.193107</td>\n",
       "    </tr>\n",
       "    <tr>\n",
       "      <td>2</td>\n",
       "      <td>0.168100</td>\n",
       "      <td>0.313494</td>\n",
       "    </tr>\n",
       "    <tr>\n",
       "      <td>3</td>\n",
       "      <td>0.235400</td>\n",
       "      <td>0.182642</td>\n",
       "    </tr>\n",
       "    <tr>\n",
       "      <td>4</td>\n",
       "      <td>0.143700</td>\n",
       "      <td>0.190099</td>\n",
       "    </tr>\n",
       "    <tr>\n",
       "      <td>5</td>\n",
       "      <td>0.137200</td>\n",
       "      <td>0.159235</td>\n",
       "    </tr>\n",
       "    <tr>\n",
       "      <td>6</td>\n",
       "      <td>0.130700</td>\n",
       "      <td>0.210067</td>\n",
       "    </tr>\n",
       "    <tr>\n",
       "      <td>7</td>\n",
       "      <td>0.132700</td>\n",
       "      <td>0.271269</td>\n",
       "    </tr>\n",
       "    <tr>\n",
       "      <td>8</td>\n",
       "      <td>0.125600</td>\n",
       "      <td>0.201695</td>\n",
       "    </tr>\n",
       "    <tr>\n",
       "      <td>9</td>\n",
       "      <td>0.119300</td>\n",
       "      <td>0.251597</td>\n",
       "    </tr>\n",
       "    <tr>\n",
       "      <td>10</td>\n",
       "      <td>0.112100</td>\n",
       "      <td>0.203365</td>\n",
       "    </tr>\n",
       "    <tr>\n",
       "      <td>11</td>\n",
       "      <td>0.109600</td>\n",
       "      <td>0.218130</td>\n",
       "    </tr>\n",
       "    <tr>\n",
       "      <td>12</td>\n",
       "      <td>0.110600</td>\n",
       "      <td>0.245996</td>\n",
       "    </tr>\n",
       "    <tr>\n",
       "      <td>13</td>\n",
       "      <td>0.103700</td>\n",
       "      <td>0.284548</td>\n",
       "    </tr>\n",
       "    <tr>\n",
       "      <td>14</td>\n",
       "      <td>0.098300</td>\n",
       "      <td>0.223470</td>\n",
       "    </tr>\n",
       "    <tr>\n",
       "      <td>15</td>\n",
       "      <td>0.093400</td>\n",
       "      <td>0.244473</td>\n",
       "    </tr>\n",
       "    <tr>\n",
       "      <td>16</td>\n",
       "      <td>0.089200</td>\n",
       "      <td>0.274562</td>\n",
       "    </tr>\n",
       "    <tr>\n",
       "      <td>17</td>\n",
       "      <td>0.083500</td>\n",
       "      <td>0.282791</td>\n",
       "    </tr>\n",
       "    <tr>\n",
       "      <td>18</td>\n",
       "      <td>0.074900</td>\n",
       "      <td>0.275693</td>\n",
       "    </tr>\n",
       "    <tr>\n",
       "      <td>19</td>\n",
       "      <td>0.068500</td>\n",
       "      <td>0.284296</td>\n",
       "    </tr>\n",
       "    <tr>\n",
       "      <td>20</td>\n",
       "      <td>0.069300</td>\n",
       "      <td>0.305663</td>\n",
       "    </tr>\n",
       "  </tbody>\n",
       "</table><p>"
      ],
      "text/plain": [
       "<IPython.core.display.HTML object>"
      ]
     },
     "metadata": {},
     "output_type": "display_data"
    },
    {
     "name": "stderr",
     "output_type": "stream",
     "text": [
      "***** Running Evaluation *****\n",
      "  Num examples = 95744\n",
      "  Batch size = 128\n",
      "Saving model checkpoint to ../data/UF46992/models/checkpoint-2245\n",
      "Configuration saved in ../data/UF46992/models/checkpoint-2245/config.json\n",
      "Model weights saved in ../data/UF46992/models/checkpoint-2245/pytorch_model.bin\n",
      "tokenizer config file saved in ../data/UF46992/models/checkpoint-2245/tokenizer_config.json\n",
      "Special tokens file saved in ../data/UF46992/models/checkpoint-2245/special_tokens_map.json\n",
      "***** Running Evaluation *****\n",
      "  Num examples = 95744\n",
      "  Batch size = 128\n",
      "Saving model checkpoint to ../data/UF46992/models/checkpoint-4490\n",
      "Configuration saved in ../data/UF46992/models/checkpoint-4490/config.json\n",
      "Model weights saved in ../data/UF46992/models/checkpoint-4490/pytorch_model.bin\n",
      "tokenizer config file saved in ../data/UF46992/models/checkpoint-4490/tokenizer_config.json\n",
      "Special tokens file saved in ../data/UF46992/models/checkpoint-4490/special_tokens_map.json\n",
      "***** Running Evaluation *****\n",
      "  Num examples = 95744\n",
      "  Batch size = 128\n",
      "Saving model checkpoint to ../data/UF46992/models/checkpoint-6735\n",
      "Configuration saved in ../data/UF46992/models/checkpoint-6735/config.json\n",
      "Model weights saved in ../data/UF46992/models/checkpoint-6735/pytorch_model.bin\n",
      "tokenizer config file saved in ../data/UF46992/models/checkpoint-6735/tokenizer_config.json\n",
      "Special tokens file saved in ../data/UF46992/models/checkpoint-6735/special_tokens_map.json\n",
      "***** Running Evaluation *****\n",
      "  Num examples = 95744\n",
      "  Batch size = 128\n",
      "Saving model checkpoint to ../data/UF46992/models/checkpoint-8980\n",
      "Configuration saved in ../data/UF46992/models/checkpoint-8980/config.json\n",
      "Model weights saved in ../data/UF46992/models/checkpoint-8980/pytorch_model.bin\n",
      "tokenizer config file saved in ../data/UF46992/models/checkpoint-8980/tokenizer_config.json\n",
      "Special tokens file saved in ../data/UF46992/models/checkpoint-8980/special_tokens_map.json\n",
      "***** Running Evaluation *****\n",
      "  Num examples = 95744\n",
      "  Batch size = 128\n",
      "Saving model checkpoint to ../data/UF46992/models/checkpoint-11225\n",
      "Configuration saved in ../data/UF46992/models/checkpoint-11225/config.json\n",
      "Model weights saved in ../data/UF46992/models/checkpoint-11225/pytorch_model.bin\n",
      "tokenizer config file saved in ../data/UF46992/models/checkpoint-11225/tokenizer_config.json\n",
      "Special tokens file saved in ../data/UF46992/models/checkpoint-11225/special_tokens_map.json\n",
      "***** Running Evaluation *****\n",
      "  Num examples = 95744\n",
      "  Batch size = 128\n",
      "Saving model checkpoint to ../data/UF46992/models/checkpoint-13470\n",
      "Configuration saved in ../data/UF46992/models/checkpoint-13470/config.json\n",
      "Model weights saved in ../data/UF46992/models/checkpoint-13470/pytorch_model.bin\n",
      "tokenizer config file saved in ../data/UF46992/models/checkpoint-13470/tokenizer_config.json\n",
      "Special tokens file saved in ../data/UF46992/models/checkpoint-13470/special_tokens_map.json\n",
      "***** Running Evaluation *****\n",
      "  Num examples = 95744\n",
      "  Batch size = 128\n",
      "Saving model checkpoint to ../data/UF46992/models/checkpoint-15715\n",
      "Configuration saved in ../data/UF46992/models/checkpoint-15715/config.json\n",
      "Model weights saved in ../data/UF46992/models/checkpoint-15715/pytorch_model.bin\n",
      "tokenizer config file saved in ../data/UF46992/models/checkpoint-15715/tokenizer_config.json\n",
      "Special tokens file saved in ../data/UF46992/models/checkpoint-15715/special_tokens_map.json\n",
      "***** Running Evaluation *****\n",
      "  Num examples = 95744\n",
      "  Batch size = 128\n",
      "Saving model checkpoint to ../data/UF46992/models/checkpoint-17960\n",
      "Configuration saved in ../data/UF46992/models/checkpoint-17960/config.json\n",
      "Model weights saved in ../data/UF46992/models/checkpoint-17960/pytorch_model.bin\n",
      "tokenizer config file saved in ../data/UF46992/models/checkpoint-17960/tokenizer_config.json\n",
      "Special tokens file saved in ../data/UF46992/models/checkpoint-17960/special_tokens_map.json\n",
      "***** Running Evaluation *****\n",
      "  Num examples = 95744\n",
      "  Batch size = 128\n",
      "Saving model checkpoint to ../data/UF46992/models/checkpoint-20205\n",
      "Configuration saved in ../data/UF46992/models/checkpoint-20205/config.json\n",
      "Model weights saved in ../data/UF46992/models/checkpoint-20205/pytorch_model.bin\n",
      "tokenizer config file saved in ../data/UF46992/models/checkpoint-20205/tokenizer_config.json\n",
      "Special tokens file saved in ../data/UF46992/models/checkpoint-20205/special_tokens_map.json\n",
      "***** Running Evaluation *****\n",
      "  Num examples = 95744\n",
      "  Batch size = 128\n",
      "Saving model checkpoint to ../data/UF46992/models/checkpoint-22450\n",
      "Configuration saved in ../data/UF46992/models/checkpoint-22450/config.json\n",
      "Model weights saved in ../data/UF46992/models/checkpoint-22450/pytorch_model.bin\n",
      "tokenizer config file saved in ../data/UF46992/models/checkpoint-22450/tokenizer_config.json\n",
      "Special tokens file saved in ../data/UF46992/models/checkpoint-22450/special_tokens_map.json\n",
      "***** Running Evaluation *****\n",
      "  Num examples = 95744\n",
      "  Batch size = 128\n",
      "Saving model checkpoint to ../data/UF46992/models/checkpoint-24695\n",
      "Configuration saved in ../data/UF46992/models/checkpoint-24695/config.json\n",
      "Model weights saved in ../data/UF46992/models/checkpoint-24695/pytorch_model.bin\n",
      "tokenizer config file saved in ../data/UF46992/models/checkpoint-24695/tokenizer_config.json\n",
      "Special tokens file saved in ../data/UF46992/models/checkpoint-24695/special_tokens_map.json\n",
      "***** Running Evaluation *****\n",
      "  Num examples = 95744\n",
      "  Batch size = 128\n",
      "Saving model checkpoint to ../data/UF46992/models/checkpoint-26940\n",
      "Configuration saved in ../data/UF46992/models/checkpoint-26940/config.json\n",
      "Model weights saved in ../data/UF46992/models/checkpoint-26940/pytorch_model.bin\n",
      "tokenizer config file saved in ../data/UF46992/models/checkpoint-26940/tokenizer_config.json\n",
      "Special tokens file saved in ../data/UF46992/models/checkpoint-26940/special_tokens_map.json\n",
      "***** Running Evaluation *****\n",
      "  Num examples = 95744\n",
      "  Batch size = 128\n",
      "Saving model checkpoint to ../data/UF46992/models/checkpoint-29185\n",
      "Configuration saved in ../data/UF46992/models/checkpoint-29185/config.json\n",
      "Model weights saved in ../data/UF46992/models/checkpoint-29185/pytorch_model.bin\n",
      "tokenizer config file saved in ../data/UF46992/models/checkpoint-29185/tokenizer_config.json\n",
      "Special tokens file saved in ../data/UF46992/models/checkpoint-29185/special_tokens_map.json\n",
      "***** Running Evaluation *****\n",
      "  Num examples = 95744\n",
      "  Batch size = 128\n",
      "Saving model checkpoint to ../data/UF46992/models/checkpoint-31430\n",
      "Configuration saved in ../data/UF46992/models/checkpoint-31430/config.json\n",
      "Model weights saved in ../data/UF46992/models/checkpoint-31430/pytorch_model.bin\n",
      "tokenizer config file saved in ../data/UF46992/models/checkpoint-31430/tokenizer_config.json\n",
      "Special tokens file saved in ../data/UF46992/models/checkpoint-31430/special_tokens_map.json\n",
      "***** Running Evaluation *****\n",
      "  Num examples = 95744\n",
      "  Batch size = 128\n",
      "Saving model checkpoint to ../data/UF46992/models/checkpoint-33675\n",
      "Configuration saved in ../data/UF46992/models/checkpoint-33675/config.json\n",
      "Model weights saved in ../data/UF46992/models/checkpoint-33675/pytorch_model.bin\n",
      "tokenizer config file saved in ../data/UF46992/models/checkpoint-33675/tokenizer_config.json\n",
      "Special tokens file saved in ../data/UF46992/models/checkpoint-33675/special_tokens_map.json\n",
      "***** Running Evaluation *****\n",
      "  Num examples = 95744\n",
      "  Batch size = 128\n",
      "Saving model checkpoint to ../data/UF46992/models/checkpoint-35920\n",
      "Configuration saved in ../data/UF46992/models/checkpoint-35920/config.json\n",
      "Model weights saved in ../data/UF46992/models/checkpoint-35920/pytorch_model.bin\n",
      "tokenizer config file saved in ../data/UF46992/models/checkpoint-35920/tokenizer_config.json\n",
      "Special tokens file saved in ../data/UF46992/models/checkpoint-35920/special_tokens_map.json\n",
      "***** Running Evaluation *****\n",
      "  Num examples = 95744\n",
      "  Batch size = 128\n",
      "Saving model checkpoint to ../data/UF46992/models/checkpoint-38165\n",
      "Configuration saved in ../data/UF46992/models/checkpoint-38165/config.json\n",
      "Model weights saved in ../data/UF46992/models/checkpoint-38165/pytorch_model.bin\n",
      "tokenizer config file saved in ../data/UF46992/models/checkpoint-38165/tokenizer_config.json\n",
      "Special tokens file saved in ../data/UF46992/models/checkpoint-38165/special_tokens_map.json\n",
      "***** Running Evaluation *****\n",
      "  Num examples = 95744\n",
      "  Batch size = 128\n",
      "Saving model checkpoint to ../data/UF46992/models/checkpoint-40410\n",
      "Configuration saved in ../data/UF46992/models/checkpoint-40410/config.json\n",
      "Model weights saved in ../data/UF46992/models/checkpoint-40410/pytorch_model.bin\n",
      "tokenizer config file saved in ../data/UF46992/models/checkpoint-40410/tokenizer_config.json\n",
      "Special tokens file saved in ../data/UF46992/models/checkpoint-40410/special_tokens_map.json\n",
      "***** Running Evaluation *****\n",
      "  Num examples = 95744\n",
      "  Batch size = 128\n",
      "Saving model checkpoint to ../data/UF46992/models/checkpoint-42655\n",
      "Configuration saved in ../data/UF46992/models/checkpoint-42655/config.json\n",
      "Model weights saved in ../data/UF46992/models/checkpoint-42655/pytorch_model.bin\n",
      "tokenizer config file saved in ../data/UF46992/models/checkpoint-42655/tokenizer_config.json\n",
      "Special tokens file saved in ../data/UF46992/models/checkpoint-42655/special_tokens_map.json\n",
      "***** Running Evaluation *****\n",
      "  Num examples = 95744\n",
      "  Batch size = 128\n",
      "Saving model checkpoint to ../data/UF46992/models/checkpoint-44900\n",
      "Configuration saved in ../data/UF46992/models/checkpoint-44900/config.json\n",
      "Model weights saved in ../data/UF46992/models/checkpoint-44900/pytorch_model.bin\n",
      "tokenizer config file saved in ../data/UF46992/models/checkpoint-44900/tokenizer_config.json\n",
      "Special tokens file saved in ../data/UF46992/models/checkpoint-44900/special_tokens_map.json\n",
      "\n",
      "\n",
      "Training completed. Do not forget to share your model on huggingface.co/models =)\n",
      "\n",
      "\n"
     ]
    },
    {
     "data": {
      "text/plain": [
       "TrainOutput(global_step=44900, training_loss=0.12180995303963234, metrics={'train_runtime': 33989.284, 'train_samples_per_second': 169.014, 'train_steps_per_second': 1.321, 'total_flos': 1.189031509942464e+17, 'train_loss': 0.12180995303963234, 'epoch': 20.0})"
      ]
     },
     "execution_count": 17,
     "metadata": {},
     "output_type": "execute_result"
    }
   ],
   "source": [
    "trainer.train()"
   ]
  },
  {
   "cell_type": "markdown",
   "id": "8ae86239-ad7b-4a84-b575-980c05c9825e",
   "metadata": {},
   "source": [
    "### It looks like the model isn't training\n",
    "\n",
    "It looks like epoch 5 is the best so far. Path = `../data/UF46992/models/checkpoint-11225`\n",
    "After that we start to overfit."
   ]
  },
  {
   "cell_type": "code",
   "execution_count": null,
   "id": "3c8f379c-6ff9-4770-850e-6a0630e08e48",
   "metadata": {},
   "outputs": [],
   "source": []
  }
 ],
 "metadata": {
  "kernelspec": {
   "display_name": "Python 3 (ipykernel)",
   "language": "python",
   "name": "python3"
  },
  "language_info": {
   "codemirror_mode": {
    "name": "ipython",
    "version": 3
   },
   "file_extension": ".py",
   "mimetype": "text/x-python",
   "name": "python",
   "nbconvert_exporter": "python",
   "pygments_lexer": "ipython3",
   "version": "3.10.4"
  }
 },
 "nbformat": 4,
 "nbformat_minor": 5
}
