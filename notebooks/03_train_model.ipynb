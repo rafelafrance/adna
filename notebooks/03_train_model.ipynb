{
 "cells": [
  {
   "cell_type": "markdown",
   "id": "67ceb951-7db5-4a88-aff0-e0561229b6af",
   "metadata": {},
   "source": [
    "# Train a RoBERTa model"
   ]
  },
  {
   "cell_type": "code",
   "execution_count": 1,
   "id": "e9576922-2fa0-4aaa-b655-0150583d3b36",
   "metadata": {
    "tags": []
   },
   "outputs": [],
   "source": [
    "import sys\n",
    "\n",
    "sys.path.append(\"..\")"
   ]
  },
  {
   "cell_type": "code",
   "execution_count": 2,
   "id": "256ffc2c-7130-4742-a5f7-03ab9e241599",
   "metadata": {
    "tags": []
   },
   "outputs": [],
   "source": [
    "from transformers import (\n",
    "    DataCollatorWithPadding,\n",
    "    RobertaConfig,\n",
    "    RobertaForSequenceClassification,\n",
    "    RobertaTokenizerFast,\n",
    "    TrainingArguments,\n",
    ")\n",
    "\n",
    "from adna.pylib import consts\n",
    "from adna.pylib.adna_dataset import ADnaDataset\n",
    "from adna.pylib.weighted_trainer import WeightedTrainer"
   ]
  },
  {
   "cell_type": "markdown",
   "id": "24334516-a86b-4c2b-ace8-389f35310499",
   "metadata": {},
   "source": [
    "## Data augmentation parameters"
   ]
  },
  {
   "cell_type": "code",
   "execution_count": 14,
   "id": "a4fd3875-8b46-43c4-990d-0f9c3d44a136",
   "metadata": {},
   "outputs": [],
   "source": [
    "REV_COMP_RATE = 0.2\n",
    "TO_N_RATE = 0.02"
   ]
  },
  {
   "cell_type": "markdown",
   "id": "b9410c17-dcc9-4e7b-9fae-3ffec6ba51f3",
   "metadata": {},
   "source": [
    "## Training parameters"
   ]
  },
  {
   "cell_type": "code",
   "execution_count": 3,
   "id": "9d4edb84-8a16-4fdc-b37b-fe726babd169",
   "metadata": {
    "tags": []
   },
   "outputs": [],
   "source": [
    "TRAIN_EPOCHS = 20\n",
    "LEARNING_RATE = 3e-5\n",
    "TRAIN_BATCH_SIZE = 96\n",
    "EVAL_BATCH_SIZE = 96\n",
    "\n",
    "MODEL_DIR = 'train'  # Save models to this sub-directory"
   ]
  },
  {
   "cell_type": "markdown",
   "id": "45d7ca06-3814-440e-a85b-c35e13889c51",
   "metadata": {},
   "source": [
    "## Get the tokenizer"
   ]
  },
  {
   "cell_type": "code",
   "execution_count": 4,
   "id": "57761d91-ce6d-4ec2-a767-b6c91184dc5a",
   "metadata": {
    "tags": []
   },
   "outputs": [],
   "source": [
    "tokenizer_path = str(consts.MT_DIR)\n",
    "tokenizer = RobertaTokenizerFast.from_pretrained(tokenizer_path)"
   ]
  },
  {
   "cell_type": "markdown",
   "id": "139c5033-25cf-4536-9887-01f7f978f0e3",
   "metadata": {},
   "source": [
    "## Get the datasets"
   ]
  },
  {
   "cell_type": "code",
   "execution_count": 5,
   "id": "14b12f62-0a76-4138-b8d8-f6c860a82112",
   "metadata": {
    "tags": []
   },
   "outputs": [],
   "source": [
    "train_dataset = ADnaDataset(\n",
    "    'train',\n",
    "    tokenizer,\n",
    "    rev_comp_rate=REV_COMP_RATE,\n",
    "    to_n_rate=TO_N_RATE,\n",
    "    # limit=TRAIN_BATCH_SIZE,\n",
    ")\n",
    "eval_dataset = ADnaDataset('val', tokenizer)  # , limit=EVAL_BATCH_SIZE)"
   ]
  },
  {
   "cell_type": "code",
   "execution_count": 6,
   "id": "f0d6902b-81bc-49c9-b9cc-b6228fa31197",
   "metadata": {
    "tags": []
   },
   "outputs": [
    {
     "data": {
      "text/plain": [
       "{'input_ids': [0, 2293, 1568, 1125, 285, 2218, 729, 267, 50, 262, 2028, 56, 50, 374, 50, 341, 2850, 3352, 3984, 1302, 640, 277, 3774, 283, 1006, 275, 948, 285, 2, 1, 1, 1, 1, 1, 1, 1, 1, 1, 1, 1, 1, 1, 1, 1, 1, 1, 1, 1, 1, 1, 1, 1, 1, 1, 1, 1, 1, 1, 1, 1, 1, 1, 1, 1, 1, 1, 1, 1, 1, 1, 1, 1, 1, 1, 1, 1, 1, 1, 1, 1, 1, 1, 1, 1, 1, 1, 1, 1, 1, 1, 1, 1, 1, 1, 1, 1, 1, 1, 1, 1], 'attention_mask': [1, 1, 1, 1, 1, 1, 1, 1, 1, 1, 1, 1, 1, 1, 1, 1, 1, 1, 1, 1, 1, 1, 1, 1, 1, 1, 1, 1, 1, 0, 0, 0, 0, 0, 0, 0, 0, 0, 0, 0, 0, 0, 0, 0, 0, 0, 0, 0, 0, 0, 0, 0, 0, 0, 0, 0, 0, 0, 0, 0, 0, 0, 0, 0, 0, 0, 0, 0, 0, 0, 0, 0, 0, 0, 0, 0, 0, 0, 0, 0, 0, 0, 0, 0, 0, 0, 0, 0, 0, 0, 0, 0, 0, 0, 0, 0, 0, 0, 0, 0], 'label': tensor(0)}"
      ]
     },
     "execution_count": 6,
     "metadata": {},
     "output_type": "execute_result"
    }
   ],
   "source": [
    "train_dataset[0]"
   ]
  },
  {
   "cell_type": "code",
   "execution_count": 7,
   "id": "1b4b5a9a-f042-4b82-a01c-84b8d6b96df9",
   "metadata": {
    "tags": []
   },
   "outputs": [
    {
     "data": {
      "text/plain": [
       "287233"
      ]
     },
     "execution_count": 7,
     "metadata": {},
     "output_type": "execute_result"
    }
   ],
   "source": [
    "len(train_dataset)"
   ]
  },
  {
   "cell_type": "markdown",
   "id": "3cad08a0-aa75-4192-91be-e2b2083e9105",
   "metadata": {},
   "source": [
    "## Build the model"
   ]
  },
  {
   "cell_type": "code",
   "execution_count": 8,
   "id": "d464ac84-c537-437d-a38a-1b507a9e6888",
   "metadata": {
    "tags": []
   },
   "outputs": [],
   "source": [
    "config = RobertaConfig(\n",
    "    vocab_size=consts.VOCAB_SIZE,\n",
    "    num_hidden_layers=6,\n",
    "    type_vocab_size=1,\n",
    "    num_labels=len(train_dataset.weights),\n",
    "    max_position_embeddings=consts.MAX_LENGTH,\n",
    ")"
   ]
  },
  {
   "cell_type": "code",
   "execution_count": 9,
   "id": "f64c22b6-270b-4d93-98a6-87cf0566989e",
   "metadata": {
    "tags": []
   },
   "outputs": [],
   "source": [
    "model = RobertaForSequenceClassification(config=config)"
   ]
  },
  {
   "cell_type": "markdown",
   "id": "23e3a994-5723-4dae-abda-788d19cc6042",
   "metadata": {},
   "source": [
    "## Build the data collator"
   ]
  },
  {
   "cell_type": "code",
   "execution_count": 10,
   "id": "377c1637-f124-4afc-a37b-0bb8d784a013",
   "metadata": {
    "tags": []
   },
   "outputs": [],
   "source": [
    "data_collator = DataCollatorWithPadding(\n",
    "    tokenizer=tokenizer,\n",
    "    padding=\"max_length\",\n",
    "    max_length=consts.MAX_LENGTH,\n",
    ")"
   ]
  },
  {
   "cell_type": "markdown",
   "id": "4a115b60-0059-4ad9-9ab7-96f2bb26c982",
   "metadata": {},
   "source": [
    "## Build the trainer"
   ]
  },
  {
   "cell_type": "code",
   "execution_count": 11,
   "id": "d6b06c5f-2388-43c8-9fe5-e89138c94bc0",
   "metadata": {
    "tags": []
   },
   "outputs": [],
   "source": [
    "training_args = TrainingArguments(\n",
    "    output_dir=consts.MT_DIR / MODEL_DIR,\n",
    "    overwrite_output_dir=True,\n",
    "    num_train_epochs=TRAIN_EPOCHS,\n",
    "    learning_rate=LEARNING_RATE,\n",
    "    per_device_train_batch_size=TRAIN_BATCH_SIZE,\n",
    "    per_device_eval_batch_size=EVAL_BATCH_SIZE,\n",
    "    evaluation_strategy=\"epoch\",\n",
    "    logging_strategy=\"epoch\",\n",
    "    save_strategy=\"epoch\",\n",
    "    seed=23,\n",
    ")"
   ]
  },
  {
   "cell_type": "code",
   "execution_count": 12,
   "id": "15ab8724-376d-479c-ae98-f62390024fe1",
   "metadata": {
    "tags": []
   },
   "outputs": [],
   "source": [
    "trainer = WeightedTrainer(\n",
    "    train_dataset,\n",
    "    model=model,\n",
    "    args=training_args,\n",
    "    train_dataset=train_dataset,\n",
    "    eval_dataset=eval_dataset,\n",
    "    tokenizer=tokenizer,\n",
    "    data_collator=data_collator,\n",
    ")"
   ]
  },
  {
   "cell_type": "markdown",
   "id": "0e788aed-dd9e-43e5-99a9-a3215bfae35a",
   "metadata": {
    "jp-MarkdownHeadingCollapsed": true,
    "tags": []
   },
   "source": [
    "## Train"
   ]
  },
  {
   "cell_type": "code",
   "execution_count": 13,
   "id": "cbe4fc8f-d4ee-497d-b75d-2550e0c1f576",
   "metadata": {},
   "outputs": [
    {
     "name": "stderr",
     "output_type": "stream",
     "text": [
      "/museum/rafe/other/adna/.venv/lib/python3.10/site-packages/transformers/optimization.py:306: FutureWarning: This implementation of AdamW is deprecated and will be removed in a future version. Use the PyTorch implementation torch.optim.AdamW instead, or set `no_deprecation_warning=True` to disable this warning\n",
      "  warnings.warn(\n",
      "***** Running training *****\n",
      "  Num examples = 287233\n",
      "  Num Epochs = 20\n",
      "  Instantaneous batch size per device = 96\n",
      "  Total train batch size (w. parallel, distributed & accumulation) = 96\n",
      "  Gradient Accumulation steps = 1\n",
      "  Total optimization steps = 59860\n"
     ]
    },
    {
     "data": {
      "text/html": [
       "\n",
       "    <div>\n",
       "      \n",
       "      <progress value='59860' max='59860' style='width:300px; height:20px; vertical-align: middle;'></progress>\n",
       "      [59860/59860 12:04:38, Epoch 20/20]\n",
       "    </div>\n",
       "    <table border=\"1\" class=\"dataframe\">\n",
       "  <thead>\n",
       " <tr style=\"text-align: left;\">\n",
       "      <th>Epoch</th>\n",
       "      <th>Training Loss</th>\n",
       "      <th>Validation Loss</th>\n",
       "    </tr>\n",
       "  </thead>\n",
       "  <tbody>\n",
       "    <tr>\n",
       "      <td>1</td>\n",
       "      <td>0.376300</td>\n",
       "      <td>0.244983</td>\n",
       "    </tr>\n",
       "    <tr>\n",
       "      <td>2</td>\n",
       "      <td>0.290900</td>\n",
       "      <td>0.215134</td>\n",
       "    </tr>\n",
       "    <tr>\n",
       "      <td>3</td>\n",
       "      <td>0.261400</td>\n",
       "      <td>0.212256</td>\n",
       "    </tr>\n",
       "    <tr>\n",
       "      <td>4</td>\n",
       "      <td>0.243100</td>\n",
       "      <td>0.184775</td>\n",
       "    </tr>\n",
       "    <tr>\n",
       "      <td>5</td>\n",
       "      <td>0.228500</td>\n",
       "      <td>0.176542</td>\n",
       "    </tr>\n",
       "    <tr>\n",
       "      <td>6</td>\n",
       "      <td>0.217200</td>\n",
       "      <td>0.179326</td>\n",
       "    </tr>\n",
       "    <tr>\n",
       "      <td>7</td>\n",
       "      <td>0.208400</td>\n",
       "      <td>0.171200</td>\n",
       "    </tr>\n",
       "    <tr>\n",
       "      <td>8</td>\n",
       "      <td>0.198900</td>\n",
       "      <td>0.156981</td>\n",
       "    </tr>\n",
       "    <tr>\n",
       "      <td>9</td>\n",
       "      <td>0.190900</td>\n",
       "      <td>0.153605</td>\n",
       "    </tr>\n",
       "    <tr>\n",
       "      <td>10</td>\n",
       "      <td>0.183800</td>\n",
       "      <td>0.159917</td>\n",
       "    </tr>\n",
       "    <tr>\n",
       "      <td>11</td>\n",
       "      <td>0.179800</td>\n",
       "      <td>0.151746</td>\n",
       "    </tr>\n",
       "    <tr>\n",
       "      <td>12</td>\n",
       "      <td>0.174500</td>\n",
       "      <td>0.150800</td>\n",
       "    </tr>\n",
       "    <tr>\n",
       "      <td>13</td>\n",
       "      <td>0.168300</td>\n",
       "      <td>0.168324</td>\n",
       "    </tr>\n",
       "    <tr>\n",
       "      <td>14</td>\n",
       "      <td>0.164100</td>\n",
       "      <td>0.151327</td>\n",
       "    </tr>\n",
       "    <tr>\n",
       "      <td>15</td>\n",
       "      <td>0.161600</td>\n",
       "      <td>0.153746</td>\n",
       "    </tr>\n",
       "    <tr>\n",
       "      <td>16</td>\n",
       "      <td>0.157200</td>\n",
       "      <td>0.145625</td>\n",
       "    </tr>\n",
       "    <tr>\n",
       "      <td>17</td>\n",
       "      <td>0.153800</td>\n",
       "      <td>0.151971</td>\n",
       "    </tr>\n",
       "    <tr>\n",
       "      <td>18</td>\n",
       "      <td>0.150800</td>\n",
       "      <td>0.156654</td>\n",
       "    </tr>\n",
       "    <tr>\n",
       "      <td>19</td>\n",
       "      <td>0.149000</td>\n",
       "      <td>0.147949</td>\n",
       "    </tr>\n",
       "    <tr>\n",
       "      <td>20</td>\n",
       "      <td>0.145900</td>\n",
       "      <td>0.151184</td>\n",
       "    </tr>\n",
       "  </tbody>\n",
       "</table><p>"
      ],
      "text/plain": [
       "<IPython.core.display.HTML object>"
      ]
     },
     "metadata": {},
     "output_type": "display_data"
    },
    {
     "name": "stderr",
     "output_type": "stream",
     "text": [
      "***** Running Evaluation *****\n",
      "  Num examples = 95744\n",
      "  Batch size = 96\n",
      "Saving model checkpoint to ../data/UF46992/train/checkpoint-2993\n",
      "Configuration saved in ../data/UF46992/train/checkpoint-2993/config.json\n",
      "Model weights saved in ../data/UF46992/train/checkpoint-2993/pytorch_model.bin\n",
      "tokenizer config file saved in ../data/UF46992/train/checkpoint-2993/tokenizer_config.json\n",
      "Special tokens file saved in ../data/UF46992/train/checkpoint-2993/special_tokens_map.json\n",
      "***** Running Evaluation *****\n",
      "  Num examples = 95744\n",
      "  Batch size = 96\n",
      "Saving model checkpoint to ../data/UF46992/train/checkpoint-5986\n",
      "Configuration saved in ../data/UF46992/train/checkpoint-5986/config.json\n",
      "Model weights saved in ../data/UF46992/train/checkpoint-5986/pytorch_model.bin\n",
      "tokenizer config file saved in ../data/UF46992/train/checkpoint-5986/tokenizer_config.json\n",
      "Special tokens file saved in ../data/UF46992/train/checkpoint-5986/special_tokens_map.json\n",
      "***** Running Evaluation *****\n",
      "  Num examples = 95744\n",
      "  Batch size = 96\n",
      "Saving model checkpoint to ../data/UF46992/train/checkpoint-8979\n",
      "Configuration saved in ../data/UF46992/train/checkpoint-8979/config.json\n",
      "Model weights saved in ../data/UF46992/train/checkpoint-8979/pytorch_model.bin\n",
      "tokenizer config file saved in ../data/UF46992/train/checkpoint-8979/tokenizer_config.json\n",
      "Special tokens file saved in ../data/UF46992/train/checkpoint-8979/special_tokens_map.json\n",
      "***** Running Evaluation *****\n",
      "  Num examples = 95744\n",
      "  Batch size = 96\n",
      "Saving model checkpoint to ../data/UF46992/train/checkpoint-11972\n",
      "Configuration saved in ../data/UF46992/train/checkpoint-11972/config.json\n",
      "Model weights saved in ../data/UF46992/train/checkpoint-11972/pytorch_model.bin\n",
      "tokenizer config file saved in ../data/UF46992/train/checkpoint-11972/tokenizer_config.json\n",
      "Special tokens file saved in ../data/UF46992/train/checkpoint-11972/special_tokens_map.json\n",
      "***** Running Evaluation *****\n",
      "  Num examples = 95744\n",
      "  Batch size = 96\n",
      "Saving model checkpoint to ../data/UF46992/train/checkpoint-14965\n",
      "Configuration saved in ../data/UF46992/train/checkpoint-14965/config.json\n",
      "Model weights saved in ../data/UF46992/train/checkpoint-14965/pytorch_model.bin\n",
      "tokenizer config file saved in ../data/UF46992/train/checkpoint-14965/tokenizer_config.json\n",
      "Special tokens file saved in ../data/UF46992/train/checkpoint-14965/special_tokens_map.json\n",
      "***** Running Evaluation *****\n",
      "  Num examples = 95744\n",
      "  Batch size = 96\n",
      "Saving model checkpoint to ../data/UF46992/train/checkpoint-17958\n",
      "Configuration saved in ../data/UF46992/train/checkpoint-17958/config.json\n",
      "Model weights saved in ../data/UF46992/train/checkpoint-17958/pytorch_model.bin\n",
      "tokenizer config file saved in ../data/UF46992/train/checkpoint-17958/tokenizer_config.json\n",
      "Special tokens file saved in ../data/UF46992/train/checkpoint-17958/special_tokens_map.json\n",
      "***** Running Evaluation *****\n",
      "  Num examples = 95744\n",
      "  Batch size = 96\n",
      "Saving model checkpoint to ../data/UF46992/train/checkpoint-20951\n",
      "Configuration saved in ../data/UF46992/train/checkpoint-20951/config.json\n",
      "Model weights saved in ../data/UF46992/train/checkpoint-20951/pytorch_model.bin\n",
      "tokenizer config file saved in ../data/UF46992/train/checkpoint-20951/tokenizer_config.json\n",
      "Special tokens file saved in ../data/UF46992/train/checkpoint-20951/special_tokens_map.json\n",
      "***** Running Evaluation *****\n",
      "  Num examples = 95744\n",
      "  Batch size = 96\n",
      "Saving model checkpoint to ../data/UF46992/train/checkpoint-23944\n",
      "Configuration saved in ../data/UF46992/train/checkpoint-23944/config.json\n",
      "Model weights saved in ../data/UF46992/train/checkpoint-23944/pytorch_model.bin\n",
      "tokenizer config file saved in ../data/UF46992/train/checkpoint-23944/tokenizer_config.json\n",
      "Special tokens file saved in ../data/UF46992/train/checkpoint-23944/special_tokens_map.json\n",
      "***** Running Evaluation *****\n",
      "  Num examples = 95744\n",
      "  Batch size = 96\n",
      "Saving model checkpoint to ../data/UF46992/train/checkpoint-26937\n",
      "Configuration saved in ../data/UF46992/train/checkpoint-26937/config.json\n",
      "Model weights saved in ../data/UF46992/train/checkpoint-26937/pytorch_model.bin\n",
      "tokenizer config file saved in ../data/UF46992/train/checkpoint-26937/tokenizer_config.json\n",
      "Special tokens file saved in ../data/UF46992/train/checkpoint-26937/special_tokens_map.json\n",
      "***** Running Evaluation *****\n",
      "  Num examples = 95744\n",
      "  Batch size = 96\n",
      "Saving model checkpoint to ../data/UF46992/train/checkpoint-29930\n",
      "Configuration saved in ../data/UF46992/train/checkpoint-29930/config.json\n",
      "Model weights saved in ../data/UF46992/train/checkpoint-29930/pytorch_model.bin\n",
      "tokenizer config file saved in ../data/UF46992/train/checkpoint-29930/tokenizer_config.json\n",
      "Special tokens file saved in ../data/UF46992/train/checkpoint-29930/special_tokens_map.json\n",
      "***** Running Evaluation *****\n",
      "  Num examples = 95744\n",
      "  Batch size = 96\n",
      "Saving model checkpoint to ../data/UF46992/train/checkpoint-32923\n",
      "Configuration saved in ../data/UF46992/train/checkpoint-32923/config.json\n",
      "Model weights saved in ../data/UF46992/train/checkpoint-32923/pytorch_model.bin\n",
      "tokenizer config file saved in ../data/UF46992/train/checkpoint-32923/tokenizer_config.json\n",
      "Special tokens file saved in ../data/UF46992/train/checkpoint-32923/special_tokens_map.json\n",
      "***** Running Evaluation *****\n",
      "  Num examples = 95744\n",
      "  Batch size = 96\n",
      "Saving model checkpoint to ../data/UF46992/train/checkpoint-35916\n",
      "Configuration saved in ../data/UF46992/train/checkpoint-35916/config.json\n",
      "Model weights saved in ../data/UF46992/train/checkpoint-35916/pytorch_model.bin\n",
      "tokenizer config file saved in ../data/UF46992/train/checkpoint-35916/tokenizer_config.json\n",
      "Special tokens file saved in ../data/UF46992/train/checkpoint-35916/special_tokens_map.json\n",
      "***** Running Evaluation *****\n",
      "  Num examples = 95744\n",
      "  Batch size = 96\n",
      "Saving model checkpoint to ../data/UF46992/train/checkpoint-38909\n",
      "Configuration saved in ../data/UF46992/train/checkpoint-38909/config.json\n",
      "Model weights saved in ../data/UF46992/train/checkpoint-38909/pytorch_model.bin\n",
      "tokenizer config file saved in ../data/UF46992/train/checkpoint-38909/tokenizer_config.json\n",
      "Special tokens file saved in ../data/UF46992/train/checkpoint-38909/special_tokens_map.json\n",
      "***** Running Evaluation *****\n",
      "  Num examples = 95744\n",
      "  Batch size = 96\n",
      "Saving model checkpoint to ../data/UF46992/train/checkpoint-41902\n",
      "Configuration saved in ../data/UF46992/train/checkpoint-41902/config.json\n",
      "Model weights saved in ../data/UF46992/train/checkpoint-41902/pytorch_model.bin\n",
      "tokenizer config file saved in ../data/UF46992/train/checkpoint-41902/tokenizer_config.json\n",
      "Special tokens file saved in ../data/UF46992/train/checkpoint-41902/special_tokens_map.json\n",
      "***** Running Evaluation *****\n",
      "  Num examples = 95744\n",
      "  Batch size = 96\n",
      "Saving model checkpoint to ../data/UF46992/train/checkpoint-44895\n",
      "Configuration saved in ../data/UF46992/train/checkpoint-44895/config.json\n",
      "Model weights saved in ../data/UF46992/train/checkpoint-44895/pytorch_model.bin\n",
      "tokenizer config file saved in ../data/UF46992/train/checkpoint-44895/tokenizer_config.json\n",
      "Special tokens file saved in ../data/UF46992/train/checkpoint-44895/special_tokens_map.json\n",
      "***** Running Evaluation *****\n",
      "  Num examples = 95744\n",
      "  Batch size = 96\n",
      "Saving model checkpoint to ../data/UF46992/train/checkpoint-47888\n",
      "Configuration saved in ../data/UF46992/train/checkpoint-47888/config.json\n",
      "Model weights saved in ../data/UF46992/train/checkpoint-47888/pytorch_model.bin\n",
      "tokenizer config file saved in ../data/UF46992/train/checkpoint-47888/tokenizer_config.json\n",
      "Special tokens file saved in ../data/UF46992/train/checkpoint-47888/special_tokens_map.json\n",
      "***** Running Evaluation *****\n",
      "  Num examples = 95744\n",
      "  Batch size = 96\n",
      "Saving model checkpoint to ../data/UF46992/train/checkpoint-50881\n",
      "Configuration saved in ../data/UF46992/train/checkpoint-50881/config.json\n",
      "Model weights saved in ../data/UF46992/train/checkpoint-50881/pytorch_model.bin\n",
      "tokenizer config file saved in ../data/UF46992/train/checkpoint-50881/tokenizer_config.json\n",
      "Special tokens file saved in ../data/UF46992/train/checkpoint-50881/special_tokens_map.json\n",
      "***** Running Evaluation *****\n",
      "  Num examples = 95744\n",
      "  Batch size = 96\n",
      "Saving model checkpoint to ../data/UF46992/train/checkpoint-53874\n",
      "Configuration saved in ../data/UF46992/train/checkpoint-53874/config.json\n",
      "Model weights saved in ../data/UF46992/train/checkpoint-53874/pytorch_model.bin\n",
      "tokenizer config file saved in ../data/UF46992/train/checkpoint-53874/tokenizer_config.json\n",
      "Special tokens file saved in ../data/UF46992/train/checkpoint-53874/special_tokens_map.json\n",
      "***** Running Evaluation *****\n",
      "  Num examples = 95744\n",
      "  Batch size = 96\n",
      "Saving model checkpoint to ../data/UF46992/train/checkpoint-56867\n",
      "Configuration saved in ../data/UF46992/train/checkpoint-56867/config.json\n",
      "Model weights saved in ../data/UF46992/train/checkpoint-56867/pytorch_model.bin\n",
      "tokenizer config file saved in ../data/UF46992/train/checkpoint-56867/tokenizer_config.json\n",
      "Special tokens file saved in ../data/UF46992/train/checkpoint-56867/special_tokens_map.json\n",
      "***** Running Evaluation *****\n",
      "  Num examples = 95744\n",
      "  Batch size = 96\n",
      "Saving model checkpoint to ../data/UF46992/train/checkpoint-59860\n",
      "Configuration saved in ../data/UF46992/train/checkpoint-59860/config.json\n",
      "Model weights saved in ../data/UF46992/train/checkpoint-59860/pytorch_model.bin\n",
      "tokenizer config file saved in ../data/UF46992/train/checkpoint-59860/tokenizer_config.json\n",
      "Special tokens file saved in ../data/UF46992/train/checkpoint-59860/special_tokens_map.json\n",
      "\n",
      "\n",
      "Training completed. Do not forget to share your model on huggingface.co/models =)\n",
      "\n",
      "\n"
     ]
    },
    {
     "data": {
      "text/plain": [
       "TrainOutput(global_step=59860, training_loss=0.20022459836297715, metrics={'train_runtime': 43479.1579, 'train_samples_per_second': 132.124, 'train_steps_per_second': 1.377, 'total_flos': 1.48628938742808e+17, 'train_loss': 0.20022459836297715, 'epoch': 20.0})"
      ]
     },
     "execution_count": 13,
     "metadata": {},
     "output_type": "execute_result"
    }
   ],
   "source": [
    "trainer.train()"
   ]
  },
  {
   "cell_type": "markdown",
   "id": "8ae86239-ad7b-4a84-b575-980c05c9825e",
   "metadata": {
    "jp-MarkdownHeadingCollapsed": true,
    "tags": []
   },
   "source": [
    "### It looks like epoch ?? is best\n",
    "\n",
    "Path = `../data/UF46992/models/checkpoint-??`"
   ]
  },
  {
   "cell_type": "code",
   "execution_count": null,
   "id": "0b8e4657-9a28-405e-8a23-fccfd16469f5",
   "metadata": {
    "tags": []
   },
   "outputs": [],
   "source": []
  }
 ],
 "metadata": {
  "kernelspec": {
   "display_name": "Python 3 (ipykernel)",
   "language": "python",
   "name": "python3"
  },
  "language_info": {
   "codemirror_mode": {
    "name": "ipython",
    "version": 3
   },
   "file_extension": ".py",
   "mimetype": "text/x-python",
   "name": "python",
   "nbconvert_exporter": "python",
   "pygments_lexer": "ipython3",
   "version": "3.10.4"
  }
 },
 "nbformat": 4,
 "nbformat_minor": 5
}
