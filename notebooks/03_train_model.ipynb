{
 "cells": [
  {
   "cell_type": "markdown",
   "id": "67ceb951-7db5-4a88-aff0-e0561229b6af",
   "metadata": {},
   "source": [
    "# Train a RoBERTa model"
   ]
  },
  {
   "cell_type": "code",
   "execution_count": 1,
   "id": "e9576922-2fa0-4aaa-b655-0150583d3b36",
   "metadata": {
    "tags": []
   },
   "outputs": [],
   "source": [
    "import sys\n",
    "\n",
    "sys.path.append(\"..\")"
   ]
  },
  {
   "cell_type": "code",
   "execution_count": 2,
   "id": "256ffc2c-7130-4742-a5f7-03ab9e241599",
   "metadata": {
    "tags": []
   },
   "outputs": [],
   "source": [
    "from transformers import (\n",
    "    DataCollatorWithPadding,\n",
    "    RobertaConfig,\n",
    "    RobertaForSequenceClassification,\n",
    "    RobertaTokenizerFast,\n",
    "    TrainingArguments,\n",
    ")\n",
    "\n",
    "from adna.pylib import consts\n",
    "from adna.pylib.bpe_dataset import BPEDataset\n",
    "from adna.pylib.weighted_trainer import WeightedTrainer"
   ]
  },
  {
   "cell_type": "markdown",
   "id": "24334516-a86b-4c2b-ace8-389f35310499",
   "metadata": {},
   "source": [
    "## Data augmentation parameters"
   ]
  },
  {
   "cell_type": "code",
   "execution_count": 3,
   "id": "a4fd3875-8b46-43c4-990d-0f9c3d44a136",
   "metadata": {},
   "outputs": [],
   "source": [
    "REV_COMP_RATE = 0.5"
   ]
  },
  {
   "cell_type": "markdown",
   "id": "b9410c17-dcc9-4e7b-9fae-3ffec6ba51f3",
   "metadata": {},
   "source": [
    "## Training parameters"
   ]
  },
  {
   "cell_type": "code",
   "execution_count": 4,
   "id": "9d4edb84-8a16-4fdc-b37b-fe726babd169",
   "metadata": {
    "tags": []
   },
   "outputs": [],
   "source": [
    "TRAIN_EPOCHS = 20\n",
    "LEARNING_RATE = 3e-5\n",
    "TRAIN_BATCH_SIZE = 192\n",
    "EVAL_BATCH_SIZE = 192\n",
    "\n",
    "NUM_HIDDEN_LAYERS = 6\n",
    "NUM_ATTENTION_HEADS = 6\n",
    "HIDDEN_SIZE = NUM_ATTENTION_HEADS * 32\n",
    "\n",
    "MODEL_DIR = 'train'  # Save models to this sub-directory"
   ]
  },
  {
   "cell_type": "markdown",
   "id": "45d7ca06-3814-440e-a85b-c35e13889c51",
   "metadata": {},
   "source": [
    "## Get the tokenizer"
   ]
  },
  {
   "cell_type": "code",
   "execution_count": 5,
   "id": "57761d91-ce6d-4ec2-a767-b6c91184dc5a",
   "metadata": {
    "tags": []
   },
   "outputs": [],
   "source": [
    "tokenizer_path = str(consts.MT_DIR)\n",
    "tokenizer = RobertaTokenizerFast.from_pretrained(tokenizer_path)"
   ]
  },
  {
   "cell_type": "markdown",
   "id": "139c5033-25cf-4536-9887-01f7f978f0e3",
   "metadata": {},
   "source": [
    "## Get the datasets"
   ]
  },
  {
   "cell_type": "code",
   "execution_count": 6,
   "id": "14b12f62-0a76-4138-b8d8-f6c860a82112",
   "metadata": {
    "tags": []
   },
   "outputs": [],
   "source": [
    "train_dataset = BPEDataset('train', tokenizer, rev_comp_rate=REV_COMP_RATE)\n",
    "eval_dataset = BPEDataset('val', tokenizer)"
   ]
  },
  {
   "cell_type": "code",
   "execution_count": 7,
   "id": "f0d6902b-81bc-49c9-b9cc-b6228fa31197",
   "metadata": {
    "tags": []
   },
   "outputs": [
    {
     "data": {
      "text/plain": [
       "{'input_ids': [0, 2102, 389, 332, 274, 3023, 2454, 3649, 1141, 262, 1215, 458, 567, 314, 360, 351, 278, 282, 350, 277, 288, 746, 302, 56, 2, 1, 1, 1, 1, 1, 1, 1, 1, 1, 1, 1, 1, 1, 1, 1, 1, 1, 1, 1, 1, 1, 1, 1, 1, 1, 1, 1, 1, 1, 1, 1, 1, 1, 1, 1, 1, 1, 1, 1, 1, 1, 1, 1, 1, 1, 1, 1, 1, 1, 1, 1, 1, 1, 1, 1, 1, 1, 1, 1, 1, 1, 1, 1, 1, 1, 1, 1, 1, 1, 1, 1, 1, 1, 1, 1], 'attention_mask': [1, 1, 1, 1, 1, 1, 1, 1, 1, 1, 1, 1, 1, 1, 1, 1, 1, 1, 1, 1, 1, 1, 1, 1, 1, 0, 0, 0, 0, 0, 0, 0, 0, 0, 0, 0, 0, 0, 0, 0, 0, 0, 0, 0, 0, 0, 0, 0, 0, 0, 0, 0, 0, 0, 0, 0, 0, 0, 0, 0, 0, 0, 0, 0, 0, 0, 0, 0, 0, 0, 0, 0, 0, 0, 0, 0, 0, 0, 0, 0, 0, 0, 0, 0, 0, 0, 0, 0, 0, 0, 0, 0, 0, 0, 0, 0, 0, 0, 0, 0], 'label': tensor(0)}"
      ]
     },
     "execution_count": 7,
     "metadata": {},
     "output_type": "execute_result"
    }
   ],
   "source": [
    "train_dataset[0]"
   ]
  },
  {
   "cell_type": "code",
   "execution_count": 8,
   "id": "1b4b5a9a-f042-4b82-a01c-84b8d6b96df9",
   "metadata": {
    "tags": []
   },
   "outputs": [
    {
     "data": {
      "text/plain": [
       "287233"
      ]
     },
     "execution_count": 8,
     "metadata": {},
     "output_type": "execute_result"
    }
   ],
   "source": [
    "len(train_dataset)"
   ]
  },
  {
   "cell_type": "markdown",
   "id": "0107a461-6506-4c88-9ebc-481cd4ec9f29",
   "metadata": {},
   "source": [
    "## Adjust weights"
   ]
  },
  {
   "cell_type": "code",
   "execution_count": 9,
   "id": "0cb952c4-f45a-4f14-836c-886a32a4bb76",
   "metadata": {},
   "outputs": [
    {
     "name": "stdout",
     "output_type": "stream",
     "text": [
      "[0.60151492 2.96269211]\n"
     ]
    },
    {
     "data": {
      "text/plain": [
       "array([1., 3.])"
      ]
     },
     "execution_count": 9,
     "metadata": {},
     "output_type": "execute_result"
    }
   ],
   "source": [
    "WEIGHTS = train_dataset.get_weights()\n",
    "print(WEIGHTS)\n",
    "WEIGHTS[0] = 1.0\n",
    "WEIGHTS[1] = 3.0\n",
    "WEIGHTS"
   ]
  },
  {
   "cell_type": "markdown",
   "id": "3cad08a0-aa75-4192-91be-e2b2083e9105",
   "metadata": {},
   "source": [
    "## Build the model"
   ]
  },
  {
   "cell_type": "code",
   "execution_count": 10,
   "id": "d464ac84-c537-437d-a38a-1b507a9e6888",
   "metadata": {
    "tags": []
   },
   "outputs": [],
   "source": [
    "config = RobertaConfig(\n",
    "    vocab_size=consts.VOCAB_SIZE,\n",
    "    num_hidden_layers=6,\n",
    "    type_vocab_size=1,\n",
    "    num_labels=len(WEIGHTS),\n",
    "    max_position_embeddings=consts.MAX_LENGTH,\n",
    "    num_attention_heads=NUM_ATTENTION_HEADS,\n",
    "    hidden_size=HIDDEN_SIZE,\n",
    ")"
   ]
  },
  {
   "cell_type": "code",
   "execution_count": 11,
   "id": "f64c22b6-270b-4d93-98a6-87cf0566989e",
   "metadata": {
    "tags": []
   },
   "outputs": [],
   "source": [
    "model = RobertaForSequenceClassification(config=config)"
   ]
  },
  {
   "cell_type": "markdown",
   "id": "23e3a994-5723-4dae-abda-788d19cc6042",
   "metadata": {},
   "source": [
    "## Build the data collator"
   ]
  },
  {
   "cell_type": "code",
   "execution_count": 12,
   "id": "377c1637-f124-4afc-a37b-0bb8d784a013",
   "metadata": {
    "tags": []
   },
   "outputs": [],
   "source": [
    "data_collator = DataCollatorWithPadding(\n",
    "    tokenizer=tokenizer,\n",
    "    padding=\"max_length\",\n",
    "    max_length=consts.MAX_LENGTH,\n",
    ")"
   ]
  },
  {
   "cell_type": "markdown",
   "id": "4a115b60-0059-4ad9-9ab7-96f2bb26c982",
   "metadata": {},
   "source": [
    "## Build the trainer"
   ]
  },
  {
   "cell_type": "code",
   "execution_count": 13,
   "id": "d6b06c5f-2388-43c8-9fe5-e89138c94bc0",
   "metadata": {
    "tags": []
   },
   "outputs": [],
   "source": [
    "training_args = TrainingArguments(\n",
    "    output_dir=consts.MT_DIR / MODEL_DIR,\n",
    "    overwrite_output_dir=True,\n",
    "    num_train_epochs=TRAIN_EPOCHS,\n",
    "    learning_rate=LEARNING_RATE,\n",
    "    per_device_train_batch_size=TRAIN_BATCH_SIZE,\n",
    "    per_device_eval_batch_size=EVAL_BATCH_SIZE,\n",
    "    evaluation_strategy=\"epoch\",\n",
    "    logging_strategy=\"epoch\",\n",
    "    save_strategy=\"epoch\",\n",
    "    seed=23,\n",
    ")"
   ]
  },
  {
   "cell_type": "code",
   "execution_count": 14,
   "id": "15ab8724-376d-479c-ae98-f62390024fe1",
   "metadata": {
    "tags": []
   },
   "outputs": [],
   "source": [
    "trainer = WeightedTrainer(\n",
    "    WEIGHTS,\n",
    "    model=model,\n",
    "    args=training_args,\n",
    "    train_dataset=train_dataset,\n",
    "    eval_dataset=eval_dataset,\n",
    "    tokenizer=tokenizer,\n",
    "    data_collator=data_collator,\n",
    ")"
   ]
  },
  {
   "cell_type": "markdown",
   "id": "0e788aed-dd9e-43e5-99a9-a3215bfae35a",
   "metadata": {
    "tags": []
   },
   "source": [
    "## Train"
   ]
  },
  {
   "cell_type": "code",
   "execution_count": 15,
   "id": "cbe4fc8f-d4ee-497d-b75d-2550e0c1f576",
   "metadata": {},
   "outputs": [
    {
     "name": "stderr",
     "output_type": "stream",
     "text": [
      "/museum/rafe/other/adna/.venv/lib/python3.10/site-packages/transformers/optimization.py:306: FutureWarning: This implementation of AdamW is deprecated and will be removed in a future version. Use the PyTorch implementation torch.optim.AdamW instead, or set `no_deprecation_warning=True` to disable this warning\n",
      "  warnings.warn(\n",
      "***** Running training *****\n",
      "  Num examples = 287233\n",
      "  Num Epochs = 20\n",
      "  Instantaneous batch size per device = 192\n",
      "  Total train batch size (w. parallel, distributed & accumulation) = 192\n",
      "  Gradient Accumulation steps = 1\n",
      "  Total optimization steps = 29940\n"
     ]
    },
    {
     "data": {
      "text/html": [
       "\n",
       "    <div>\n",
       "      \n",
       "      <progress value='29940' max='29940' style='width:300px; height:20px; vertical-align: middle;'></progress>\n",
       "      [29940/29940 3:59:41, Epoch 20/20]\n",
       "    </div>\n",
       "    <table border=\"1\" class=\"dataframe\">\n",
       "  <thead>\n",
       " <tr style=\"text-align: left;\">\n",
       "      <th>Epoch</th>\n",
       "      <th>Training Loss</th>\n",
       "      <th>Validation Loss</th>\n",
       "    </tr>\n",
       "  </thead>\n",
       "  <tbody>\n",
       "    <tr>\n",
       "      <td>1</td>\n",
       "      <td>0.381900</td>\n",
       "      <td>0.314163</td>\n",
       "    </tr>\n",
       "    <tr>\n",
       "      <td>2</td>\n",
       "      <td>0.285800</td>\n",
       "      <td>0.296994</td>\n",
       "    </tr>\n",
       "    <tr>\n",
       "      <td>3</td>\n",
       "      <td>0.269000</td>\n",
       "      <td>0.262355</td>\n",
       "    </tr>\n",
       "    <tr>\n",
       "      <td>4</td>\n",
       "      <td>0.254700</td>\n",
       "      <td>0.257172</td>\n",
       "    </tr>\n",
       "    <tr>\n",
       "      <td>5</td>\n",
       "      <td>0.243200</td>\n",
       "      <td>0.252148</td>\n",
       "    </tr>\n",
       "    <tr>\n",
       "      <td>6</td>\n",
       "      <td>0.232600</td>\n",
       "      <td>0.238826</td>\n",
       "    </tr>\n",
       "    <tr>\n",
       "      <td>7</td>\n",
       "      <td>0.224300</td>\n",
       "      <td>0.227548</td>\n",
       "    </tr>\n",
       "    <tr>\n",
       "      <td>8</td>\n",
       "      <td>0.215500</td>\n",
       "      <td>0.238005</td>\n",
       "    </tr>\n",
       "    <tr>\n",
       "      <td>9</td>\n",
       "      <td>0.209100</td>\n",
       "      <td>0.214316</td>\n",
       "    </tr>\n",
       "    <tr>\n",
       "      <td>10</td>\n",
       "      <td>0.202800</td>\n",
       "      <td>0.217535</td>\n",
       "    </tr>\n",
       "    <tr>\n",
       "      <td>11</td>\n",
       "      <td>0.197000</td>\n",
       "      <td>0.214108</td>\n",
       "    </tr>\n",
       "    <tr>\n",
       "      <td>12</td>\n",
       "      <td>0.193800</td>\n",
       "      <td>0.206435</td>\n",
       "    </tr>\n",
       "    <tr>\n",
       "      <td>13</td>\n",
       "      <td>0.189300</td>\n",
       "      <td>0.219597</td>\n",
       "    </tr>\n",
       "    <tr>\n",
       "      <td>14</td>\n",
       "      <td>0.188000</td>\n",
       "      <td>0.200961</td>\n",
       "    </tr>\n",
       "    <tr>\n",
       "      <td>15</td>\n",
       "      <td>0.183500</td>\n",
       "      <td>0.207377</td>\n",
       "    </tr>\n",
       "    <tr>\n",
       "      <td>16</td>\n",
       "      <td>0.181500</td>\n",
       "      <td>0.199296</td>\n",
       "    </tr>\n",
       "    <tr>\n",
       "      <td>17</td>\n",
       "      <td>0.179500</td>\n",
       "      <td>0.197448</td>\n",
       "    </tr>\n",
       "    <tr>\n",
       "      <td>18</td>\n",
       "      <td>0.177500</td>\n",
       "      <td>0.196513</td>\n",
       "    </tr>\n",
       "    <tr>\n",
       "      <td>19</td>\n",
       "      <td>0.175800</td>\n",
       "      <td>0.199053</td>\n",
       "    </tr>\n",
       "    <tr>\n",
       "      <td>20</td>\n",
       "      <td>0.174300</td>\n",
       "      <td>0.197300</td>\n",
       "    </tr>\n",
       "  </tbody>\n",
       "</table><p>"
      ],
      "text/plain": [
       "<IPython.core.display.HTML object>"
      ]
     },
     "metadata": {},
     "output_type": "display_data"
    },
    {
     "name": "stderr",
     "output_type": "stream",
     "text": [
      "***** Running Evaluation *****\n",
      "  Num examples = 95744\n",
      "  Batch size = 192\n",
      "Saving model checkpoint to ../data/UF46992/train/checkpoint-1497\n",
      "Configuration saved in ../data/UF46992/train/checkpoint-1497/config.json\n",
      "Model weights saved in ../data/UF46992/train/checkpoint-1497/pytorch_model.bin\n",
      "tokenizer config file saved in ../data/UF46992/train/checkpoint-1497/tokenizer_config.json\n",
      "Special tokens file saved in ../data/UF46992/train/checkpoint-1497/special_tokens_map.json\n",
      "***** Running Evaluation *****\n",
      "  Num examples = 95744\n",
      "  Batch size = 192\n",
      "Saving model checkpoint to ../data/UF46992/train/checkpoint-2994\n",
      "Configuration saved in ../data/UF46992/train/checkpoint-2994/config.json\n",
      "Model weights saved in ../data/UF46992/train/checkpoint-2994/pytorch_model.bin\n",
      "tokenizer config file saved in ../data/UF46992/train/checkpoint-2994/tokenizer_config.json\n",
      "Special tokens file saved in ../data/UF46992/train/checkpoint-2994/special_tokens_map.json\n",
      "***** Running Evaluation *****\n",
      "  Num examples = 95744\n",
      "  Batch size = 192\n",
      "Saving model checkpoint to ../data/UF46992/train/checkpoint-4491\n",
      "Configuration saved in ../data/UF46992/train/checkpoint-4491/config.json\n",
      "Model weights saved in ../data/UF46992/train/checkpoint-4491/pytorch_model.bin\n",
      "tokenizer config file saved in ../data/UF46992/train/checkpoint-4491/tokenizer_config.json\n",
      "Special tokens file saved in ../data/UF46992/train/checkpoint-4491/special_tokens_map.json\n",
      "***** Running Evaluation *****\n",
      "  Num examples = 95744\n",
      "  Batch size = 192\n",
      "Saving model checkpoint to ../data/UF46992/train/checkpoint-5988\n",
      "Configuration saved in ../data/UF46992/train/checkpoint-5988/config.json\n",
      "Model weights saved in ../data/UF46992/train/checkpoint-5988/pytorch_model.bin\n",
      "tokenizer config file saved in ../data/UF46992/train/checkpoint-5988/tokenizer_config.json\n",
      "Special tokens file saved in ../data/UF46992/train/checkpoint-5988/special_tokens_map.json\n",
      "***** Running Evaluation *****\n",
      "  Num examples = 95744\n",
      "  Batch size = 192\n",
      "Saving model checkpoint to ../data/UF46992/train/checkpoint-7485\n",
      "Configuration saved in ../data/UF46992/train/checkpoint-7485/config.json\n",
      "Model weights saved in ../data/UF46992/train/checkpoint-7485/pytorch_model.bin\n",
      "tokenizer config file saved in ../data/UF46992/train/checkpoint-7485/tokenizer_config.json\n",
      "Special tokens file saved in ../data/UF46992/train/checkpoint-7485/special_tokens_map.json\n",
      "***** Running Evaluation *****\n",
      "  Num examples = 95744\n",
      "  Batch size = 192\n",
      "Saving model checkpoint to ../data/UF46992/train/checkpoint-8982\n",
      "Configuration saved in ../data/UF46992/train/checkpoint-8982/config.json\n",
      "Model weights saved in ../data/UF46992/train/checkpoint-8982/pytorch_model.bin\n",
      "tokenizer config file saved in ../data/UF46992/train/checkpoint-8982/tokenizer_config.json\n",
      "Special tokens file saved in ../data/UF46992/train/checkpoint-8982/special_tokens_map.json\n",
      "***** Running Evaluation *****\n",
      "  Num examples = 95744\n",
      "  Batch size = 192\n",
      "Saving model checkpoint to ../data/UF46992/train/checkpoint-10479\n",
      "Configuration saved in ../data/UF46992/train/checkpoint-10479/config.json\n",
      "Model weights saved in ../data/UF46992/train/checkpoint-10479/pytorch_model.bin\n",
      "tokenizer config file saved in ../data/UF46992/train/checkpoint-10479/tokenizer_config.json\n",
      "Special tokens file saved in ../data/UF46992/train/checkpoint-10479/special_tokens_map.json\n",
      "***** Running Evaluation *****\n",
      "  Num examples = 95744\n",
      "  Batch size = 192\n",
      "Saving model checkpoint to ../data/UF46992/train/checkpoint-11976\n",
      "Configuration saved in ../data/UF46992/train/checkpoint-11976/config.json\n",
      "Model weights saved in ../data/UF46992/train/checkpoint-11976/pytorch_model.bin\n",
      "tokenizer config file saved in ../data/UF46992/train/checkpoint-11976/tokenizer_config.json\n",
      "Special tokens file saved in ../data/UF46992/train/checkpoint-11976/special_tokens_map.json\n",
      "***** Running Evaluation *****\n",
      "  Num examples = 95744\n",
      "  Batch size = 192\n",
      "Saving model checkpoint to ../data/UF46992/train/checkpoint-13473\n",
      "Configuration saved in ../data/UF46992/train/checkpoint-13473/config.json\n",
      "Model weights saved in ../data/UF46992/train/checkpoint-13473/pytorch_model.bin\n",
      "tokenizer config file saved in ../data/UF46992/train/checkpoint-13473/tokenizer_config.json\n",
      "Special tokens file saved in ../data/UF46992/train/checkpoint-13473/special_tokens_map.json\n",
      "***** Running Evaluation *****\n",
      "  Num examples = 95744\n",
      "  Batch size = 192\n",
      "Saving model checkpoint to ../data/UF46992/train/checkpoint-14970\n",
      "Configuration saved in ../data/UF46992/train/checkpoint-14970/config.json\n",
      "Model weights saved in ../data/UF46992/train/checkpoint-14970/pytorch_model.bin\n",
      "tokenizer config file saved in ../data/UF46992/train/checkpoint-14970/tokenizer_config.json\n",
      "Special tokens file saved in ../data/UF46992/train/checkpoint-14970/special_tokens_map.json\n",
      "***** Running Evaluation *****\n",
      "  Num examples = 95744\n",
      "  Batch size = 192\n",
      "Saving model checkpoint to ../data/UF46992/train/checkpoint-16467\n",
      "Configuration saved in ../data/UF46992/train/checkpoint-16467/config.json\n",
      "Model weights saved in ../data/UF46992/train/checkpoint-16467/pytorch_model.bin\n",
      "tokenizer config file saved in ../data/UF46992/train/checkpoint-16467/tokenizer_config.json\n",
      "Special tokens file saved in ../data/UF46992/train/checkpoint-16467/special_tokens_map.json\n",
      "***** Running Evaluation *****\n",
      "  Num examples = 95744\n",
      "  Batch size = 192\n",
      "Saving model checkpoint to ../data/UF46992/train/checkpoint-17964\n",
      "Configuration saved in ../data/UF46992/train/checkpoint-17964/config.json\n",
      "Model weights saved in ../data/UF46992/train/checkpoint-17964/pytorch_model.bin\n",
      "tokenizer config file saved in ../data/UF46992/train/checkpoint-17964/tokenizer_config.json\n",
      "Special tokens file saved in ../data/UF46992/train/checkpoint-17964/special_tokens_map.json\n",
      "***** Running Evaluation *****\n",
      "  Num examples = 95744\n",
      "  Batch size = 192\n",
      "Saving model checkpoint to ../data/UF46992/train/checkpoint-19461\n",
      "Configuration saved in ../data/UF46992/train/checkpoint-19461/config.json\n",
      "Model weights saved in ../data/UF46992/train/checkpoint-19461/pytorch_model.bin\n",
      "tokenizer config file saved in ../data/UF46992/train/checkpoint-19461/tokenizer_config.json\n",
      "Special tokens file saved in ../data/UF46992/train/checkpoint-19461/special_tokens_map.json\n",
      "***** Running Evaluation *****\n",
      "  Num examples = 95744\n",
      "  Batch size = 192\n",
      "Saving model checkpoint to ../data/UF46992/train/checkpoint-20958\n",
      "Configuration saved in ../data/UF46992/train/checkpoint-20958/config.json\n",
      "Model weights saved in ../data/UF46992/train/checkpoint-20958/pytorch_model.bin\n",
      "tokenizer config file saved in ../data/UF46992/train/checkpoint-20958/tokenizer_config.json\n",
      "Special tokens file saved in ../data/UF46992/train/checkpoint-20958/special_tokens_map.json\n",
      "***** Running Evaluation *****\n",
      "  Num examples = 95744\n",
      "  Batch size = 192\n",
      "Saving model checkpoint to ../data/UF46992/train/checkpoint-22455\n",
      "Configuration saved in ../data/UF46992/train/checkpoint-22455/config.json\n",
      "Model weights saved in ../data/UF46992/train/checkpoint-22455/pytorch_model.bin\n",
      "tokenizer config file saved in ../data/UF46992/train/checkpoint-22455/tokenizer_config.json\n",
      "Special tokens file saved in ../data/UF46992/train/checkpoint-22455/special_tokens_map.json\n",
      "***** Running Evaluation *****\n",
      "  Num examples = 95744\n",
      "  Batch size = 192\n",
      "Saving model checkpoint to ../data/UF46992/train/checkpoint-23952\n",
      "Configuration saved in ../data/UF46992/train/checkpoint-23952/config.json\n",
      "Model weights saved in ../data/UF46992/train/checkpoint-23952/pytorch_model.bin\n",
      "tokenizer config file saved in ../data/UF46992/train/checkpoint-23952/tokenizer_config.json\n",
      "Special tokens file saved in ../data/UF46992/train/checkpoint-23952/special_tokens_map.json\n",
      "***** Running Evaluation *****\n",
      "  Num examples = 95744\n",
      "  Batch size = 192\n",
      "Saving model checkpoint to ../data/UF46992/train/checkpoint-25449\n",
      "Configuration saved in ../data/UF46992/train/checkpoint-25449/config.json\n",
      "Model weights saved in ../data/UF46992/train/checkpoint-25449/pytorch_model.bin\n",
      "tokenizer config file saved in ../data/UF46992/train/checkpoint-25449/tokenizer_config.json\n",
      "Special tokens file saved in ../data/UF46992/train/checkpoint-25449/special_tokens_map.json\n",
      "***** Running Evaluation *****\n",
      "  Num examples = 95744\n",
      "  Batch size = 192\n",
      "Saving model checkpoint to ../data/UF46992/train/checkpoint-26946\n",
      "Configuration saved in ../data/UF46992/train/checkpoint-26946/config.json\n",
      "Model weights saved in ../data/UF46992/train/checkpoint-26946/pytorch_model.bin\n",
      "tokenizer config file saved in ../data/UF46992/train/checkpoint-26946/tokenizer_config.json\n",
      "Special tokens file saved in ../data/UF46992/train/checkpoint-26946/special_tokens_map.json\n",
      "***** Running Evaluation *****\n",
      "  Num examples = 95744\n",
      "  Batch size = 192\n",
      "Saving model checkpoint to ../data/UF46992/train/checkpoint-28443\n",
      "Configuration saved in ../data/UF46992/train/checkpoint-28443/config.json\n",
      "Model weights saved in ../data/UF46992/train/checkpoint-28443/pytorch_model.bin\n",
      "tokenizer config file saved in ../data/UF46992/train/checkpoint-28443/tokenizer_config.json\n",
      "Special tokens file saved in ../data/UF46992/train/checkpoint-28443/special_tokens_map.json\n",
      "***** Running Evaluation *****\n",
      "  Num examples = 95744\n",
      "  Batch size = 192\n",
      "Saving model checkpoint to ../data/UF46992/train/checkpoint-29940\n",
      "Configuration saved in ../data/UF46992/train/checkpoint-29940/config.json\n",
      "Model weights saved in ../data/UF46992/train/checkpoint-29940/pytorch_model.bin\n",
      "tokenizer config file saved in ../data/UF46992/train/checkpoint-29940/tokenizer_config.json\n",
      "Special tokens file saved in ../data/UF46992/train/checkpoint-29940/special_tokens_map.json\n",
      "\n",
      "\n",
      "Training completed. Do not forget to share your model on huggingface.co/models =)\n",
      "\n",
      "\n"
     ]
    },
    {
     "data": {
      "text/plain": [
       "TrainOutput(global_step=29940, training_loss=0.21795053322791416, metrics={'train_runtime': 14381.7092, 'train_samples_per_second': 399.442, 'train_steps_per_second': 2.082, 'total_flos': 2.7675186783e+16, 'train_loss': 0.21795053322791416, 'epoch': 20.0})"
      ]
     },
     "execution_count": 15,
     "metadata": {},
     "output_type": "execute_result"
    }
   ],
   "source": [
    "trainer.train()"
   ]
  },
  {
   "cell_type": "markdown",
   "id": "8ae86239-ad7b-4a84-b575-980c05c9825e",
   "metadata": {
    "tags": []
   },
   "source": [
    "### It looks like epoch ?? is best\n",
    "\n",
    "Path = `../data/UF46992/train/checkpoint-??`"
   ]
  },
  {
   "cell_type": "code",
   "execution_count": null,
   "id": "0b8e4657-9a28-405e-8a23-fccfd16469f5",
   "metadata": {
    "tags": []
   },
   "outputs": [],
   "source": []
  }
 ],
 "metadata": {
  "kernelspec": {
   "display_name": "Python 3 (ipykernel)",
   "language": "python",
   "name": "python3"
  },
  "language_info": {
   "codemirror_mode": {
    "name": "ipython",
    "version": 3
   },
   "file_extension": ".py",
   "mimetype": "text/x-python",
   "name": "python",
   "nbconvert_exporter": "python",
   "pygments_lexer": "ipython3",
   "version": "3.10.4"
  }
 },
 "nbformat": 4,
 "nbformat_minor": 5
}
