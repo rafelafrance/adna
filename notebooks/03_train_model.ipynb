{
 "cells": [
  {
   "cell_type": "markdown",
   "id": "67ceb951-7db5-4a88-aff0-e0561229b6af",
   "metadata": {},
   "source": [
    "# Train a RoBERTa model"
   ]
  },
  {
   "cell_type": "code",
   "execution_count": 1,
   "id": "e9576922-2fa0-4aaa-b655-0150583d3b36",
   "metadata": {},
   "outputs": [],
   "source": [
    "import sys\n",
    "\n",
    "sys.path.append(\"..\")"
   ]
  },
  {
   "cell_type": "code",
   "execution_count": 2,
   "id": "256ffc2c-7130-4742-a5f7-03ab9e241599",
   "metadata": {},
   "outputs": [],
   "source": [
    "import sqlite3\n",
    "\n",
    "import torch\n",
    "from tokenizers import ByteLevelBPETokenizer\n",
    "from tokenizers.processors import BertProcessing\n",
    "from torch.utils.data import Dataset\n",
    "from tqdm import tqdm\n",
    "from transformers import (\n",
    "    DataCollatorWithPadding,\n",
    "    RobertaConfig,\n",
    "    RobertaForSequenceClassification,\n",
    "    RobertaTokenizerFast,\n",
    "    Trainer,\n",
    "    TrainingArguments,\n",
    ")\n",
    "\n",
    "from adna.pylib import consts"
   ]
  },
  {
   "cell_type": "code",
   "execution_count": 3,
   "id": "9d4edb84-8a16-4fdc-b37b-fe726babd169",
   "metadata": {},
   "outputs": [],
   "source": [
    "TRAIN_EPOCHS = 20\n",
    "LEARNING_RATE = 1e-4\n",
    "WEIGHT_DECAY = 0.01\n",
    "TRAIN_BATCH_SIZE = 128\n",
    "VALID_BATCH_SIZE = 128\n",
    "SUMMARY_LEN = 7"
   ]
  },
  {
   "cell_type": "markdown",
   "id": "45d7ca06-3814-440e-a85b-c35e13889c51",
   "metadata": {},
   "source": [
    "## Build the tokenizer"
   ]
  },
  {
   "cell_type": "code",
   "execution_count": 4,
   "id": "57761d91-ce6d-4ec2-a767-b6c91184dc5a",
   "metadata": {},
   "outputs": [],
   "source": [
    "tokenizer_path = str(consts.SUB_DIR)\n",
    "tokenizer = RobertaTokenizerFast.from_pretrained(tokenizer_path)"
   ]
  },
  {
   "cell_type": "markdown",
   "id": "139c5033-25cf-4536-9887-01f7f978f0e3",
   "metadata": {},
   "source": [
    "## Build the training datasets"
   ]
  },
  {
   "cell_type": "code",
   "execution_count": 5,
   "id": "4fcd3250-0750-46bd-a5c5-a9dfac18bd3c",
   "metadata": {},
   "outputs": [],
   "source": [
    "class ADnaDataset(Dataset):\n",
    "    def __init__(self, split, tokenizer):\n",
    "        self.split = split\n",
    "        self.tokenizer = tokenizer\n",
    "        self.cxn = sqlite3.connect(\":memory:\")\n",
    "        self.length = 0\n",
    "        self.db_to_memory()\n",
    "\n",
    "    def db_to_memory(self):\n",
    "        create = \"\"\"\n",
    "            create table seqs as\n",
    "            select seq, label, rev\n",
    "            from aux.seqs where split = ?\n",
    "            order by random()\n",
    "            limit 1000000\n",
    "            \"\"\"\n",
    "        self.cxn.execute(f\"attach database '{consts.SQL}' as aux\")\n",
    "        self.cxn.execute(create, (self.split,))\n",
    "        self.cxn.execute(\"detach database aux\")\n",
    "        count = self.cxn.execute(\"select count(*) from seqs\")\n",
    "        self.length = int(count.fetchone()[0])\n",
    "\n",
    "    def __len__(self):\n",
    "        return self.length\n",
    "\n",
    "    def __getitem__(self, row_id):\n",
    "        row_id += 1\n",
    "        sql = \"select * from seqs where rowid = ?\"\n",
    "        row = self.cxn.execute(sql, (row_id,)).fetchone()\n",
    "        encoded = tokenizer.encode_plus(\n",
    "            row[0],\n",
    "            padding=\"max_length\",\n",
    "            max_length=consts.MAX_LENGTH,\n",
    "        )\n",
    "        encoded[\"label\"] = torch.tensor(row[1])\n",
    "        return encoded"
   ]
  },
  {
   "cell_type": "code",
   "execution_count": 6,
   "id": "14b12f62-0a76-4138-b8d8-f6c860a82112",
   "metadata": {},
   "outputs": [],
   "source": [
    "train_dataset = ADnaDataset(\"train\", tokenizer)\n",
    "eval_dataset = ADnaDataset(\"val\", tokenizer)"
   ]
  },
  {
   "cell_type": "code",
   "execution_count": 7,
   "id": "f0d6902b-81bc-49c9-b9cc-b6228fa31197",
   "metadata": {},
   "outputs": [
    {
     "data": {
      "text/plain": [
       "{'input_ids': [0, 1817, 836, 515, 770, 3830, 847, 3120, 323, 326, 1821, 2696, 1065, 280, 810, 268, 481, 273, 545, 4067, 275, 293, 330, 1972, 1471, 651, 307, 277, 309, 266, 296, 285, 531, 278, 732, 2496, 640, 275, 592, 2, 1, 1, 1, 1, 1, 1, 1, 1, 1, 1, 1, 1, 1, 1, 1, 1, 1, 1, 1, 1, 1, 1, 1, 1, 1, 1, 1, 1, 1, 1, 1, 1, 1, 1, 1, 1, 1, 1, 1, 1], 'attention_mask': [1, 1, 1, 1, 1, 1, 1, 1, 1, 1, 1, 1, 1, 1, 1, 1, 1, 1, 1, 1, 1, 1, 1, 1, 1, 1, 1, 1, 1, 1, 1, 1, 1, 1, 1, 1, 1, 1, 1, 1, 0, 0, 0, 0, 0, 0, 0, 0, 0, 0, 0, 0, 0, 0, 0, 0, 0, 0, 0, 0, 0, 0, 0, 0, 0, 0, 0, 0, 0, 0, 0, 0, 0, 0, 0, 0, 0, 0, 0, 0], 'label': tensor(0)}"
      ]
     },
     "execution_count": 7,
     "metadata": {},
     "output_type": "execute_result"
    }
   ],
   "source": [
    "train_dataset[1]"
   ]
  },
  {
   "cell_type": "code",
   "execution_count": 8,
   "id": "1b4b5a9a-f042-4b82-a01c-84b8d6b96df9",
   "metadata": {},
   "outputs": [
    {
     "data": {
      "text/plain": [
       "1000000"
      ]
     },
     "execution_count": 8,
     "metadata": {},
     "output_type": "execute_result"
    }
   ],
   "source": [
    "len(train_dataset)"
   ]
  },
  {
   "cell_type": "markdown",
   "id": "3cad08a0-aa75-4192-91be-e2b2083e9105",
   "metadata": {},
   "source": [
    "## Build the model"
   ]
  },
  {
   "cell_type": "code",
   "execution_count": 9,
   "id": "d464ac84-c537-437d-a38a-1b507a9e6888",
   "metadata": {},
   "outputs": [],
   "source": [
    "config = RobertaConfig(\n",
    "    vocab_size=consts.VOCAB_SIZE,\n",
    "    num_hidden_layers=6,\n",
    "    type_vocab_size=1,\n",
    ")"
   ]
  },
  {
   "cell_type": "code",
   "execution_count": 10,
   "id": "f64c22b6-270b-4d93-98a6-87cf0566989e",
   "metadata": {},
   "outputs": [],
   "source": [
    "model = RobertaForSequenceClassification(config=config)"
   ]
  },
  {
   "cell_type": "code",
   "execution_count": 11,
   "id": "06e19567-cde6-49c9-a123-9e7ba0300860",
   "metadata": {},
   "outputs": [
    {
     "data": {
      "text/plain": [
       "46660610"
      ]
     },
     "execution_count": 11,
     "metadata": {},
     "output_type": "execute_result"
    }
   ],
   "source": [
    "model.num_parameters()"
   ]
  },
  {
   "cell_type": "code",
   "execution_count": 12,
   "id": "377c1637-f124-4afc-a37b-0bb8d784a013",
   "metadata": {},
   "outputs": [],
   "source": [
    "data_collator = DataCollatorWithPadding(\n",
    "    tokenizer=tokenizer,\n",
    "    padding=\"max_length\",\n",
    "    max_length=consts.MAX_LENGTH,\n",
    ")"
   ]
  },
  {
   "cell_type": "code",
   "execution_count": 13,
   "id": "d6b06c5f-2388-43c8-9fe5-e89138c94bc0",
   "metadata": {},
   "outputs": [],
   "source": [
    "training_args = TrainingArguments(\n",
    "    output_dir=consts.SUB_DIR,\n",
    "    overwrite_output_dir=True,\n",
    "    evaluation_strategy=\"epoch\",\n",
    "    num_train_epochs=TRAIN_EPOCHS,\n",
    "    learning_rate=LEARNING_RATE,\n",
    "    weight_decay=WEIGHT_DECAY,\n",
    "    per_device_train_batch_size=TRAIN_BATCH_SIZE,\n",
    "    per_device_eval_batch_size=VALID_BATCH_SIZE,\n",
    "    save_steps=8192,\n",
    "    # save_total_limit=1,\n",
    ")"
   ]
  },
  {
   "cell_type": "code",
   "execution_count": 14,
   "id": "15ab8724-376d-479c-ae98-f62390024fe1",
   "metadata": {},
   "outputs": [],
   "source": [
    "trainer = Trainer(\n",
    "    model=model,\n",
    "    args=training_args,\n",
    "    train_dataset=train_dataset,\n",
    "    eval_dataset=eval_dataset,\n",
    "    tokenizer=tokenizer,\n",
    "    data_collator=data_collator,\n",
    ")"
   ]
  },
  {
   "cell_type": "code",
   "execution_count": null,
   "id": "abd42fbb-672e-42af-bb12-070868edfdba",
   "metadata": {},
   "outputs": [
    {
     "name": "stderr",
     "output_type": "stream",
     "text": [
      "/museum/rafe/other/adna/.venv/lib/python3.10/site-packages/transformers/optimization.py:306: FutureWarning: This implementation of AdamW is deprecated and will be removed in a future version. Use the PyTorch implementation torch.optim.AdamW instead, or set `no_deprecation_warning=True` to disable this warning\n",
      "  warnings.warn(\n",
      "***** Running training *****\n",
      "  Num examples = 1000000\n",
      "  Num Epochs = 20\n",
      "  Instantaneous batch size per device = 128\n",
      "  Total train batch size (w. parallel, distributed & accumulation) = 128\n",
      "  Gradient Accumulation steps = 1\n",
      "  Total optimization steps = 156260\n"
     ]
    },
    {
     "data": {
      "text/html": [
       "\n",
       "    <div>\n",
       "      \n",
       "      <progress value='154' max='156260' style='width:300px; height:20px; vertical-align: middle;'></progress>\n",
       "      [   154/156260 01:42 < 29:18:32, 1.48 it/s, Epoch 0.02/20]\n",
       "    </div>\n",
       "    <table border=\"1\" class=\"dataframe\">\n",
       "  <thead>\n",
       " <tr style=\"text-align: left;\">\n",
       "      <th>Epoch</th>\n",
       "      <th>Training Loss</th>\n",
       "      <th>Validation Loss</th>\n",
       "    </tr>\n",
       "  </thead>\n",
       "  <tbody>\n",
       "  </tbody>\n",
       "</table><p>"
      ],
      "text/plain": [
       "<IPython.core.display.HTML object>"
      ]
     },
     "metadata": {},
     "output_type": "display_data"
    }
   ],
   "source": [
    "trainer.train()"
   ]
  },
  {
   "cell_type": "code",
   "execution_count": null,
   "id": "d4282616-ddac-4642-b312-7e49529d5439",
   "metadata": {},
   "outputs": [],
   "source": []
  }
 ],
 "metadata": {
  "kernelspec": {
   "display_name": "Python 3 (ipykernel)",
   "language": "python",
   "name": "python3"
  },
  "language_info": {
   "codemirror_mode": {
    "name": "ipython",
    "version": 3
   },
   "file_extension": ".py",
   "mimetype": "text/x-python",
   "name": "python",
   "nbconvert_exporter": "python",
   "pygments_lexer": "ipython3",
   "version": "3.10.4"
  }
 },
 "nbformat": 4,
 "nbformat_minor": 5
}
