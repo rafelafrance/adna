{
 "cells": [
  {
   "cell_type": "code",
   "execution_count": 1,
   "id": "7f6c9a5c-6d73-4c5f-8b32-16754ccec225",
   "metadata": {},
   "outputs": [],
   "source": [
    "import sys\n",
    "\n",
    "sys.path.append(\"..\")"
   ]
  },
  {
   "cell_type": "code",
   "execution_count": 2,
   "id": "0ea991ed-8e0a-4ae3-a996-d2633b1682c7",
   "metadata": {},
   "outputs": [],
   "source": [
    "from transformers import (\n",
    "    DataCollatorWithPadding,\n",
    "    RobertaForSequenceClassification,\n",
    "    RobertaTokenizerFast,\n",
    "    TrainingArguments,\n",
    ")\n",
    "\n",
    "from adna.pylib import consts\n",
    "from adna.pylib.adna_dataset import ADnaDataset\n",
    "from adna.pylib.weighted_trainer import WeightedTrainer"
   ]
  },
  {
   "cell_type": "markdown",
   "id": "00730920-36a7-4fb6-a6ac-2bdd84a5a97f",
   "metadata": {},
   "source": [
    "## The model to fine tune"
   ]
  },
  {
   "cell_type": "code",
   "execution_count": 3,
   "id": "69ffd778-4ae5-4284-a686-23a472582ab2",
   "metadata": {},
   "outputs": [],
   "source": [
    "MODEL_PATH = consts.MT_DIR / \"train\" / \"checkpoint-47888\""
   ]
  },
  {
   "cell_type": "markdown",
   "id": "25c17549-8e67-4f7b-8254-6f4fc918ae18",
   "metadata": {},
   "source": [
    "## Data augmentation parameters"
   ]
  },
  {
   "cell_type": "code",
   "execution_count": 4,
   "id": "1390568d-c999-4fbb-bfdc-0935718abd13",
   "metadata": {},
   "outputs": [],
   "source": [
    "REV_COMP_RATE = 0.5\n",
    "TO_N_RATE = 0.02"
   ]
  },
  {
   "cell_type": "markdown",
   "id": "abd6fd33-28e6-44e6-90dd-766a8772048d",
   "metadata": {},
   "source": [
    "## Training parameters"
   ]
  },
  {
   "cell_type": "code",
   "execution_count": 5,
   "id": "1bacb371-f1be-45f3-91a2-448e31a28887",
   "metadata": {},
   "outputs": [],
   "source": [
    "TRAIN_EPOCHS = 50\n",
    "LEARNING_RATE = 1e-5\n",
    "TRAIN_BATCH_SIZE = 96\n",
    "EVAL_BATCH_SIZE = 96\n",
    "\n",
    "MODEL_DIR = 'finetune'  # Save check points to this sub-directory"
   ]
  },
  {
   "cell_type": "markdown",
   "id": "b9807cf0-fcb4-48e8-87ac-013b1aa53e8b",
   "metadata": {},
   "source": [
    "## Get the tokenizer"
   ]
  },
  {
   "cell_type": "code",
   "execution_count": 6,
   "id": "e15fc2ee-0451-482b-a959-809b44c1d363",
   "metadata": {},
   "outputs": [],
   "source": [
    "tokenizer_path = str(consts.MT_DIR)\n",
    "tokenizer = RobertaTokenizerFast.from_pretrained(tokenizer_path)"
   ]
  },
  {
   "cell_type": "markdown",
   "id": "1b6ea645-14c6-4e7b-ad24-753601346cea",
   "metadata": {},
   "source": [
    "## Get the datasets"
   ]
  },
  {
   "cell_type": "code",
   "execution_count": 7,
   "id": "660736a6-3280-484b-9ad8-98e2b45bbe48",
   "metadata": {},
   "outputs": [],
   "source": [
    "train_dataset = ADnaDataset(\n",
    "    \"train\",\n",
    "    tokenizer,\n",
    "    rev_comp_rate=REV_COMP_RATE,\n",
    "    to_n_rate=TO_N_RATE,\n",
    "    # limit=TRAIN_BATCH_SIZE,\n",
    ")\n",
    "eval_dataset = ADnaDataset(\"val\", tokenizer)  # , limit=EVAL_BATCH_SIZE)"
   ]
  },
  {
   "cell_type": "code",
   "execution_count": 8,
   "id": "928ee742-8910-466d-a33c-862845b1c9f1",
   "metadata": {},
   "outputs": [
    {
     "data": {
      "text/plain": [
       "{'input_ids': [0, 43, 484, 1031, 3813, 50, 39, 302, 307, 50, 304, 3503, 357, 2976, 373, 1019, 298, 37, 2, 1, 1, 1, 1, 1, 1, 1, 1, 1, 1, 1, 1, 1, 1, 1, 1, 1, 1, 1, 1, 1, 1, 1, 1, 1, 1, 1, 1, 1, 1, 1, 1, 1, 1, 1, 1, 1, 1, 1, 1, 1, 1, 1, 1, 1, 1, 1, 1, 1, 1, 1, 1, 1, 1, 1, 1, 1, 1, 1, 1, 1, 1, 1, 1, 1, 1, 1, 1, 1, 1, 1, 1, 1, 1, 1, 1, 1, 1, 1, 1, 1], 'attention_mask': [1, 1, 1, 1, 1, 1, 1, 1, 1, 1, 1, 1, 1, 1, 1, 1, 1, 1, 1, 0, 0, 0, 0, 0, 0, 0, 0, 0, 0, 0, 0, 0, 0, 0, 0, 0, 0, 0, 0, 0, 0, 0, 0, 0, 0, 0, 0, 0, 0, 0, 0, 0, 0, 0, 0, 0, 0, 0, 0, 0, 0, 0, 0, 0, 0, 0, 0, 0, 0, 0, 0, 0, 0, 0, 0, 0, 0, 0, 0, 0, 0, 0, 0, 0, 0, 0, 0, 0, 0, 0, 0, 0, 0, 0, 0, 0, 0, 0, 0, 0], 'label': tensor(0)}"
      ]
     },
     "execution_count": 8,
     "metadata": {},
     "output_type": "execute_result"
    }
   ],
   "source": [
    "train_dataset[0]"
   ]
  },
  {
   "cell_type": "markdown",
   "id": "3c76ff14-fc24-48df-b93b-82607e094d73",
   "metadata": {},
   "source": [
    "## Get the model"
   ]
  },
  {
   "cell_type": "code",
   "execution_count": 9,
   "id": "e2a9e245-8709-4424-8839-733c4e61657c",
   "metadata": {},
   "outputs": [],
   "source": [
    "model = RobertaForSequenceClassification.from_pretrained(\n",
    "    MODEL_PATH, local_files_only=True\n",
    ")"
   ]
  },
  {
   "cell_type": "markdown",
   "id": "20e9302b-55d5-4b22-87c3-6a7d304823a1",
   "metadata": {},
   "source": [
    "## Build the data collator"
   ]
  },
  {
   "cell_type": "code",
   "execution_count": 10,
   "id": "edc2c8e7-3f9f-418d-ba31-0598d1151c04",
   "metadata": {},
   "outputs": [],
   "source": [
    "data_collator = DataCollatorWithPadding(\n",
    "    tokenizer=tokenizer,\n",
    "    padding=\"max_length\",\n",
    "    max_length=consts.MAX_LENGTH,\n",
    ")"
   ]
  },
  {
   "cell_type": "markdown",
   "id": "02ab391f-2aca-41be-9132-72309e95dadb",
   "metadata": {},
   "source": [
    "## Build the trainer"
   ]
  },
  {
   "cell_type": "code",
   "execution_count": 11,
   "id": "e4dc8f6b-3973-4aa8-a410-df79782891e5",
   "metadata": {},
   "outputs": [],
   "source": [
    "training_args = TrainingArguments(\n",
    "    output_dir=consts.MT_DIR / MODEL_DIR,\n",
    "    overwrite_output_dir=True,\n",
    "    num_train_epochs=TRAIN_EPOCHS,\n",
    "    learning_rate=LEARNING_RATE,\n",
    "    per_device_train_batch_size=TRAIN_BATCH_SIZE,\n",
    "    per_device_eval_batch_size=EVAL_BATCH_SIZE,\n",
    "    evaluation_strategy=\"epoch\",\n",
    "    logging_strategy=\"epoch\",\n",
    "    save_strategy=\"epoch\",\n",
    "    seed=23,\n",
    ")"
   ]
  },
  {
   "cell_type": "code",
   "execution_count": 12,
   "id": "80ae48ab-ccb9-49f2-a100-1562e5d44c1c",
   "metadata": {},
   "outputs": [],
   "source": [
    "trainer = WeightedTrainer(\n",
    "    train_dataset,\n",
    "    model=model,\n",
    "    args=training_args,\n",
    "    train_dataset=train_dataset,\n",
    "    eval_dataset=eval_dataset,\n",
    "    tokenizer=tokenizer,\n",
    "    data_collator=data_collator,\n",
    ")"
   ]
  },
  {
   "cell_type": "markdown",
   "id": "d88e7d17-abe6-4a78-8110-158702cf678e",
   "metadata": {},
   "source": [
    "## Train"
   ]
  },
  {
   "cell_type": "code",
   "execution_count": 13,
   "id": "953a6414-e129-4a41-8bc2-b90c03544ee3",
   "metadata": {},
   "outputs": [
    {
     "name": "stderr",
     "output_type": "stream",
     "text": [
      "/museum/rafe/other/adna/.venv/lib/python3.10/site-packages/transformers/optimization.py:306: FutureWarning: This implementation of AdamW is deprecated and will be removed in a future version. Use the PyTorch implementation torch.optim.AdamW instead, or set `no_deprecation_warning=True` to disable this warning\n",
      "  warnings.warn(\n",
      "***** Running training *****\n",
      "  Num examples = 287233\n",
      "  Num Epochs = 50\n",
      "  Instantaneous batch size per device = 96\n",
      "  Total train batch size (w. parallel, distributed & accumulation) = 96\n",
      "  Gradient Accumulation steps = 1\n",
      "  Total optimization steps = 149650\n"
     ]
    },
    {
     "data": {
      "text/html": [
       "\n",
       "    <div>\n",
       "      \n",
       "      <progress value='74026' max='149650' style='width:300px; height:20px; vertical-align: middle;'></progress>\n",
       "      [ 74026/149650 14:50:38 < 15:09:53, 1.39 it/s, Epoch 24.73/50]\n",
       "    </div>\n",
       "    <table border=\"1\" class=\"dataframe\">\n",
       "  <thead>\n",
       " <tr style=\"text-align: left;\">\n",
       "      <th>Epoch</th>\n",
       "      <th>Training Loss</th>\n",
       "      <th>Validation Loss</th>\n",
       "    </tr>\n",
       "  </thead>\n",
       "  <tbody>\n",
       "    <tr>\n",
       "      <td>1</td>\n",
       "      <td>0.178100</td>\n",
       "      <td>0.160432</td>\n",
       "    </tr>\n",
       "    <tr>\n",
       "      <td>2</td>\n",
       "      <td>0.174800</td>\n",
       "      <td>0.143676</td>\n",
       "    </tr>\n",
       "    <tr>\n",
       "      <td>3</td>\n",
       "      <td>0.172400</td>\n",
       "      <td>0.150264</td>\n",
       "    </tr>\n",
       "    <tr>\n",
       "      <td>4</td>\n",
       "      <td>0.167700</td>\n",
       "      <td>0.156057</td>\n",
       "    </tr>\n",
       "    <tr>\n",
       "      <td>5</td>\n",
       "      <td>0.165300</td>\n",
       "      <td>0.157614</td>\n",
       "    </tr>\n",
       "    <tr>\n",
       "      <td>6</td>\n",
       "      <td>0.163000</td>\n",
       "      <td>0.146097</td>\n",
       "    </tr>\n",
       "    <tr>\n",
       "      <td>7</td>\n",
       "      <td>0.160400</td>\n",
       "      <td>0.150507</td>\n",
       "    </tr>\n",
       "    <tr>\n",
       "      <td>8</td>\n",
       "      <td>0.158100</td>\n",
       "      <td>0.160236</td>\n",
       "    </tr>\n",
       "    <tr>\n",
       "      <td>9</td>\n",
       "      <td>0.154900</td>\n",
       "      <td>0.162002</td>\n",
       "    </tr>\n",
       "    <tr>\n",
       "      <td>10</td>\n",
       "      <td>0.152500</td>\n",
       "      <td>0.173886</td>\n",
       "    </tr>\n",
       "    <tr>\n",
       "      <td>11</td>\n",
       "      <td>0.151100</td>\n",
       "      <td>0.162675</td>\n",
       "    </tr>\n",
       "    <tr>\n",
       "      <td>12</td>\n",
       "      <td>0.148900</td>\n",
       "      <td>0.165314</td>\n",
       "    </tr>\n",
       "    <tr>\n",
       "      <td>13</td>\n",
       "      <td>0.147700</td>\n",
       "      <td>0.156066</td>\n",
       "    </tr>\n",
       "    <tr>\n",
       "      <td>14</td>\n",
       "      <td>0.144000</td>\n",
       "      <td>0.187593</td>\n",
       "    </tr>\n",
       "    <tr>\n",
       "      <td>15</td>\n",
       "      <td>0.143500</td>\n",
       "      <td>0.162334</td>\n",
       "    </tr>\n",
       "    <tr>\n",
       "      <td>16</td>\n",
       "      <td>0.143300</td>\n",
       "      <td>0.149782</td>\n",
       "    </tr>\n",
       "    <tr>\n",
       "      <td>17</td>\n",
       "      <td>0.141200</td>\n",
       "      <td>0.166407</td>\n",
       "    </tr>\n",
       "    <tr>\n",
       "      <td>18</td>\n",
       "      <td>0.139500</td>\n",
       "      <td>0.158242</td>\n",
       "    </tr>\n",
       "    <tr>\n",
       "      <td>19</td>\n",
       "      <td>0.138000</td>\n",
       "      <td>0.164313</td>\n",
       "    </tr>\n",
       "    <tr>\n",
       "      <td>20</td>\n",
       "      <td>0.137800</td>\n",
       "      <td>0.163931</td>\n",
       "    </tr>\n",
       "    <tr>\n",
       "      <td>21</td>\n",
       "      <td>0.135800</td>\n",
       "      <td>0.159229</td>\n",
       "    </tr>\n",
       "    <tr>\n",
       "      <td>22</td>\n",
       "      <td>0.134500</td>\n",
       "      <td>0.168035</td>\n",
       "    </tr>\n",
       "    <tr>\n",
       "      <td>23</td>\n",
       "      <td>0.131000</td>\n",
       "      <td>0.157275</td>\n",
       "    </tr>\n",
       "    <tr>\n",
       "      <td>24</td>\n",
       "      <td>0.130300</td>\n",
       "      <td>0.171194</td>\n",
       "    </tr>\n",
       "  </tbody>\n",
       "</table><p>"
      ],
      "text/plain": [
       "<IPython.core.display.HTML object>"
      ]
     },
     "metadata": {},
     "output_type": "display_data"
    },
    {
     "name": "stderr",
     "output_type": "stream",
     "text": [
      "***** Running Evaluation *****\n",
      "  Num examples = 95744\n",
      "  Batch size = 96\n",
      "Saving model checkpoint to ../data/UF46992/finetune/checkpoint-2993\n",
      "Configuration saved in ../data/UF46992/finetune/checkpoint-2993/config.json\n",
      "Model weights saved in ../data/UF46992/finetune/checkpoint-2993/pytorch_model.bin\n",
      "tokenizer config file saved in ../data/UF46992/finetune/checkpoint-2993/tokenizer_config.json\n",
      "Special tokens file saved in ../data/UF46992/finetune/checkpoint-2993/special_tokens_map.json\n",
      "***** Running Evaluation *****\n",
      "  Num examples = 95744\n",
      "  Batch size = 96\n",
      "Saving model checkpoint to ../data/UF46992/finetune/checkpoint-5986\n",
      "Configuration saved in ../data/UF46992/finetune/checkpoint-5986/config.json\n",
      "Model weights saved in ../data/UF46992/finetune/checkpoint-5986/pytorch_model.bin\n",
      "tokenizer config file saved in ../data/UF46992/finetune/checkpoint-5986/tokenizer_config.json\n",
      "Special tokens file saved in ../data/UF46992/finetune/checkpoint-5986/special_tokens_map.json\n",
      "***** Running Evaluation *****\n",
      "  Num examples = 95744\n",
      "  Batch size = 96\n",
      "Saving model checkpoint to ../data/UF46992/finetune/checkpoint-8979\n",
      "Configuration saved in ../data/UF46992/finetune/checkpoint-8979/config.json\n",
      "Model weights saved in ../data/UF46992/finetune/checkpoint-8979/pytorch_model.bin\n",
      "tokenizer config file saved in ../data/UF46992/finetune/checkpoint-8979/tokenizer_config.json\n",
      "Special tokens file saved in ../data/UF46992/finetune/checkpoint-8979/special_tokens_map.json\n",
      "***** Running Evaluation *****\n",
      "  Num examples = 95744\n",
      "  Batch size = 96\n",
      "Saving model checkpoint to ../data/UF46992/finetune/checkpoint-11972\n",
      "Configuration saved in ../data/UF46992/finetune/checkpoint-11972/config.json\n",
      "Model weights saved in ../data/UF46992/finetune/checkpoint-11972/pytorch_model.bin\n",
      "tokenizer config file saved in ../data/UF46992/finetune/checkpoint-11972/tokenizer_config.json\n",
      "Special tokens file saved in ../data/UF46992/finetune/checkpoint-11972/special_tokens_map.json\n",
      "***** Running Evaluation *****\n",
      "  Num examples = 95744\n",
      "  Batch size = 96\n",
      "Saving model checkpoint to ../data/UF46992/finetune/checkpoint-14965\n",
      "Configuration saved in ../data/UF46992/finetune/checkpoint-14965/config.json\n",
      "Model weights saved in ../data/UF46992/finetune/checkpoint-14965/pytorch_model.bin\n",
      "tokenizer config file saved in ../data/UF46992/finetune/checkpoint-14965/tokenizer_config.json\n",
      "Special tokens file saved in ../data/UF46992/finetune/checkpoint-14965/special_tokens_map.json\n",
      "***** Running Evaluation *****\n",
      "  Num examples = 95744\n",
      "  Batch size = 96\n",
      "Saving model checkpoint to ../data/UF46992/finetune/checkpoint-17958\n",
      "Configuration saved in ../data/UF46992/finetune/checkpoint-17958/config.json\n",
      "Model weights saved in ../data/UF46992/finetune/checkpoint-17958/pytorch_model.bin\n",
      "tokenizer config file saved in ../data/UF46992/finetune/checkpoint-17958/tokenizer_config.json\n",
      "Special tokens file saved in ../data/UF46992/finetune/checkpoint-17958/special_tokens_map.json\n",
      "***** Running Evaluation *****\n",
      "  Num examples = 95744\n",
      "  Batch size = 96\n",
      "Saving model checkpoint to ../data/UF46992/finetune/checkpoint-20951\n",
      "Configuration saved in ../data/UF46992/finetune/checkpoint-20951/config.json\n",
      "Model weights saved in ../data/UF46992/finetune/checkpoint-20951/pytorch_model.bin\n",
      "tokenizer config file saved in ../data/UF46992/finetune/checkpoint-20951/tokenizer_config.json\n",
      "Special tokens file saved in ../data/UF46992/finetune/checkpoint-20951/special_tokens_map.json\n",
      "***** Running Evaluation *****\n",
      "  Num examples = 95744\n",
      "  Batch size = 96\n",
      "Saving model checkpoint to ../data/UF46992/finetune/checkpoint-23944\n",
      "Configuration saved in ../data/UF46992/finetune/checkpoint-23944/config.json\n",
      "Model weights saved in ../data/UF46992/finetune/checkpoint-23944/pytorch_model.bin\n",
      "tokenizer config file saved in ../data/UF46992/finetune/checkpoint-23944/tokenizer_config.json\n",
      "Special tokens file saved in ../data/UF46992/finetune/checkpoint-23944/special_tokens_map.json\n",
      "***** Running Evaluation *****\n",
      "  Num examples = 95744\n",
      "  Batch size = 96\n",
      "Saving model checkpoint to ../data/UF46992/finetune/checkpoint-26937\n",
      "Configuration saved in ../data/UF46992/finetune/checkpoint-26937/config.json\n",
      "Model weights saved in ../data/UF46992/finetune/checkpoint-26937/pytorch_model.bin\n",
      "tokenizer config file saved in ../data/UF46992/finetune/checkpoint-26937/tokenizer_config.json\n",
      "Special tokens file saved in ../data/UF46992/finetune/checkpoint-26937/special_tokens_map.json\n",
      "***** Running Evaluation *****\n",
      "  Num examples = 95744\n",
      "  Batch size = 96\n",
      "Saving model checkpoint to ../data/UF46992/finetune/checkpoint-29930\n",
      "Configuration saved in ../data/UF46992/finetune/checkpoint-29930/config.json\n",
      "Model weights saved in ../data/UF46992/finetune/checkpoint-29930/pytorch_model.bin\n",
      "tokenizer config file saved in ../data/UF46992/finetune/checkpoint-29930/tokenizer_config.json\n",
      "Special tokens file saved in ../data/UF46992/finetune/checkpoint-29930/special_tokens_map.json\n",
      "***** Running Evaluation *****\n",
      "  Num examples = 95744\n",
      "  Batch size = 96\n",
      "Saving model checkpoint to ../data/UF46992/finetune/checkpoint-32923\n",
      "Configuration saved in ../data/UF46992/finetune/checkpoint-32923/config.json\n",
      "Model weights saved in ../data/UF46992/finetune/checkpoint-32923/pytorch_model.bin\n",
      "tokenizer config file saved in ../data/UF46992/finetune/checkpoint-32923/tokenizer_config.json\n",
      "Special tokens file saved in ../data/UF46992/finetune/checkpoint-32923/special_tokens_map.json\n",
      "***** Running Evaluation *****\n",
      "  Num examples = 95744\n",
      "  Batch size = 96\n",
      "Saving model checkpoint to ../data/UF46992/finetune/checkpoint-35916\n",
      "Configuration saved in ../data/UF46992/finetune/checkpoint-35916/config.json\n",
      "Model weights saved in ../data/UF46992/finetune/checkpoint-35916/pytorch_model.bin\n",
      "tokenizer config file saved in ../data/UF46992/finetune/checkpoint-35916/tokenizer_config.json\n",
      "Special tokens file saved in ../data/UF46992/finetune/checkpoint-35916/special_tokens_map.json\n",
      "***** Running Evaluation *****\n",
      "  Num examples = 95744\n",
      "  Batch size = 96\n",
      "Saving model checkpoint to ../data/UF46992/finetune/checkpoint-38909\n",
      "Configuration saved in ../data/UF46992/finetune/checkpoint-38909/config.json\n",
      "Model weights saved in ../data/UF46992/finetune/checkpoint-38909/pytorch_model.bin\n",
      "tokenizer config file saved in ../data/UF46992/finetune/checkpoint-38909/tokenizer_config.json\n",
      "Special tokens file saved in ../data/UF46992/finetune/checkpoint-38909/special_tokens_map.json\n",
      "***** Running Evaluation *****\n",
      "  Num examples = 95744\n",
      "  Batch size = 96\n",
      "Saving model checkpoint to ../data/UF46992/finetune/checkpoint-41902\n",
      "Configuration saved in ../data/UF46992/finetune/checkpoint-41902/config.json\n",
      "Model weights saved in ../data/UF46992/finetune/checkpoint-41902/pytorch_model.bin\n",
      "tokenizer config file saved in ../data/UF46992/finetune/checkpoint-41902/tokenizer_config.json\n",
      "Special tokens file saved in ../data/UF46992/finetune/checkpoint-41902/special_tokens_map.json\n",
      "***** Running Evaluation *****\n",
      "  Num examples = 95744\n",
      "  Batch size = 96\n",
      "Saving model checkpoint to ../data/UF46992/finetune/checkpoint-44895\n",
      "Configuration saved in ../data/UF46992/finetune/checkpoint-44895/config.json\n",
      "Model weights saved in ../data/UF46992/finetune/checkpoint-44895/pytorch_model.bin\n",
      "tokenizer config file saved in ../data/UF46992/finetune/checkpoint-44895/tokenizer_config.json\n",
      "Special tokens file saved in ../data/UF46992/finetune/checkpoint-44895/special_tokens_map.json\n",
      "***** Running Evaluation *****\n",
      "  Num examples = 95744\n",
      "  Batch size = 96\n",
      "Saving model checkpoint to ../data/UF46992/finetune/checkpoint-47888\n",
      "Configuration saved in ../data/UF46992/finetune/checkpoint-47888/config.json\n",
      "Model weights saved in ../data/UF46992/finetune/checkpoint-47888/pytorch_model.bin\n",
      "tokenizer config file saved in ../data/UF46992/finetune/checkpoint-47888/tokenizer_config.json\n",
      "Special tokens file saved in ../data/UF46992/finetune/checkpoint-47888/special_tokens_map.json\n",
      "***** Running Evaluation *****\n",
      "  Num examples = 95744\n",
      "  Batch size = 96\n",
      "Saving model checkpoint to ../data/UF46992/finetune/checkpoint-50881\n",
      "Configuration saved in ../data/UF46992/finetune/checkpoint-50881/config.json\n",
      "Model weights saved in ../data/UF46992/finetune/checkpoint-50881/pytorch_model.bin\n",
      "tokenizer config file saved in ../data/UF46992/finetune/checkpoint-50881/tokenizer_config.json\n",
      "Special tokens file saved in ../data/UF46992/finetune/checkpoint-50881/special_tokens_map.json\n",
      "***** Running Evaluation *****\n",
      "  Num examples = 95744\n",
      "  Batch size = 96\n",
      "Saving model checkpoint to ../data/UF46992/finetune/checkpoint-53874\n",
      "Configuration saved in ../data/UF46992/finetune/checkpoint-53874/config.json\n",
      "Model weights saved in ../data/UF46992/finetune/checkpoint-53874/pytorch_model.bin\n",
      "tokenizer config file saved in ../data/UF46992/finetune/checkpoint-53874/tokenizer_config.json\n",
      "Special tokens file saved in ../data/UF46992/finetune/checkpoint-53874/special_tokens_map.json\n",
      "***** Running Evaluation *****\n",
      "  Num examples = 95744\n",
      "  Batch size = 96\n",
      "Saving model checkpoint to ../data/UF46992/finetune/checkpoint-56867\n",
      "Configuration saved in ../data/UF46992/finetune/checkpoint-56867/config.json\n",
      "Model weights saved in ../data/UF46992/finetune/checkpoint-56867/pytorch_model.bin\n",
      "tokenizer config file saved in ../data/UF46992/finetune/checkpoint-56867/tokenizer_config.json\n",
      "Special tokens file saved in ../data/UF46992/finetune/checkpoint-56867/special_tokens_map.json\n",
      "***** Running Evaluation *****\n",
      "  Num examples = 95744\n",
      "  Batch size = 96\n",
      "Saving model checkpoint to ../data/UF46992/finetune/checkpoint-59860\n",
      "Configuration saved in ../data/UF46992/finetune/checkpoint-59860/config.json\n",
      "Model weights saved in ../data/UF46992/finetune/checkpoint-59860/pytorch_model.bin\n",
      "tokenizer config file saved in ../data/UF46992/finetune/checkpoint-59860/tokenizer_config.json\n",
      "Special tokens file saved in ../data/UF46992/finetune/checkpoint-59860/special_tokens_map.json\n",
      "***** Running Evaluation *****\n",
      "  Num examples = 95744\n",
      "  Batch size = 96\n",
      "Saving model checkpoint to ../data/UF46992/finetune/checkpoint-62853\n",
      "Configuration saved in ../data/UF46992/finetune/checkpoint-62853/config.json\n",
      "Model weights saved in ../data/UF46992/finetune/checkpoint-62853/pytorch_model.bin\n",
      "tokenizer config file saved in ../data/UF46992/finetune/checkpoint-62853/tokenizer_config.json\n",
      "Special tokens file saved in ../data/UF46992/finetune/checkpoint-62853/special_tokens_map.json\n",
      "***** Running Evaluation *****\n",
      "  Num examples = 95744\n",
      "  Batch size = 96\n",
      "Saving model checkpoint to ../data/UF46992/finetune/checkpoint-65846\n",
      "Configuration saved in ../data/UF46992/finetune/checkpoint-65846/config.json\n",
      "Model weights saved in ../data/UF46992/finetune/checkpoint-65846/pytorch_model.bin\n",
      "tokenizer config file saved in ../data/UF46992/finetune/checkpoint-65846/tokenizer_config.json\n",
      "Special tokens file saved in ../data/UF46992/finetune/checkpoint-65846/special_tokens_map.json\n",
      "***** Running Evaluation *****\n",
      "  Num examples = 95744\n",
      "  Batch size = 96\n",
      "Saving model checkpoint to ../data/UF46992/finetune/checkpoint-68839\n",
      "Configuration saved in ../data/UF46992/finetune/checkpoint-68839/config.json\n",
      "Model weights saved in ../data/UF46992/finetune/checkpoint-68839/pytorch_model.bin\n",
      "tokenizer config file saved in ../data/UF46992/finetune/checkpoint-68839/tokenizer_config.json\n",
      "Special tokens file saved in ../data/UF46992/finetune/checkpoint-68839/special_tokens_map.json\n",
      "***** Running Evaluation *****\n",
      "  Num examples = 95744\n",
      "  Batch size = 96\n",
      "Saving model checkpoint to ../data/UF46992/finetune/checkpoint-71832\n",
      "Configuration saved in ../data/UF46992/finetune/checkpoint-71832/config.json\n",
      "Model weights saved in ../data/UF46992/finetune/checkpoint-71832/pytorch_model.bin\n",
      "tokenizer config file saved in ../data/UF46992/finetune/checkpoint-71832/tokenizer_config.json\n",
      "Special tokens file saved in ../data/UF46992/finetune/checkpoint-71832/special_tokens_map.json\n"
     ]
    },
    {
     "ename": "KeyboardInterrupt",
     "evalue": "",
     "output_type": "error",
     "traceback": [
      "\u001b[0;31m---------------------------------------------------------------------------\u001b[0m",
      "\u001b[0;31mKeyboardInterrupt\u001b[0m                         Traceback (most recent call last)",
      "Input \u001b[0;32mIn [13]\u001b[0m, in \u001b[0;36m<cell line: 1>\u001b[0;34m()\u001b[0m\n\u001b[0;32m----> 1\u001b[0m \u001b[43mtrainer\u001b[49m\u001b[38;5;241;43m.\u001b[39;49m\u001b[43mtrain\u001b[49m\u001b[43m(\u001b[49m\u001b[43m)\u001b[49m\n",
      "File \u001b[0;32m/museum/rafe/other/adna/.venv/lib/python3.10/site-packages/transformers/trainer.py:1317\u001b[0m, in \u001b[0;36mTrainer.train\u001b[0;34m(self, resume_from_checkpoint, trial, ignore_keys_for_eval, **kwargs)\u001b[0m\n\u001b[1;32m   1312\u001b[0m     \u001b[38;5;28mself\u001b[39m\u001b[38;5;241m.\u001b[39mmodel_wrapped \u001b[38;5;241m=\u001b[39m \u001b[38;5;28mself\u001b[39m\u001b[38;5;241m.\u001b[39mmodel\n\u001b[1;32m   1314\u001b[0m inner_training_loop \u001b[38;5;241m=\u001b[39m find_executable_batch_size(\n\u001b[1;32m   1315\u001b[0m     \u001b[38;5;28mself\u001b[39m\u001b[38;5;241m.\u001b[39m_inner_training_loop, \u001b[38;5;28mself\u001b[39m\u001b[38;5;241m.\u001b[39m_train_batch_size, args\u001b[38;5;241m.\u001b[39mauto_find_batch_size\n\u001b[1;32m   1316\u001b[0m )\n\u001b[0;32m-> 1317\u001b[0m \u001b[38;5;28;01mreturn\u001b[39;00m \u001b[43minner_training_loop\u001b[49m\u001b[43m(\u001b[49m\n\u001b[1;32m   1318\u001b[0m \u001b[43m    \u001b[49m\u001b[43margs\u001b[49m\u001b[38;5;241;43m=\u001b[39;49m\u001b[43margs\u001b[49m\u001b[43m,\u001b[49m\n\u001b[1;32m   1319\u001b[0m \u001b[43m    \u001b[49m\u001b[43mresume_from_checkpoint\u001b[49m\u001b[38;5;241;43m=\u001b[39;49m\u001b[43mresume_from_checkpoint\u001b[49m\u001b[43m,\u001b[49m\n\u001b[1;32m   1320\u001b[0m \u001b[43m    \u001b[49m\u001b[43mtrial\u001b[49m\u001b[38;5;241;43m=\u001b[39;49m\u001b[43mtrial\u001b[49m\u001b[43m,\u001b[49m\n\u001b[1;32m   1321\u001b[0m \u001b[43m    \u001b[49m\u001b[43mignore_keys_for_eval\u001b[49m\u001b[38;5;241;43m=\u001b[39;49m\u001b[43mignore_keys_for_eval\u001b[49m\u001b[43m,\u001b[49m\n\u001b[1;32m   1322\u001b[0m \u001b[43m\u001b[49m\u001b[43m)\u001b[49m\n",
      "File \u001b[0;32m/museum/rafe/other/adna/.venv/lib/python3.10/site-packages/transformers/trainer.py:1554\u001b[0m, in \u001b[0;36mTrainer._inner_training_loop\u001b[0;34m(self, batch_size, args, resume_from_checkpoint, trial, ignore_keys_for_eval)\u001b[0m\n\u001b[1;32m   1552\u001b[0m         tr_loss_step \u001b[38;5;241m=\u001b[39m \u001b[38;5;28mself\u001b[39m\u001b[38;5;241m.\u001b[39mtraining_step(model, inputs)\n\u001b[1;32m   1553\u001b[0m \u001b[38;5;28;01melse\u001b[39;00m:\n\u001b[0;32m-> 1554\u001b[0m     tr_loss_step \u001b[38;5;241m=\u001b[39m \u001b[38;5;28;43mself\u001b[39;49m\u001b[38;5;241;43m.\u001b[39;49m\u001b[43mtraining_step\u001b[49m\u001b[43m(\u001b[49m\u001b[43mmodel\u001b[49m\u001b[43m,\u001b[49m\u001b[43m \u001b[49m\u001b[43minputs\u001b[49m\u001b[43m)\u001b[49m\n\u001b[1;32m   1556\u001b[0m \u001b[38;5;28;01mif\u001b[39;00m (\n\u001b[1;32m   1557\u001b[0m     args\u001b[38;5;241m.\u001b[39mlogging_nan_inf_filter\n\u001b[1;32m   1558\u001b[0m     \u001b[38;5;129;01mand\u001b[39;00m \u001b[38;5;129;01mnot\u001b[39;00m is_torch_tpu_available()\n\u001b[1;32m   1559\u001b[0m     \u001b[38;5;129;01mand\u001b[39;00m (torch\u001b[38;5;241m.\u001b[39misnan(tr_loss_step) \u001b[38;5;129;01mor\u001b[39;00m torch\u001b[38;5;241m.\u001b[39misinf(tr_loss_step))\n\u001b[1;32m   1560\u001b[0m ):\n\u001b[1;32m   1561\u001b[0m     \u001b[38;5;66;03m# if loss is nan or inf simply add the average of previous logged losses\u001b[39;00m\n\u001b[1;32m   1562\u001b[0m     tr_loss \u001b[38;5;241m+\u001b[39m\u001b[38;5;241m=\u001b[39m tr_loss \u001b[38;5;241m/\u001b[39m (\u001b[38;5;241m1\u001b[39m \u001b[38;5;241m+\u001b[39m \u001b[38;5;28mself\u001b[39m\u001b[38;5;241m.\u001b[39mstate\u001b[38;5;241m.\u001b[39mglobal_step \u001b[38;5;241m-\u001b[39m \u001b[38;5;28mself\u001b[39m\u001b[38;5;241m.\u001b[39m_globalstep_last_logged)\n",
      "File \u001b[0;32m/museum/rafe/other/adna/.venv/lib/python3.10/site-packages/transformers/trainer.py:2201\u001b[0m, in \u001b[0;36mTrainer.training_step\u001b[0;34m(self, model, inputs)\u001b[0m\n\u001b[1;32m   2199\u001b[0m     loss \u001b[38;5;241m=\u001b[39m \u001b[38;5;28mself\u001b[39m\u001b[38;5;241m.\u001b[39mdeepspeed\u001b[38;5;241m.\u001b[39mbackward(loss)\n\u001b[1;32m   2200\u001b[0m \u001b[38;5;28;01melse\u001b[39;00m:\n\u001b[0;32m-> 2201\u001b[0m     \u001b[43mloss\u001b[49m\u001b[38;5;241;43m.\u001b[39;49m\u001b[43mbackward\u001b[49m\u001b[43m(\u001b[49m\u001b[43m)\u001b[49m\n\u001b[1;32m   2203\u001b[0m \u001b[38;5;28;01mreturn\u001b[39;00m loss\u001b[38;5;241m.\u001b[39mdetach()\n",
      "File \u001b[0;32m/museum/rafe/other/adna/.venv/lib/python3.10/site-packages/torch/_tensor.py:363\u001b[0m, in \u001b[0;36mTensor.backward\u001b[0;34m(self, gradient, retain_graph, create_graph, inputs)\u001b[0m\n\u001b[1;32m    354\u001b[0m \u001b[38;5;28;01mif\u001b[39;00m has_torch_function_unary(\u001b[38;5;28mself\u001b[39m):\n\u001b[1;32m    355\u001b[0m     \u001b[38;5;28;01mreturn\u001b[39;00m handle_torch_function(\n\u001b[1;32m    356\u001b[0m         Tensor\u001b[38;5;241m.\u001b[39mbackward,\n\u001b[1;32m    357\u001b[0m         (\u001b[38;5;28mself\u001b[39m,),\n\u001b[0;32m   (...)\u001b[0m\n\u001b[1;32m    361\u001b[0m         create_graph\u001b[38;5;241m=\u001b[39mcreate_graph,\n\u001b[1;32m    362\u001b[0m         inputs\u001b[38;5;241m=\u001b[39minputs)\n\u001b[0;32m--> 363\u001b[0m \u001b[43mtorch\u001b[49m\u001b[38;5;241;43m.\u001b[39;49m\u001b[43mautograd\u001b[49m\u001b[38;5;241;43m.\u001b[39;49m\u001b[43mbackward\u001b[49m\u001b[43m(\u001b[49m\u001b[38;5;28;43mself\u001b[39;49m\u001b[43m,\u001b[49m\u001b[43m \u001b[49m\u001b[43mgradient\u001b[49m\u001b[43m,\u001b[49m\u001b[43m \u001b[49m\u001b[43mretain_graph\u001b[49m\u001b[43m,\u001b[49m\u001b[43m \u001b[49m\u001b[43mcreate_graph\u001b[49m\u001b[43m,\u001b[49m\u001b[43m \u001b[49m\u001b[43minputs\u001b[49m\u001b[38;5;241;43m=\u001b[39;49m\u001b[43minputs\u001b[49m\u001b[43m)\u001b[49m\n",
      "File \u001b[0;32m/museum/rafe/other/adna/.venv/lib/python3.10/site-packages/torch/autograd/__init__.py:173\u001b[0m, in \u001b[0;36mbackward\u001b[0;34m(tensors, grad_tensors, retain_graph, create_graph, grad_variables, inputs)\u001b[0m\n\u001b[1;32m    168\u001b[0m     retain_graph \u001b[38;5;241m=\u001b[39m create_graph\n\u001b[1;32m    170\u001b[0m \u001b[38;5;66;03m# The reason we repeat same the comment below is that\u001b[39;00m\n\u001b[1;32m    171\u001b[0m \u001b[38;5;66;03m# some Python versions print out the first line of a multi-line function\u001b[39;00m\n\u001b[1;32m    172\u001b[0m \u001b[38;5;66;03m# calls in the traceback and some print out the last line\u001b[39;00m\n\u001b[0;32m--> 173\u001b[0m \u001b[43mVariable\u001b[49m\u001b[38;5;241;43m.\u001b[39;49m\u001b[43m_execution_engine\u001b[49m\u001b[38;5;241;43m.\u001b[39;49m\u001b[43mrun_backward\u001b[49m\u001b[43m(\u001b[49m\u001b[43m  \u001b[49m\u001b[38;5;66;43;03m# Calls into the C++ engine to run the backward pass\u001b[39;49;00m\n\u001b[1;32m    174\u001b[0m \u001b[43m    \u001b[49m\u001b[43mtensors\u001b[49m\u001b[43m,\u001b[49m\u001b[43m \u001b[49m\u001b[43mgrad_tensors_\u001b[49m\u001b[43m,\u001b[49m\u001b[43m \u001b[49m\u001b[43mretain_graph\u001b[49m\u001b[43m,\u001b[49m\u001b[43m \u001b[49m\u001b[43mcreate_graph\u001b[49m\u001b[43m,\u001b[49m\u001b[43m \u001b[49m\u001b[43minputs\u001b[49m\u001b[43m,\u001b[49m\n\u001b[1;32m    175\u001b[0m \u001b[43m    \u001b[49m\u001b[43mallow_unreachable\u001b[49m\u001b[38;5;241;43m=\u001b[39;49m\u001b[38;5;28;43;01mTrue\u001b[39;49;00m\u001b[43m,\u001b[49m\u001b[43m \u001b[49m\u001b[43maccumulate_grad\u001b[49m\u001b[38;5;241;43m=\u001b[39;49m\u001b[38;5;28;43;01mTrue\u001b[39;49;00m\u001b[43m)\u001b[49m\n",
      "\u001b[0;31mKeyboardInterrupt\u001b[0m: "
     ]
    }
   ],
   "source": [
    "trainer.train()"
   ]
  },
  {
   "cell_type": "markdown",
   "id": "0b6d3212-6e29-447e-8e62-da18b3d532b0",
   "metadata": {},
   "source": [
    "### It looks like epoch 2 is best\n",
    "\n",
    "Path = ../data/UF46992/models/checkpoint-5986\n"
   ]
  },
  {
   "cell_type": "code",
   "execution_count": null,
   "id": "ea69fa1d-b1bc-4f56-993d-b6ad62e49848",
   "metadata": {},
   "outputs": [],
   "source": []
  }
 ],
 "metadata": {
  "kernelspec": {
   "display_name": "Python 3 (ipykernel)",
   "language": "python",
   "name": "python3"
  },
  "language_info": {
   "codemirror_mode": {
    "name": "ipython",
    "version": 3
   },
   "file_extension": ".py",
   "mimetype": "text/x-python",
   "name": "python",
   "nbconvert_exporter": "python",
   "pygments_lexer": "ipython3",
   "version": "3.10.4"
  }
 },
 "nbformat": 4,
 "nbformat_minor": 5
}
