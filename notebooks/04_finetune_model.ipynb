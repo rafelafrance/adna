{
 "cells": [
  {
   "cell_type": "code",
   "execution_count": 1,
   "id": "7f6c9a5c-6d73-4c5f-8b32-16754ccec225",
   "metadata": {},
   "outputs": [],
   "source": [
    "import sys\n",
    "\n",
    "sys.path.append(\"..\")"
   ]
  },
  {
   "cell_type": "code",
   "execution_count": 2,
   "id": "0ea991ed-8e0a-4ae3-a996-d2633b1682c7",
   "metadata": {},
   "outputs": [],
   "source": [
    "from transformers import (\n",
    "    DataCollatorWithPadding,\n",
    "    RobertaConfig,\n",
    "    RobertaForSequenceClassification,\n",
    "    RobertaTokenizerFast,\n",
    "    TrainingArguments,\n",
    ")\n",
    "\n",
    "from adna.pylib import consts\n",
    "from adna.pylib.adna_dataset import ADnaDataset\n",
    "from adna.pylib.weighted_trainer import WeightedTrainer"
   ]
  },
  {
   "cell_type": "code",
   "execution_count": null,
   "id": "69ffd778-4ae5-4284-a686-23a472582ab2",
   "metadata": {},
   "outputs": [],
   "source": [
    "MODEL_PATH = consts.MT_DIR / \"train\" / \"checkpoint-6\""
   ]
  },
  {
   "cell_type": "code",
   "execution_count": 3,
   "id": "1bacb371-f1be-45f3-91a2-448e31a28887",
   "metadata": {},
   "outputs": [],
   "source": [
    "TRAIN_EPOCHS = 50\n",
    "LEARNING_RATE = 1e-5\n",
    "TRAIN_BATCH_SIZE = 128\n",
    "EVAL_BATCH_SIZE = 128"
   ]
  },
  {
   "cell_type": "markdown",
   "id": "b9807cf0-fcb4-48e8-87ac-013b1aa53e8b",
   "metadata": {},
   "source": [
    "## Get the tokenizer"
   ]
  },
  {
   "cell_type": "code",
   "execution_count": 4,
   "id": "e15fc2ee-0451-482b-a959-809b44c1d363",
   "metadata": {},
   "outputs": [],
   "source": [
    "tokenizer_path = str(consts.MT_DIR)\n",
    "tokenizer = RobertaTokenizerFast.from_pretrained(tokenizer_path)"
   ]
  },
  {
   "cell_type": "markdown",
   "id": "1b6ea645-14c6-4e7b-ad24-753601346cea",
   "metadata": {},
   "source": [
    "## Get the datasets"
   ]
  },
  {
   "cell_type": "code",
   "execution_count": 5,
   "id": "660736a6-3280-484b-9ad8-98e2b45bbe48",
   "metadata": {},
   "outputs": [],
   "source": [
    "train_dataset = ADnaDataset(\n",
    "    \"train\",\n",
    "    tokenizer,\n",
    "    rev_comp_rate=consts.REV_COMP_RATE,\n",
    "    to_n_rate=consts.TO_N_RATE,\n",
    "    # limit=TRAIN_BATCH_SIZE,\n",
    ")\n",
    "eval_dataset = ADnaDataset(\"val\", tokenizer)  # , limit=EVAL_BATCH_SIZE)"
   ]
  },
  {
   "cell_type": "code",
   "execution_count": 6,
   "id": "928ee742-8910-466d-a33c-862845b1c9f1",
   "metadata": {},
   "outputs": [
    {
     "data": {
      "text/plain": [
       "{'input_ids': [0, 262, 264, 3269, 3778, 322, 285, 695, 1441, 2096, 839, 2690, 287, 2, 1, 1, 1, 1, 1, 1, 1, 1, 1, 1, 1, 1, 1, 1, 1, 1, 1, 1, 1, 1, 1, 1, 1, 1, 1, 1, 1, 1, 1, 1, 1, 1, 1, 1, 1, 1, 1, 1, 1, 1, 1, 1, 1, 1, 1, 1, 1, 1, 1, 1, 1, 1, 1, 1, 1, 1, 1, 1, 1, 1, 1, 1, 1, 1, 1, 1], 'attention_mask': [1, 1, 1, 1, 1, 1, 1, 1, 1, 1, 1, 1, 1, 1, 0, 0, 0, 0, 0, 0, 0, 0, 0, 0, 0, 0, 0, 0, 0, 0, 0, 0, 0, 0, 0, 0, 0, 0, 0, 0, 0, 0, 0, 0, 0, 0, 0, 0, 0, 0, 0, 0, 0, 0, 0, 0, 0, 0, 0, 0, 0, 0, 0, 0, 0, 0, 0, 0, 0, 0, 0, 0, 0, 0, 0, 0, 0, 0, 0, 0], 'label': tensor(0)}"
      ]
     },
     "execution_count": 6,
     "metadata": {},
     "output_type": "execute_result"
    }
   ],
   "source": [
    "train_dataset[0]"
   ]
  },
  {
   "cell_type": "markdown",
   "id": "3c76ff14-fc24-48df-b93b-82607e094d73",
   "metadata": {},
   "source": [
    "## Get the model"
   ]
  },
  {
   "cell_type": "code",
   "execution_count": 7,
   "id": "e2a9e245-8709-4424-8839-733c4e61657c",
   "metadata": {},
   "outputs": [],
   "source": [
    "model = RobertaForSequenceClassification.from_pretrained(\n",
    "    MODEL_PATH, local_files_only=True\n",
    ")"
   ]
  },
  {
   "cell_type": "markdown",
   "id": "20e9302b-55d5-4b22-87c3-6a7d304823a1",
   "metadata": {},
   "source": [
    "## Build the data collator"
   ]
  },
  {
   "cell_type": "code",
   "execution_count": 8,
   "id": "edc2c8e7-3f9f-418d-ba31-0598d1151c04",
   "metadata": {},
   "outputs": [],
   "source": [
    "data_collator = DataCollatorWithPadding(\n",
    "    tokenizer=tokenizer,\n",
    "    padding=\"max_length\",\n",
    "    max_length=consts.MAX_LENGTH,\n",
    ")"
   ]
  },
  {
   "cell_type": "markdown",
   "id": "02ab391f-2aca-41be-9132-72309e95dadb",
   "metadata": {},
   "source": [
    "## Build the trainer"
   ]
  },
  {
   "cell_type": "code",
   "execution_count": 9,
   "id": "e4dc8f6b-3973-4aa8-a410-df79782891e5",
   "metadata": {},
   "outputs": [],
   "source": [
    "training_args = TrainingArguments(\n",
    "    output_dir=consts.MT_DIR / \"finetune\",\n",
    "    overwrite_output_dir=True,\n",
    "    evaluation_strategy=\"epoch\",\n",
    "    num_train_epochs=TRAIN_EPOCHS,\n",
    "    learning_rate=LEARNING_RATE,\n",
    "    per_device_train_batch_size=TRAIN_BATCH_SIZE,\n",
    "    per_device_eval_batch_size=EVAL_BATCH_SIZE,\n",
    "    save_strategy=\"epoch\",\n",
    "    logging_strategy=\"epoch\",\n",
    "    seed=23,\n",
    ")"
   ]
  },
  {
   "cell_type": "code",
   "execution_count": 10,
   "id": "80ae48ab-ccb9-49f2-a100-1562e5d44c1c",
   "metadata": {},
   "outputs": [],
   "source": [
    "trainer = WeightedTrainer(\n",
    "    train_dataset,\n",
    "    model=model,\n",
    "    args=training_args,\n",
    "    train_dataset=train_dataset,\n",
    "    eval_dataset=eval_dataset,\n",
    "    tokenizer=tokenizer,\n",
    "    data_collator=data_collator,\n",
    ")"
   ]
  },
  {
   "cell_type": "markdown",
   "id": "d88e7d17-abe6-4a78-8110-158702cf678e",
   "metadata": {},
   "source": [
    "## Train"
   ]
  },
  {
   "cell_type": "code",
   "execution_count": 11,
   "id": "953a6414-e129-4a41-8bc2-b90c03544ee3",
   "metadata": {},
   "outputs": [
    {
     "name": "stderr",
     "output_type": "stream",
     "text": [
      "/museum/rafe/other/adna/.venv/lib/python3.10/site-packages/transformers/optimization.py:306: FutureWarning: This implementation of AdamW is deprecated and will be removed in a future version. Use the PyTorch implementation torch.optim.AdamW instead, or set `no_deprecation_warning=True` to disable this warning\n",
      "  warnings.warn(\n",
      "***** Running training *****\n",
      "  Num examples = 128\n",
      "  Num Epochs = 20\n",
      "  Instantaneous batch size per device = 128\n",
      "  Total train batch size (w. parallel, distributed & accumulation) = 128\n",
      "  Gradient Accumulation steps = 1\n",
      "  Total optimization steps = 20\n"
     ]
    },
    {
     "data": {
      "text/html": [
       "\n",
       "    <div>\n",
       "      \n",
       "      <progress value='20' max='20' style='width:300px; height:20px; vertical-align: middle;'></progress>\n",
       "      [20/20 02:35, Epoch 20/20]\n",
       "    </div>\n",
       "    <table border=\"1\" class=\"dataframe\">\n",
       "  <thead>\n",
       " <tr style=\"text-align: left;\">\n",
       "      <th>Epoch</th>\n",
       "      <th>Training Loss</th>\n",
       "      <th>Validation Loss</th>\n",
       "    </tr>\n",
       "  </thead>\n",
       "  <tbody>\n",
       "    <tr>\n",
       "      <td>1</td>\n",
       "      <td>0.703800</td>\n",
       "      <td>0.704518</td>\n",
       "    </tr>\n",
       "    <tr>\n",
       "      <td>2</td>\n",
       "      <td>0.696100</td>\n",
       "      <td>0.718231</td>\n",
       "    </tr>\n",
       "    <tr>\n",
       "      <td>3</td>\n",
       "      <td>0.711400</td>\n",
       "      <td>0.717236</td>\n",
       "    </tr>\n",
       "    <tr>\n",
       "      <td>4</td>\n",
       "      <td>0.688100</td>\n",
       "      <td>0.709831</td>\n",
       "    </tr>\n",
       "    <tr>\n",
       "      <td>5</td>\n",
       "      <td>0.710200</td>\n",
       "      <td>0.700927</td>\n",
       "    </tr>\n",
       "    <tr>\n",
       "      <td>6</td>\n",
       "      <td>0.675300</td>\n",
       "      <td>0.698075</td>\n",
       "    </tr>\n",
       "    <tr>\n",
       "      <td>7</td>\n",
       "      <td>0.687300</td>\n",
       "      <td>0.699204</td>\n",
       "    </tr>\n",
       "    <tr>\n",
       "      <td>8</td>\n",
       "      <td>0.689100</td>\n",
       "      <td>0.701710</td>\n",
       "    </tr>\n",
       "    <tr>\n",
       "      <td>9</td>\n",
       "      <td>0.707800</td>\n",
       "      <td>0.704761</td>\n",
       "    </tr>\n",
       "    <tr>\n",
       "      <td>10</td>\n",
       "      <td>0.702800</td>\n",
       "      <td>0.706673</td>\n",
       "    </tr>\n",
       "    <tr>\n",
       "      <td>11</td>\n",
       "      <td>0.673800</td>\n",
       "      <td>0.709011</td>\n",
       "    </tr>\n",
       "    <tr>\n",
       "      <td>12</td>\n",
       "      <td>0.692500</td>\n",
       "      <td>0.709657</td>\n",
       "    </tr>\n",
       "    <tr>\n",
       "      <td>13</td>\n",
       "      <td>0.668700</td>\n",
       "      <td>0.709494</td>\n",
       "    </tr>\n",
       "    <tr>\n",
       "      <td>14</td>\n",
       "      <td>0.705000</td>\n",
       "      <td>0.708187</td>\n",
       "    </tr>\n",
       "    <tr>\n",
       "      <td>15</td>\n",
       "      <td>0.693300</td>\n",
       "      <td>0.706407</td>\n",
       "    </tr>\n",
       "    <tr>\n",
       "      <td>16</td>\n",
       "      <td>0.677900</td>\n",
       "      <td>0.704957</td>\n",
       "    </tr>\n",
       "    <tr>\n",
       "      <td>17</td>\n",
       "      <td>0.666600</td>\n",
       "      <td>0.704378</td>\n",
       "    </tr>\n",
       "    <tr>\n",
       "      <td>18</td>\n",
       "      <td>0.663800</td>\n",
       "      <td>0.704063</td>\n",
       "    </tr>\n",
       "    <tr>\n",
       "      <td>19</td>\n",
       "      <td>0.684400</td>\n",
       "      <td>0.703951</td>\n",
       "    </tr>\n",
       "    <tr>\n",
       "      <td>20</td>\n",
       "      <td>0.683700</td>\n",
       "      <td>0.703835</td>\n",
       "    </tr>\n",
       "  </tbody>\n",
       "</table><p>"
      ],
      "text/plain": [
       "<IPython.core.display.HTML object>"
      ]
     },
     "metadata": {},
     "output_type": "display_data"
    },
    {
     "name": "stderr",
     "output_type": "stream",
     "text": [
      "***** Running Evaluation *****\n",
      "  Num examples = 128\n",
      "  Batch size = 128\n",
      "Saving model checkpoint to ../data/UF46992/finetune/checkpoint-1\n",
      "Configuration saved in ../data/UF46992/finetune/checkpoint-1/config.json\n",
      "Model weights saved in ../data/UF46992/finetune/checkpoint-1/pytorch_model.bin\n",
      "tokenizer config file saved in ../data/UF46992/finetune/checkpoint-1/tokenizer_config.json\n",
      "Special tokens file saved in ../data/UF46992/finetune/checkpoint-1/special_tokens_map.json\n",
      "***** Running Evaluation *****\n",
      "  Num examples = 128\n",
      "  Batch size = 128\n",
      "Saving model checkpoint to ../data/UF46992/finetune/checkpoint-2\n",
      "Configuration saved in ../data/UF46992/finetune/checkpoint-2/config.json\n",
      "Model weights saved in ../data/UF46992/finetune/checkpoint-2/pytorch_model.bin\n",
      "tokenizer config file saved in ../data/UF46992/finetune/checkpoint-2/tokenizer_config.json\n",
      "Special tokens file saved in ../data/UF46992/finetune/checkpoint-2/special_tokens_map.json\n",
      "***** Running Evaluation *****\n",
      "  Num examples = 128\n",
      "  Batch size = 128\n",
      "Saving model checkpoint to ../data/UF46992/finetune/checkpoint-3\n",
      "Configuration saved in ../data/UF46992/finetune/checkpoint-3/config.json\n",
      "Model weights saved in ../data/UF46992/finetune/checkpoint-3/pytorch_model.bin\n",
      "tokenizer config file saved in ../data/UF46992/finetune/checkpoint-3/tokenizer_config.json\n",
      "Special tokens file saved in ../data/UF46992/finetune/checkpoint-3/special_tokens_map.json\n",
      "***** Running Evaluation *****\n",
      "  Num examples = 128\n",
      "  Batch size = 128\n",
      "Saving model checkpoint to ../data/UF46992/finetune/checkpoint-4\n",
      "Configuration saved in ../data/UF46992/finetune/checkpoint-4/config.json\n",
      "Model weights saved in ../data/UF46992/finetune/checkpoint-4/pytorch_model.bin\n",
      "tokenizer config file saved in ../data/UF46992/finetune/checkpoint-4/tokenizer_config.json\n",
      "Special tokens file saved in ../data/UF46992/finetune/checkpoint-4/special_tokens_map.json\n",
      "***** Running Evaluation *****\n",
      "  Num examples = 128\n",
      "  Batch size = 128\n",
      "Saving model checkpoint to ../data/UF46992/finetune/checkpoint-5\n",
      "Configuration saved in ../data/UF46992/finetune/checkpoint-5/config.json\n",
      "Model weights saved in ../data/UF46992/finetune/checkpoint-5/pytorch_model.bin\n",
      "tokenizer config file saved in ../data/UF46992/finetune/checkpoint-5/tokenizer_config.json\n",
      "Special tokens file saved in ../data/UF46992/finetune/checkpoint-5/special_tokens_map.json\n",
      "***** Running Evaluation *****\n",
      "  Num examples = 128\n",
      "  Batch size = 128\n",
      "Saving model checkpoint to ../data/UF46992/finetune/checkpoint-6\n",
      "Configuration saved in ../data/UF46992/finetune/checkpoint-6/config.json\n",
      "Model weights saved in ../data/UF46992/finetune/checkpoint-6/pytorch_model.bin\n",
      "tokenizer config file saved in ../data/UF46992/finetune/checkpoint-6/tokenizer_config.json\n",
      "Special tokens file saved in ../data/UF46992/finetune/checkpoint-6/special_tokens_map.json\n",
      "***** Running Evaluation *****\n",
      "  Num examples = 128\n",
      "  Batch size = 128\n",
      "Saving model checkpoint to ../data/UF46992/finetune/checkpoint-7\n",
      "Configuration saved in ../data/UF46992/finetune/checkpoint-7/config.json\n",
      "Model weights saved in ../data/UF46992/finetune/checkpoint-7/pytorch_model.bin\n",
      "tokenizer config file saved in ../data/UF46992/finetune/checkpoint-7/tokenizer_config.json\n",
      "Special tokens file saved in ../data/UF46992/finetune/checkpoint-7/special_tokens_map.json\n",
      "***** Running Evaluation *****\n",
      "  Num examples = 128\n",
      "  Batch size = 128\n",
      "Saving model checkpoint to ../data/UF46992/finetune/checkpoint-8\n",
      "Configuration saved in ../data/UF46992/finetune/checkpoint-8/config.json\n",
      "Model weights saved in ../data/UF46992/finetune/checkpoint-8/pytorch_model.bin\n",
      "tokenizer config file saved in ../data/UF46992/finetune/checkpoint-8/tokenizer_config.json\n",
      "Special tokens file saved in ../data/UF46992/finetune/checkpoint-8/special_tokens_map.json\n",
      "***** Running Evaluation *****\n",
      "  Num examples = 128\n",
      "  Batch size = 128\n",
      "Saving model checkpoint to ../data/UF46992/finetune/checkpoint-9\n",
      "Configuration saved in ../data/UF46992/finetune/checkpoint-9/config.json\n",
      "Model weights saved in ../data/UF46992/finetune/checkpoint-9/pytorch_model.bin\n",
      "tokenizer config file saved in ../data/UF46992/finetune/checkpoint-9/tokenizer_config.json\n",
      "Special tokens file saved in ../data/UF46992/finetune/checkpoint-9/special_tokens_map.json\n",
      "***** Running Evaluation *****\n",
      "  Num examples = 128\n",
      "  Batch size = 128\n",
      "Saving model checkpoint to ../data/UF46992/finetune/checkpoint-10\n",
      "Configuration saved in ../data/UF46992/finetune/checkpoint-10/config.json\n",
      "Model weights saved in ../data/UF46992/finetune/checkpoint-10/pytorch_model.bin\n",
      "tokenizer config file saved in ../data/UF46992/finetune/checkpoint-10/tokenizer_config.json\n",
      "Special tokens file saved in ../data/UF46992/finetune/checkpoint-10/special_tokens_map.json\n",
      "***** Running Evaluation *****\n",
      "  Num examples = 128\n",
      "  Batch size = 128\n",
      "Saving model checkpoint to ../data/UF46992/finetune/checkpoint-11\n",
      "Configuration saved in ../data/UF46992/finetune/checkpoint-11/config.json\n",
      "Model weights saved in ../data/UF46992/finetune/checkpoint-11/pytorch_model.bin\n",
      "tokenizer config file saved in ../data/UF46992/finetune/checkpoint-11/tokenizer_config.json\n",
      "Special tokens file saved in ../data/UF46992/finetune/checkpoint-11/special_tokens_map.json\n",
      "***** Running Evaluation *****\n",
      "  Num examples = 128\n",
      "  Batch size = 128\n",
      "Saving model checkpoint to ../data/UF46992/finetune/checkpoint-12\n",
      "Configuration saved in ../data/UF46992/finetune/checkpoint-12/config.json\n",
      "Model weights saved in ../data/UF46992/finetune/checkpoint-12/pytorch_model.bin\n",
      "tokenizer config file saved in ../data/UF46992/finetune/checkpoint-12/tokenizer_config.json\n",
      "Special tokens file saved in ../data/UF46992/finetune/checkpoint-12/special_tokens_map.json\n",
      "***** Running Evaluation *****\n",
      "  Num examples = 128\n",
      "  Batch size = 128\n",
      "Saving model checkpoint to ../data/UF46992/finetune/checkpoint-13\n",
      "Configuration saved in ../data/UF46992/finetune/checkpoint-13/config.json\n",
      "Model weights saved in ../data/UF46992/finetune/checkpoint-13/pytorch_model.bin\n",
      "tokenizer config file saved in ../data/UF46992/finetune/checkpoint-13/tokenizer_config.json\n",
      "Special tokens file saved in ../data/UF46992/finetune/checkpoint-13/special_tokens_map.json\n",
      "***** Running Evaluation *****\n",
      "  Num examples = 128\n",
      "  Batch size = 128\n",
      "Saving model checkpoint to ../data/UF46992/finetune/checkpoint-14\n",
      "Configuration saved in ../data/UF46992/finetune/checkpoint-14/config.json\n",
      "Model weights saved in ../data/UF46992/finetune/checkpoint-14/pytorch_model.bin\n",
      "tokenizer config file saved in ../data/UF46992/finetune/checkpoint-14/tokenizer_config.json\n",
      "Special tokens file saved in ../data/UF46992/finetune/checkpoint-14/special_tokens_map.json\n",
      "***** Running Evaluation *****\n",
      "  Num examples = 128\n",
      "  Batch size = 128\n",
      "Saving model checkpoint to ../data/UF46992/finetune/checkpoint-15\n",
      "Configuration saved in ../data/UF46992/finetune/checkpoint-15/config.json\n",
      "Model weights saved in ../data/UF46992/finetune/checkpoint-15/pytorch_model.bin\n",
      "tokenizer config file saved in ../data/UF46992/finetune/checkpoint-15/tokenizer_config.json\n",
      "Special tokens file saved in ../data/UF46992/finetune/checkpoint-15/special_tokens_map.json\n",
      "***** Running Evaluation *****\n",
      "  Num examples = 128\n",
      "  Batch size = 128\n",
      "Saving model checkpoint to ../data/UF46992/finetune/checkpoint-16\n",
      "Configuration saved in ../data/UF46992/finetune/checkpoint-16/config.json\n",
      "Model weights saved in ../data/UF46992/finetune/checkpoint-16/pytorch_model.bin\n",
      "tokenizer config file saved in ../data/UF46992/finetune/checkpoint-16/tokenizer_config.json\n",
      "Special tokens file saved in ../data/UF46992/finetune/checkpoint-16/special_tokens_map.json\n",
      "***** Running Evaluation *****\n",
      "  Num examples = 128\n",
      "  Batch size = 128\n",
      "Saving model checkpoint to ../data/UF46992/finetune/checkpoint-17\n",
      "Configuration saved in ../data/UF46992/finetune/checkpoint-17/config.json\n",
      "Model weights saved in ../data/UF46992/finetune/checkpoint-17/pytorch_model.bin\n",
      "tokenizer config file saved in ../data/UF46992/finetune/checkpoint-17/tokenizer_config.json\n",
      "Special tokens file saved in ../data/UF46992/finetune/checkpoint-17/special_tokens_map.json\n",
      "***** Running Evaluation *****\n",
      "  Num examples = 128\n",
      "  Batch size = 128\n",
      "Saving model checkpoint to ../data/UF46992/finetune/checkpoint-18\n",
      "Configuration saved in ../data/UF46992/finetune/checkpoint-18/config.json\n",
      "Model weights saved in ../data/UF46992/finetune/checkpoint-18/pytorch_model.bin\n",
      "tokenizer config file saved in ../data/UF46992/finetune/checkpoint-18/tokenizer_config.json\n",
      "Special tokens file saved in ../data/UF46992/finetune/checkpoint-18/special_tokens_map.json\n",
      "***** Running Evaluation *****\n",
      "  Num examples = 128\n",
      "  Batch size = 128\n",
      "Saving model checkpoint to ../data/UF46992/finetune/checkpoint-19\n",
      "Configuration saved in ../data/UF46992/finetune/checkpoint-19/config.json\n",
      "Model weights saved in ../data/UF46992/finetune/checkpoint-19/pytorch_model.bin\n",
      "tokenizer config file saved in ../data/UF46992/finetune/checkpoint-19/tokenizer_config.json\n",
      "Special tokens file saved in ../data/UF46992/finetune/checkpoint-19/special_tokens_map.json\n",
      "***** Running Evaluation *****\n",
      "  Num examples = 128\n",
      "  Batch size = 128\n",
      "Saving model checkpoint to ../data/UF46992/finetune/checkpoint-20\n",
      "Configuration saved in ../data/UF46992/finetune/checkpoint-20/config.json\n",
      "Model weights saved in ../data/UF46992/finetune/checkpoint-20/pytorch_model.bin\n",
      "tokenizer config file saved in ../data/UF46992/finetune/checkpoint-20/tokenizer_config.json\n",
      "Special tokens file saved in ../data/UF46992/finetune/checkpoint-20/special_tokens_map.json\n",
      "\n",
      "\n",
      "Training completed. Do not forget to share your model on huggingface.co/models =)\n",
      "\n",
      "\n"
     ]
    },
    {
     "data": {
      "text/plain": [
       "TrainOutput(global_step=20, training_loss=0.6890893965959549, metrics={'train_runtime': 156.0772, 'train_samples_per_second': 16.402, 'train_steps_per_second': 0.128, 'total_flos': 52986959462400.0, 'train_loss': 0.6890893965959549, 'epoch': 20.0})"
      ]
     },
     "execution_count": 11,
     "metadata": {},
     "output_type": "execute_result"
    }
   ],
   "source": [
    "trainer.train()"
   ]
  },
  {
   "cell_type": "markdown",
   "id": "0b6d3212-6e29-447e-8e62-da18b3d532b0",
   "metadata": {},
   "source": [
    "### It looks like epoch ?? is best\n",
    "\n",
    "Path = ../data/UF46992/models/checkpoint-??\n"
   ]
  },
  {
   "cell_type": "code",
   "execution_count": null,
   "id": "ea69fa1d-b1bc-4f56-993d-b6ad62e49848",
   "metadata": {},
   "outputs": [],
   "source": []
  }
 ],
 "metadata": {
  "kernelspec": {
   "display_name": "Python 3 (ipykernel)",
   "language": "python",
   "name": "python3"
  },
  "language_info": {
   "codemirror_mode": {
    "name": "ipython",
    "version": 3
   },
   "file_extension": ".py",
   "mimetype": "text/x-python",
   "name": "python",
   "nbconvert_exporter": "python",
   "pygments_lexer": "ipython3",
   "version": "3.10.4"
  }
 },
 "nbformat": 4,
 "nbformat_minor": 5
}
