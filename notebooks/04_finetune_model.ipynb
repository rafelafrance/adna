{
 "cells": [
  {
   "cell_type": "code",
   "execution_count": 1,
   "id": "7f6c9a5c-6d73-4c5f-8b32-16754ccec225",
   "metadata": {},
   "outputs": [],
   "source": [
    "import sys\n",
    "\n",
    "sys.path.append(\"..\")"
   ]
  },
  {
   "cell_type": "code",
   "execution_count": 2,
   "id": "0ea991ed-8e0a-4ae3-a996-d2633b1682c7",
   "metadata": {},
   "outputs": [],
   "source": [
    "from transformers import (\n",
    "    DataCollatorWithPadding,\n",
    "    RobertaForSequenceClassification,\n",
    "    RobertaTokenizerFast,\n",
    "    TrainingArguments,\n",
    ")\n",
    "\n",
    "from adna.pylib import consts\n",
    "from adna.pylib.bpe_dataset import BPEDataset\n",
    "from adna.pylib.weighted_trainer import WeightedTrainer"
   ]
  },
  {
   "cell_type": "markdown",
   "id": "00730920-36a7-4fb6-a6ac-2bdd84a5a97f",
   "metadata": {},
   "source": [
    "## The model to fine tune"
   ]
  },
  {
   "cell_type": "code",
   "execution_count": 3,
   "id": "69ffd778-4ae5-4284-a686-23a472582ab2",
   "metadata": {},
   "outputs": [],
   "source": [
    "MODEL_PATH = consts.MT_DIR / \"train\" / \"checkpoint-28443\""
   ]
  },
  {
   "cell_type": "markdown",
   "id": "25c17549-8e67-4f7b-8254-6f4fc918ae18",
   "metadata": {},
   "source": [
    "## Data augmentation parameters"
   ]
  },
  {
   "cell_type": "code",
   "execution_count": 4,
   "id": "1390568d-c999-4fbb-bfdc-0935718abd13",
   "metadata": {},
   "outputs": [],
   "source": [
    "REV_COMP_RATE = 0.5\n",
    "TO_N_RATE = 0.02"
   ]
  },
  {
   "cell_type": "markdown",
   "id": "abd6fd33-28e6-44e6-90dd-766a8772048d",
   "metadata": {},
   "source": [
    "## Training parameters"
   ]
  },
  {
   "cell_type": "code",
   "execution_count": 5,
   "id": "1bacb371-f1be-45f3-91a2-448e31a28887",
   "metadata": {},
   "outputs": [],
   "source": [
    "TRAIN_EPOCHS = 20\n",
    "LEARNING_RATE = 1e-5\n",
    "TRAIN_BATCH_SIZE = 192\n",
    "EVAL_BATCH_SIZE = 192\n",
    "\n",
    "MODEL_DIR = \"finetune\"  # Save check points to this sub-directory"
   ]
  },
  {
   "cell_type": "markdown",
   "id": "b9807cf0-fcb4-48e8-87ac-013b1aa53e8b",
   "metadata": {},
   "source": [
    "## Get the tokenizer"
   ]
  },
  {
   "cell_type": "code",
   "execution_count": 6,
   "id": "e15fc2ee-0451-482b-a959-809b44c1d363",
   "metadata": {},
   "outputs": [],
   "source": [
    "tokenizer_path = str(consts.MT_DIR)\n",
    "tokenizer = RobertaTokenizerFast.from_pretrained(tokenizer_path)"
   ]
  },
  {
   "cell_type": "markdown",
   "id": "1b6ea645-14c6-4e7b-ad24-753601346cea",
   "metadata": {},
   "source": [
    "## Get the datasets"
   ]
  },
  {
   "cell_type": "code",
   "execution_count": 7,
   "id": "660736a6-3280-484b-9ad8-98e2b45bbe48",
   "metadata": {},
   "outputs": [],
   "source": [
    "train_dataset = BPEDataset(\n",
    "    \"train\",\n",
    "    tokenizer,\n",
    "    rev_comp_rate=REV_COMP_RATE,\n",
    "    to_n_rate=TO_N_RATE,\n",
    ")\n",
    "eval_dataset = BPEDataset(\"val\", tokenizer)"
   ]
  },
  {
   "cell_type": "markdown",
   "id": "ee1055ac-8534-4315-b8c8-c47b59aec783",
   "metadata": {},
   "source": [
    "## Get the weights"
   ]
  },
  {
   "cell_type": "code",
   "execution_count": 8,
   "id": "6a13b4fd-06e3-4b2a-963a-71694f45ef6d",
   "metadata": {},
   "outputs": [
    {
     "data": {
      "text/plain": [
       "array([0.60151492, 2.96269211])"
      ]
     },
     "execution_count": 8,
     "metadata": {},
     "output_type": "execute_result"
    }
   ],
   "source": [
    "WEIGHTS = train_dataset.get_weights()\n",
    "WEIGHTS"
   ]
  },
  {
   "cell_type": "markdown",
   "id": "3c76ff14-fc24-48df-b93b-82607e094d73",
   "metadata": {},
   "source": [
    "## Get the model"
   ]
  },
  {
   "cell_type": "code",
   "execution_count": 9,
   "id": "e2a9e245-8709-4424-8839-733c4e61657c",
   "metadata": {},
   "outputs": [],
   "source": [
    "model = RobertaForSequenceClassification.from_pretrained(\n",
    "    MODEL_PATH, local_files_only=True\n",
    ")"
   ]
  },
  {
   "cell_type": "markdown",
   "id": "20e9302b-55d5-4b22-87c3-6a7d304823a1",
   "metadata": {},
   "source": [
    "## Build the data collator"
   ]
  },
  {
   "cell_type": "code",
   "execution_count": 10,
   "id": "edc2c8e7-3f9f-418d-ba31-0598d1151c04",
   "metadata": {},
   "outputs": [],
   "source": [
    "data_collator = DataCollatorWithPadding(\n",
    "    tokenizer=tokenizer,\n",
    "    padding=\"max_length\",\n",
    "    max_length=consts.MAX_LENGTH,\n",
    ")"
   ]
  },
  {
   "cell_type": "markdown",
   "id": "02ab391f-2aca-41be-9132-72309e95dadb",
   "metadata": {},
   "source": [
    "## Build the trainer"
   ]
  },
  {
   "cell_type": "code",
   "execution_count": 11,
   "id": "e4dc8f6b-3973-4aa8-a410-df79782891e5",
   "metadata": {},
   "outputs": [],
   "source": [
    "training_args = TrainingArguments(\n",
    "    output_dir=consts.MT_DIR / MODEL_DIR,\n",
    "    overwrite_output_dir=True,\n",
    "    num_train_epochs=TRAIN_EPOCHS,\n",
    "    learning_rate=LEARNING_RATE,\n",
    "    per_device_train_batch_size=TRAIN_BATCH_SIZE,\n",
    "    per_device_eval_batch_size=EVAL_BATCH_SIZE,\n",
    "    evaluation_strategy=\"epoch\",\n",
    "    logging_strategy=\"epoch\",\n",
    "    save_strategy=\"epoch\",\n",
    "    seed=23,\n",
    ")"
   ]
  },
  {
   "cell_type": "code",
   "execution_count": 12,
   "id": "80ae48ab-ccb9-49f2-a100-1562e5d44c1c",
   "metadata": {},
   "outputs": [],
   "source": [
    "trainer = WeightedTrainer(\n",
    "    WEIGHTS,\n",
    "    model=model,\n",
    "    args=training_args,\n",
    "    train_dataset=train_dataset,\n",
    "    eval_dataset=eval_dataset,\n",
    "    tokenizer=tokenizer,\n",
    "    data_collator=data_collator,\n",
    ")"
   ]
  },
  {
   "cell_type": "markdown",
   "id": "d88e7d17-abe6-4a78-8110-158702cf678e",
   "metadata": {},
   "source": [
    "## Train"
   ]
  },
  {
   "cell_type": "code",
   "execution_count": null,
   "id": "953a6414-e129-4a41-8bc2-b90c03544ee3",
   "metadata": {},
   "outputs": [
    {
     "name": "stderr",
     "output_type": "stream",
     "text": [
      "/museum/rafe/other/adna/.venv/lib/python3.10/site-packages/transformers/optimization.py:306: FutureWarning: This implementation of AdamW is deprecated and will be removed in a future version. Use the PyTorch implementation torch.optim.AdamW instead, or set `no_deprecation_warning=True` to disable this warning\n",
      "  warnings.warn(\n",
      "***** Running training *****\n",
      "  Num examples = 287233\n",
      "  Num Epochs = 20\n",
      "  Instantaneous batch size per device = 192\n",
      "  Total train batch size (w. parallel, distributed & accumulation) = 192\n",
      "  Gradient Accumulation steps = 1\n",
      "  Total optimization steps = 29940\n"
     ]
    },
    {
     "data": {
      "text/html": [
       "\n",
       "    <div>\n",
       "      \n",
       "      <progress value='950' max='29940' style='width:300px; height:20px; vertical-align: middle;'></progress>\n",
       "      [  950/29940 06:56 < 3:32:09, 2.28 it/s, Epoch 0.63/20]\n",
       "    </div>\n",
       "    <table border=\"1\" class=\"dataframe\">\n",
       "  <thead>\n",
       " <tr style=\"text-align: left;\">\n",
       "      <th>Epoch</th>\n",
       "      <th>Training Loss</th>\n",
       "      <th>Validation Loss</th>\n",
       "    </tr>\n",
       "  </thead>\n",
       "  <tbody>\n",
       "  </tbody>\n",
       "</table><p>"
      ],
      "text/plain": [
       "<IPython.core.display.HTML object>"
      ]
     },
     "metadata": {},
     "output_type": "display_data"
    }
   ],
   "source": [
    "trainer.train()"
   ]
  },
  {
   "cell_type": "markdown",
   "id": "0b6d3212-6e29-447e-8e62-da18b3d532b0",
   "metadata": {},
   "source": [
    "### It looks like epoch ?? is best\n",
    "\n",
    "Path = ../data/UF46992/models/checkpoint-??\n"
   ]
  },
  {
   "cell_type": "code",
   "execution_count": null,
   "id": "ea69fa1d-b1bc-4f56-993d-b6ad62e49848",
   "metadata": {},
   "outputs": [],
   "source": []
  }
 ],
 "metadata": {
  "kernelspec": {
   "display_name": "Python 3 (ipykernel)",
   "language": "python",
   "name": "python3"
  },
  "language_info": {
   "codemirror_mode": {
    "name": "ipython",
    "version": 3
   },
   "file_extension": ".py",
   "mimetype": "text/x-python",
   "name": "python",
   "nbconvert_exporter": "python",
   "pygments_lexer": "ipython3",
   "version": "3.10.4"
  }
 },
 "nbformat": 4,
 "nbformat_minor": 5
}
