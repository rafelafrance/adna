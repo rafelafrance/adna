{
 "cells": [
  {
   "cell_type": "markdown",
   "id": "b30a9691-5a01-445c-af17-40d929422b17",
   "metadata": {},
   "source": [
    "# Setup the training data for the model"
   ]
  },
  {
   "cell_type": "code",
   "execution_count": 1,
   "id": "a8163ef0-2ddb-4481-ab95-15f40bb07aac",
   "metadata": {},
   "outputs": [],
   "source": [
    "import sys\n",
    "\n",
    "sys.path.append('..')"
   ]
  },
  {
   "cell_type": "code",
   "execution_count": 2,
   "id": "d0893509-eb89-4522-a8b5-e5c75ec95e43",
   "metadata": {},
   "outputs": [],
   "source": [
    "import sqlite3\n",
    "from collections import defaultdict\n",
    "from dataclasses import dataclass, field\n",
    "\n",
    "import pandas as pd\n",
    "from Bio.SeqIO.FastaIO import SimpleFastaParser\n",
    "from sklearn.model_selection import train_test_split\n",
    "\n",
    "from adna.pylib import consts, utils"
   ]
  },
  {
   "cell_type": "code",
   "execution_count": 3,
   "id": "b4ee8b17-784b-43ee-a717-b070f89c7736",
   "metadata": {},
   "outputs": [],
   "source": [
    "GOOD_DIR = consts.DATA_DIR / 'raw' / 'mostly_on_target'\n",
    "RAW_DIR = consts.DATA_DIR / 'raw' / 'raw_data'\n",
    "MT_DIR = consts.DATA_DIR / 'raw' / 'reference_mitogenome'"
   ]
  },
  {
   "cell_type": "markdown",
   "id": "49e3df72-bc5c-44fe-bd5e-9da1f1e708d6",
   "metadata": {},
   "source": [
    "## Get the positives"
   ]
  },
  {
   "cell_type": "code",
   "execution_count": 4,
   "id": "3956859a-dfca-489b-876f-c16a2706e077",
   "metadata": {},
   "outputs": [
    {
     "data": {
      "text/plain": [
       "2553721"
      ]
     },
     "execution_count": 4,
     "metadata": {},
     "output_type": "execute_result"
    }
   ],
   "source": [
    "GOOD = set()\n",
    "for path in GOOD_DIR.glob('*.gz'):\n",
    "    with utils.open_file(path) as fasta_file:\n",
    "        for rec in SimpleFastaParser(fasta_file):\n",
    "            GOOD.add(rec[0])\n",
    "\n",
    "len(GOOD)"
   ]
  },
  {
   "cell_type": "markdown",
   "id": "41c8c1db-bd30-4b6e-9eb0-52e3874e2608",
   "metadata": {},
   "source": [
    "## Read raw data"
   ]
  },
  {
   "cell_type": "code",
   "execution_count": 5,
   "id": "5a9969e3-b6bf-42bd-ac23-a0d1fbbe28f6",
   "metadata": {},
   "outputs": [],
   "source": [
    "@dataclass\n",
    "class SeqCounts:\n",
    "    ids: list[str] = field(default_factory=list)\n",
    "    label_0: int = 0\n",
    "    label_1: int = 0\n",
    "    rev_0: int = 0\n",
    "    rev_1: int = 0"
   ]
  },
  {
   "cell_type": "code",
   "execution_count": 6,
   "id": "c010771c-8db2-40bd-9ba8-a1092fcec1f6",
   "metadata": {},
   "outputs": [],
   "source": [
    "SEQS = defaultdict(SeqCounts)"
   ]
  },
  {
   "cell_type": "code",
   "execution_count": 7,
   "id": "e034d9d4-a510-4072-92af-55292e84e5fc",
   "metadata": {},
   "outputs": [
    {
     "data": {
      "text/plain": [
       "478722"
      ]
     },
     "execution_count": 7,
     "metadata": {},
     "output_type": "execute_result"
    }
   ],
   "source": [
    "for path in RAW_DIR.glob('*.gz'):\n",
    "    with utils.open_file(path) as fasta_file:\n",
    "        for rec in SimpleFastaParser(fasta_file):\n",
    "            id_ = rec[0].replace(' ', '_')\n",
    "            rev = id_ + '_(reversed)'\n",
    "\n",
    "            count = SEQS[rec[1]]\n",
    "            count.ids.append(id_)\n",
    "\n",
    "            if id_ in GOOD:\n",
    "                count.label_1 += 1\n",
    "            else:\n",
    "                count.label_0 += 1\n",
    "\n",
    "            if rev in GOOD:\n",
    "                count.rev_1 += 1\n",
    "            else:\n",
    "                count.rev_0 += 1\n",
    "\n",
    "len(SEQS)"
   ]
  },
  {
   "cell_type": "markdown",
   "id": "a5ad3594-c214-41d4-9d61-870c224ad6ff",
   "metadata": {},
   "source": [
    "## Remove duplicate sequences"
   ]
  },
  {
   "cell_type": "code",
   "execution_count": 8,
   "id": "0cb7e691-e60a-460b-b3a9-824c23181062",
   "metadata": {},
   "outputs": [
    {
     "data": {
      "text/plain": [
       "478722"
      ]
     },
     "execution_count": 8,
     "metadata": {},
     "output_type": "execute_result"
    }
   ],
   "source": [
    "for seq, count in SEQS.items():\n",
    "    if count.label_1 > 0 and count.label_0 > 0:\n",
    "        del SEQS[seq]\n",
    "        continue\n",
    "    if count.rev_1 > 0 and count.rev_0 > 0:\n",
    "        del SEQS[seq]\n",
    "\n",
    "len(SEQS)"
   ]
  },
  {
   "cell_type": "markdown",
   "id": "999d920c-3bc6-482f-bc4c-bdfe0690a08b",
   "metadata": {},
   "source": [
    "## Create data frame"
   ]
  },
  {
   "cell_type": "code",
   "execution_count": 9,
   "id": "2e42b6bd-ec55-457f-b7bb-5a5a0da29b78",
   "metadata": {},
   "outputs": [],
   "source": [
    "RECS = []\n",
    "for seq, count in SEQS.items():\n",
    "    RECS.append({\n",
    "        'id': count.ids[0],\n",
    "        'seq': seq,\n",
    "        'label': 1 if count.label_1 > 0 else 0,\n",
    "        'rev': 1 if count.rev_1 > 0 else 0,\n",
    "        'dups': len(count.ids),\n",
    "        'split': '',\n",
    "    })"
   ]
  },
  {
   "cell_type": "code",
   "execution_count": 10,
   "id": "46535ec8-8111-43ba-9b72-1bd347652cc9",
   "metadata": {},
   "outputs": [
    {
     "data": {
      "text/html": [
       "<div>\n",
       "<style scoped>\n",
       "    .dataframe tbody tr th:only-of-type {\n",
       "        vertical-align: middle;\n",
       "    }\n",
       "\n",
       "    .dataframe tbody tr th {\n",
       "        vertical-align: top;\n",
       "    }\n",
       "\n",
       "    .dataframe thead th {\n",
       "        text-align: right;\n",
       "    }\n",
       "</style>\n",
       "<table border=\"1\" class=\"dataframe\">\n",
       "  <thead>\n",
       "    <tr style=\"text-align: right;\">\n",
       "      <th></th>\n",
       "      <th>id</th>\n",
       "      <th>seq</th>\n",
       "      <th>label</th>\n",
       "      <th>rev</th>\n",
       "      <th>dups</th>\n",
       "      <th>split</th>\n",
       "    </tr>\n",
       "  </thead>\n",
       "  <tbody>\n",
       "    <tr>\n",
       "      <th>0</th>\n",
       "      <td>A00916:157:HLNFGDSX2:2:1101:8377:1000_1:N:0:CG...</td>\n",
       "      <td>GGGTGCACTAATAACTAGCTCAGTGTGTCTACGCCAAATTGACCTA...</td>\n",
       "      <td>1</td>\n",
       "      <td>0</td>\n",
       "      <td>1</td>\n",
       "      <td></td>\n",
       "    </tr>\n",
       "    <tr>\n",
       "      <th>1</th>\n",
       "      <td>A00916:157:HLNFGDSX2:2:1101:12825:1000_1:N:0:C...</td>\n",
       "      <td>GCATTTCATCAAACTGCGACAAAATCCCATTCCACCCCTACTTCTC...</td>\n",
       "      <td>1</td>\n",
       "      <td>0</td>\n",
       "      <td>1</td>\n",
       "      <td></td>\n",
       "    </tr>\n",
       "    <tr>\n",
       "      <th>2</th>\n",
       "      <td>A00916:157:HLNFGDSX2:2:1101:13675:1000_1:N:0:C...</td>\n",
       "      <td>TTTTTTGGCCTTCAAGGATGAATTAATGATACGGTTTCGGGTGTAA...</td>\n",
       "      <td>0</td>\n",
       "      <td>0</td>\n",
       "      <td>1</td>\n",
       "      <td></td>\n",
       "    </tr>\n",
       "    <tr>\n",
       "      <th>3</th>\n",
       "      <td>A00916:157:HLNFGDSX2:2:1101:18539:1000_1:N:0:C...</td>\n",
       "      <td>CTATTCTTCTACCTACGCCTGGCGTACTGCTCCACTATCACACTTT...</td>\n",
       "      <td>0</td>\n",
       "      <td>0</td>\n",
       "      <td>7</td>\n",
       "      <td></td>\n",
       "    </tr>\n",
       "    <tr>\n",
       "      <th>4</th>\n",
       "      <td>A00916:157:HLNFGDSX2:2:1101:20943:1000_1:N:0:C...</td>\n",
       "      <td>TTTACTGCCTATTTTATCAATTGTCACGAAACAACGTTCCACTTAA...</td>\n",
       "      <td>0</td>\n",
       "      <td>0</td>\n",
       "      <td>3</td>\n",
       "      <td></td>\n",
       "    </tr>\n",
       "  </tbody>\n",
       "</table>\n",
       "</div>"
      ],
      "text/plain": [
       "                                                  id  \\\n",
       "0  A00916:157:HLNFGDSX2:2:1101:8377:1000_1:N:0:CG...   \n",
       "1  A00916:157:HLNFGDSX2:2:1101:12825:1000_1:N:0:C...   \n",
       "2  A00916:157:HLNFGDSX2:2:1101:13675:1000_1:N:0:C...   \n",
       "3  A00916:157:HLNFGDSX2:2:1101:18539:1000_1:N:0:C...   \n",
       "4  A00916:157:HLNFGDSX2:2:1101:20943:1000_1:N:0:C...   \n",
       "\n",
       "                                                 seq  label  rev  dups split  \n",
       "0  GGGTGCACTAATAACTAGCTCAGTGTGTCTACGCCAAATTGACCTA...      1    0     1        \n",
       "1  GCATTTCATCAAACTGCGACAAAATCCCATTCCACCCCTACTTCTC...      1    0     1        \n",
       "2  TTTTTTGGCCTTCAAGGATGAATTAATGATACGGTTTCGGGTGTAA...      0    0     1        \n",
       "3  CTATTCTTCTACCTACGCCTGGCGTACTGCTCCACTATCACACTTT...      0    0     7        \n",
       "4  TTTACTGCCTATTTTATCAATTGTCACGAAACAACGTTCCACTTAA...      0    0     3        "
      ]
     },
     "execution_count": 10,
     "metadata": {},
     "output_type": "execute_result"
    }
   ],
   "source": [
    "df = pd.DataFrame(RECS)\n",
    "df.head()"
   ]
  },
  {
   "cell_type": "markdown",
   "id": "55ad1fcc-dcaf-4964-ba2d-dbdb350724c4",
   "metadata": {},
   "source": [
    "## Split the data"
   ]
  },
  {
   "cell_type": "code",
   "execution_count": 11,
   "id": "7899811d-b446-41cf-a164-54a56479f4a1",
   "metadata": {},
   "outputs": [],
   "source": [
    "train, other = train_test_split(df, train_size=0.6, random_state=23)\n",
    "val, test = train_test_split(other, train_size=0.5, random_state=45)"
   ]
  },
  {
   "cell_type": "code",
   "execution_count": 12,
   "id": "3eedd675-7b6d-467e-98dc-bad37558419b",
   "metadata": {},
   "outputs": [],
   "source": [
    "train.split = 'train'\n",
    "val.split = 'val'\n",
    "test.split = 'test'"
   ]
  },
  {
   "cell_type": "markdown",
   "id": "d6a51e06-054d-4e5e-92a3-a87b076ad469",
   "metadata": {},
   "source": [
    "## Write data to database"
   ]
  },
  {
   "cell_type": "code",
   "execution_count": 13,
   "id": "6b824ec6-2450-4cfe-9e32-249bc9c6c9be",
   "metadata": {},
   "outputs": [],
   "source": [
    "with sqlite3.connect(consts.SQL) as cxn:\n",
    "    train.to_sql('seqs', cxn, if_exists='replace', index=False)\n",
    "    val.to_sql('seqs', cxn, if_exists='append', index=False)\n",
    "    test.to_sql('seqs', cxn, if_exists='append', index=False)"
   ]
  },
  {
   "cell_type": "code",
   "execution_count": null,
   "id": "2a468a39-73db-4338-82af-5ce9f8d945d5",
   "metadata": {},
   "outputs": [],
   "source": []
  }
 ],
 "metadata": {
  "kernelspec": {
   "display_name": "Python 3 (ipykernel)",
   "language": "python",
   "name": "python3"
  },
  "language_info": {
   "codemirror_mode": {
    "name": "ipython",
    "version": 3
   },
   "file_extension": ".py",
   "mimetype": "text/x-python",
   "name": "python",
   "nbconvert_exporter": "python",
   "pygments_lexer": "ipython3",
   "version": "3.10.4"
  }
 },
 "nbformat": 4,
 "nbformat_minor": 5
}
